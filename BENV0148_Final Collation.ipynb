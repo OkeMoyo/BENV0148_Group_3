{
 "cells": [
  {
   "cell_type": "markdown",
   "id": "9605ca32",
   "metadata": {},
   "source": [
    "# **Forecasting the Impact of Climate Change on Great Britain’s Offshore Wind Generation Using Deep Learning**"
   ]
  },
  {
   "cell_type": "markdown",
   "id": "8f70b7e8",
   "metadata": {},
   "source": [
    "### Group 3:\n",
    "**Candidate Codes:** (KXBS7, PNXF3, NQMJ9, NCJB4, MMVQ8, KVQS4)"
   ]
  },
  {
   "cell_type": "markdown",
   "id": "05194a43",
   "metadata": {},
   "source": [
    "## **Table of Content**"
   ]
  },
  {
   "cell_type": "markdown",
   "id": "914f9e4f",
   "metadata": {},
   "source": [
    "1. Introduction\n",
    "2. Data Sources\n",
    "3. Data Extraction\n",
    "4. Data Preprocessing\n",
    "5. Baseline Modelling\n",
    "6. Model Development and Evaluation\n",
    "7. Hyperparameter Tuning\n",
    "8. Model application"
   ]
  },
  {
   "cell_type": "markdown",
   "id": "c8e30ed6",
   "metadata": {},
   "source": [
    "## **Introduction**\n",
    "Climate change is exerting a significant influence on global weather patterns, as evidenced by the increasing frequency of heatwaves, wildfires, and other extreme weather events. As renewable energy has become central to decarbonization strategies within the power sector, it is critical to understand the long-term impacts of climate change on the performance of renewable energy assets, particularly given that changes in climate patterns can directly affect their energy output.\n",
    "\n",
    "The trajectory of future climate conditions depends largely on present-day energy policies and the rate of technological advancement. Several climate models have been developed to project future scenarios based on varying assumptions. Among these, the Representative Concentration Pathways (RCPs), developed by the climate science community, provide standardized scenarios that relate different policy choices to levels of radiative forcing.\n",
    "\n",
    "The aim of this study is to evaluate the impacts of climate change on offshore wind generation in Great Britain under different RCP scenarios. This study focuses on offshore wind in particular as it constitutes a major component of the renewable energy mix in Great Britain. Offshore wind farms have experienced rapid development due to the region’s favourable wind conditions and the advantages offshore sites offer in terms of consistent wind speeds.\n",
    "\n",
    "A deep learning approach is applied in conducting this study under two specific scenarios:\n",
    "\n",
    "1. Representative Concentration Pathway (RCP) 8.5 — a high-emission, business-as-usual scenario; and\n",
    "\n",
    "2. Representative Concentration Pathway (RCP) 2.6 — a low-emission, best-case scenario.\n",
    "\n",
    "The findings will enable policymakers and stakeholders to better evaluate the resilience of the United Kingdom’s offshore wind strategy and to identify necessary contingencies to maintain long-term energy security.\n",
    "\n",
    "___\n"
   ]
  },
  {
   "cell_type": "markdown",
   "id": "78b32e92",
   "metadata": {},
   "source": [
    "### **Project Aim**\n",
    "To investigate the impact of climate change on Great Britain's offshore wind generation by developing a deep learning-based forecasting model under the RCP 2.6 and 8.5 scenarios. This analysis is conducted at the wind farm level to extract granular and actionable insights."
   ]
  },
  {
   "cell_type": "markdown",
   "id": "09fe5415",
   "metadata": {},
   "source": [
    "### **Objectives**\n",
    "1. **Data Collection and Preprocessing:**  \n",
    "Gather and preprocess granular wind farm-level data on offshore wind generation, historical meteorological variables, and future climate projections.\n",
    "\n",
    "2. **Exploratory Data Analysis:**  \n",
    "Analyze wind farm-specific data to identify key factors (local wind speeds, seasonal trends, and climate variations) influencing offshore wind generation.\n",
    "\n",
    "3. **Model Development:**  \n",
    "Develop a deep learning model capable of forecasting wind farm-level generation based on historical wind generation and climate data.\n",
    "\n",
    "4. **Scenario-Based Forecasting:**  \n",
    "Forecast future wind generation at individual wind farm sites under RCP 8.5 and RCP 2.6 climate scenarios using climate data projections.\n",
    "\n",
    "5. **Impact Analysis:**  \n",
    "Analyze the impact of climate change on individual wind farms, examining how different climate scenarios affect regional performance and the overall capacity of the offshore wind sector in Great Britain."
   ]
  },
  {
   "cell_type": "code",
   "execution_count": null,
   "id": "8a9405a8",
   "metadata": {
    "vscode": {
     "languageId": "plaintext"
    }
   },
   "outputs": [],
   "source": [
    "# Push code to GitHub\n"
   ]
  }
 ],
 "metadata": {
  "language_info": {
   "name": "python"
  }
 },
 "nbformat": 4,
 "nbformat_minor": 5
}
