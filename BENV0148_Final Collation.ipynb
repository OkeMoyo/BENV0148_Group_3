{
 "cells": [
  {
   "cell_type": "markdown",
   "id": "9605ca32",
   "metadata": {},
   "source": [
    "# **Forecasting the Impact of Climate Change on Great Britain’s Offshore Wind Generation using Deep Learning**"
   ]
  },
  {
   "cell_type": "markdown",
   "id": "8f70b7e8",
   "metadata": {},
   "source": [
    "### Group 3:\n",
    "**Candidate Codes:** (KXBS7, PNXF3, NQMJ9, NCJB4, MMVQ8, KVQS4)"
   ]
  },
  {
   "cell_type": "markdown",
   "id": "05194a43",
   "metadata": {},
   "source": [
    "## **Table of Content**"
   ]
  },
  {
   "cell_type": "markdown",
   "id": "914f9e4f",
   "metadata": {},
   "source": [
    "1. Introduction\n",
    "2. Data Sources\n",
    "3. Data Extraction\n",
    "4. Data Preprocessing\n",
    "5. Baseline Modelling\n",
    "6. Model Development and Evaluation\n",
    "7. Hyperparameter Tuning\n",
    "8. Model application"
   ]
  },
  {
   "cell_type": "markdown",
   "id": "c8e30ed6",
   "metadata": {},
   "source": [
    "## **Introduction**\n",
    "Climate change is exerting a significant influence on global weather patterns, as evidenced by the increasing frequency of heatwaves, wildfires, and other extreme weather events. As renewable energy has become central to decarbonization strategies within the power sector, it is critical to understand the long-term impacts of climate change on the performance of renewable energy assets, particularly given that changes in climate patterns can directly affect their energy output.\n",
    "\n",
    "The trajectory of future climate conditions depends largely on present-day energy policies and the rate of technological advancement. Several climate models have been developed to project future scenarios based on varying assumptions. Among these, the Representative Concentration Pathways (RCPs), developed by the climate science community, provide standardized scenarios that relate different policy choices to levels of radiative forcing.\n",
    "\n",
    "The aim of this study is to evaluate the impacts of climate change on offshore wind generation in Great Britain under different RCP scenarios. This study focuses on offshore wind in particular as it constitutes a major component of the renewable energy mix in Great Britain. Offshore wind farms have experienced rapid development due to the region’s favourable wind conditions and the advantages offshore sites offer in terms of consistent wind speeds.\n",
    "\n",
    "A deep learning approach is applied in conducting this study under two specific scenarios:\n",
    "\n",
    "1. Representative Concentration Pathway (RCP) 8.5 — a high-emission, business-as-usual scenario; and\n",
    "\n",
    "2. Representative Concentration Pathway (RCP) 2.6 — a low-emission, best-case scenario.\n",
    "\n",
    "The findings will enable policymakers and stakeholders to better evaluate the resilience of the United Kingdom’s offshore wind strategy and to identify necessary contingencies to maintain long-term energy security.\n",
    "\n",
    "___\n"
   ]
  },
  {
   "cell_type": "markdown",
   "id": "78b32e92",
   "metadata": {},
   "source": [
    "### **Project Aim**\n",
    "To investigate the impact of climate change on Great Britain's offshore wind generation by developing a deep learning-based forecasting model under the RCP 2.6 and 8.5 scenarios. This analysis is conducted at the wind farm level to extract granular and actionable insights."
   ]
  },
  {
   "cell_type": "markdown",
   "id": "09fe5415",
   "metadata": {},
   "source": [
    "### **Objectives**\n",
    "1. **Data Collection and Preprocessing:**  \n",
    "Gather and preprocess granular wind farm-level data on offshore wind generation, historical meteorological variables, and future climate projections.\n",
    "\n",
    "2. **Exploratory Data Analysis:**  \n",
    "Analyze wind farm-specific data to identify key factors (local wind speeds, seasonal trends, and climate variations) influencing offshore wind generation.\n",
    "\n",
    "3. **Model Development:**  \n",
    "Develop a deep learning model capable of forecasting wind farm-level generation based on historical wind generation and climate data.\n",
    "\n",
    "4. **Scenario-Based Forecasting:**  \n",
    "Forecast future wind generation at individual wind farm sites under RCP 8.5 and RCP 2.6 climate scenarios using climate data projections.\n",
    "\n",
    "5. **Impact Analysis:**  \n",
    "Analyze the impact of climate change on individual wind farms, examining how different climate scenarios affect regional performance and the overall capacity of the offshore wind sector in Great Britain."
   ]
  },
  {
   "cell_type": "markdown",
   "id": "0854b7f1",
   "metadata": {},
   "source": [
    "## **Methodology**\n",
    "The approach this study takes is to train a deep learning model to predict wind generation based on historical wind generation and historical climate data. Then, the model is used to predict future wind generation under the RCP 2.6 and 8.5 scenarios using projected climate data for the respective scenarios.\n",
    "\n",
    "The image below shows the detailed methodology."
   ]
  },
  {
   "cell_type": "markdown",
   "id": "a63503e4",
   "metadata": {},
   "source": [
    "![Methodology](Methodology.png)"
   ]
  },
  {
   "cell_type": "markdown",
   "id": "b64874fc",
   "metadata": {},
   "source": [
    "## **Data Sources**\n",
    "1. **Elexon** - Wind generation data per wind farm, from 2019 - 2024\n",
    "2. **Climate Data Store, ERA5** - Historical climate data, 2019 - 2024\n",
    "3. **Climate Data Store, CMIP5, CMIP6** - Project climate data under RCP 2.6 and RCP 8.5 scenarios, 2025 - 2045"
   ]
  },
  {
   "cell_type": "markdown",
   "id": "63efc6a0",
   "metadata": {},
   "source": [
    "## **Data Extraction**\n"
   ]
  },
  {
   "cell_type": "markdown",
   "id": "b16391f5",
   "metadata": {},
   "source": [
    "### **Historical Climate Data Extraction**"
   ]
  },
  {
   "cell_type": "markdown",
   "id": "bb68831c",
   "metadata": {},
   "source": [
    "The historical climate data is extracted from the \"Climate Data Store\" under the ERA5 model.\n",
    "\n",
    "Data is extracted for 2019-2024 as that is the period for which historical wind generation data is extracted.\n",
    "\n",
    "Note that certain wind farms act as multiple Balancing Mechanism Units (BMUs)."
   ]
  },
  {
   "cell_type": "code",
   "execution_count": null,
   "id": "ff14a9eb",
   "metadata": {},
   "outputs": [],
   "source": [
    "# Import the required packages \n",
    "# If needed, first install the packages using \"!pip install package_name\" (replace package_name with the name of the package)\n",
    "import cdsapi\n",
    "import numpy as np\n",
    "import pandas as pd\n",
    "import requests\n",
    "import csv\n",
    "from io import StringIO\n",
    "from datetime import datetime, timedelta\n",
    "import os"
   ]
  },
  {
   "cell_type": "code",
   "execution_count": null,
   "id": "6517b302",
   "metadata": {},
   "outputs": [],
   "source": [
    "# Import the csv file containing all wind farm BMUs & locations\n",
    "bmu_data_analysed = pd.read_csv(\"https://raw.githubusercontent.com/OkeMoyo/BENV0148_Group_3/main/Analysis%20of%20BMU%20not%20collecting.csv\",\n",
    "encoding=\"ISO-8859-1\")"
   ]
  },
  {
   "cell_type": "code",
   "execution_count": 23,
   "id": "18b542cc",
   "metadata": {},
   "outputs": [
    {
     "name": "stdout",
     "output_type": "stream",
     "text": [
      "There are  66 total BMUs in the dataset.\n"
     ]
    },
    {
     "data": {
      "application/vnd.microsoft.datawrangler.viewer.v0+json": {
       "columns": [
        {
         "name": "index",
         "rawType": "int64",
         "type": "integer"
        },
        {
         "name": "Unnamed: 0.1",
         "rawType": "int64",
         "type": "integer"
        },
        {
         "name": "Common Name",
         "rawType": "object",
         "type": "string"
        },
        {
         "name": "Settlement BMU ID",
         "rawType": "object",
         "type": "string"
        },
        {
         "name": "Data Retrieved?",
         "rawType": "object",
         "type": "string"
        },
        {
         "name": "REPD ID (New)",
         "rawType": "int64",
         "type": "integer"
        },
        {
         "name": "Unnamed: 0",
         "rawType": "int64",
         "type": "integer"
        },
        {
         "name": "Ref ID",
         "rawType": "int64",
         "type": "integer"
        },
        {
         "name": "Operator (or Applicant)",
         "rawType": "object",
         "type": "string"
        },
        {
         "name": "Site Name",
         "rawType": "object",
         "type": "string"
        },
        {
         "name": "Technology Type",
         "rawType": "object",
         "type": "string"
        },
        {
         "name": "Installed Capacity (MWelec)",
         "rawType": "float64",
         "type": "float"
        },
        {
         "name": "Development Status (short)",
         "rawType": "object",
         "type": "string"
        },
        {
         "name": "County",
         "rawType": "object",
         "type": "string"
        },
        {
         "name": "Region",
         "rawType": "object",
         "type": "string"
        },
        {
         "name": "Country",
         "rawType": "object",
         "type": "string"
        },
        {
         "name": "X-coordinate",
         "rawType": "int64",
         "type": "integer"
        },
        {
         "name": "Y-coordinate",
         "rawType": "int64",
         "type": "integer"
        },
        {
         "name": "Planning Permission Granted",
         "rawType": "object",
         "type": "string"
        },
        {
         "name": "Under Construction",
         "rawType": "object",
         "type": "string"
        },
        {
         "name": "Operational",
         "rawType": "object",
         "type": "string"
        },
        {
         "name": "Data Retrieved?.1",
         "rawType": "float64",
         "type": "float"
        }
       ],
       "conversionMethod": "pd.DataFrame",
       "ref": "234c223c-eeee-4892-a7f2-6aea03777675",
       "rows": [
        [
         "0",
         "0",
         "Burbo Bank Offshore Wind Farm",
         "E_BURBO",
         "YES",
         "2539",
         "2061",
         "2539",
         "Orsted (formerly Dong Energy)",
         "Burbo Bank Extension (Burbo Bank 2)",
         "Wind Offshore",
         "258.0",
         "Operational",
         "Offshore",
         "Offshore",
         "England",
         "315815",
         "398892",
         "10/12/2014",
         "10/06/2016",
         "27/04/2017",
         null
        ],
        [
         "1",
         "0",
         "Burbo Bank Offshore Wind Farm",
         "T_BRBEO-1",
         "YES",
         "2539",
         "2061",
         "2539",
         "Orsted (formerly Dong Energy)",
         "Burbo Bank Extension (Burbo Bank 2)",
         "Wind Offshore",
         "258.0",
         "Operational",
         "Offshore",
         "Offshore",
         "England",
         "315815",
         "398892",
         "10/12/2014",
         "10/06/2016",
         "27/04/2017",
         null
        ],
        [
         "2",
         "2",
         "Dudgeon Offshore Wind Farm",
         "T_DDGNO-1",
         "YES",
         "2538",
         "2060",
         "2538",
         "Statoil / Statkraft",
         "Dudgeon East",
         "Wind Offshore",
         "402.0",
         "Operational",
         "Offshore",
         "Offshore",
         "England",
         "575000",
         "361000",
         "06/07/2012",
         "17/03/2016",
         "15/10/2017",
         null
        ],
        [
         "3",
         "2",
         "Dudgeon Offshore Wind Farm",
         "T_DDGNO-2",
         "YES",
         "2538",
         "2060",
         "2538",
         "Statoil / Statkraft",
         "Dudgeon East",
         "Wind Offshore",
         "402.0",
         "Operational",
         "Offshore",
         "Offshore",
         "England",
         "575000",
         "361000",
         "06/07/2012",
         "17/03/2016",
         "15/10/2017",
         null
        ],
        [
         "4",
         "2",
         "Dudgeon Offshore Wind Farm",
         "T_DDGNO-3",
         "YES",
         "2538",
         "2060",
         "2538",
         "Statoil / Statkraft",
         "Dudgeon East",
         "Wind Offshore",
         "402.0",
         "Operational",
         "Offshore",
         "Offshore",
         "England",
         "575000",
         "361000",
         "06/07/2012",
         "17/03/2016",
         "15/10/2017",
         null
        ]
       ],
       "shape": {
        "columns": 21,
        "rows": 5
       }
      },
      "text/html": [
       "<div>\n",
       "<style scoped>\n",
       "    .dataframe tbody tr th:only-of-type {\n",
       "        vertical-align: middle;\n",
       "    }\n",
       "\n",
       "    .dataframe tbody tr th {\n",
       "        vertical-align: top;\n",
       "    }\n",
       "\n",
       "    .dataframe thead th {\n",
       "        text-align: right;\n",
       "    }\n",
       "</style>\n",
       "<table border=\"1\" class=\"dataframe\">\n",
       "  <thead>\n",
       "    <tr style=\"text-align: right;\">\n",
       "      <th></th>\n",
       "      <th>Unnamed: 0.1</th>\n",
       "      <th>Common Name</th>\n",
       "      <th>Settlement BMU ID</th>\n",
       "      <th>Data Retrieved?</th>\n",
       "      <th>REPD ID (New)</th>\n",
       "      <th>Unnamed: 0</th>\n",
       "      <th>Ref ID</th>\n",
       "      <th>Operator (or Applicant)</th>\n",
       "      <th>Site Name</th>\n",
       "      <th>Technology Type</th>\n",
       "      <th>...</th>\n",
       "      <th>Development Status (short)</th>\n",
       "      <th>County</th>\n",
       "      <th>Region</th>\n",
       "      <th>Country</th>\n",
       "      <th>X-coordinate</th>\n",
       "      <th>Y-coordinate</th>\n",
       "      <th>Planning Permission Granted</th>\n",
       "      <th>Under Construction</th>\n",
       "      <th>Operational</th>\n",
       "      <th>Data Retrieved?.1</th>\n",
       "    </tr>\n",
       "  </thead>\n",
       "  <tbody>\n",
       "    <tr>\n",
       "      <th>0</th>\n",
       "      <td>0</td>\n",
       "      <td>Burbo Bank Offshore Wind Farm</td>\n",
       "      <td>E_BURBO</td>\n",
       "      <td>YES</td>\n",
       "      <td>2539</td>\n",
       "      <td>2061</td>\n",
       "      <td>2539</td>\n",
       "      <td>Orsted (formerly Dong Energy)</td>\n",
       "      <td>Burbo Bank Extension (Burbo Bank 2)</td>\n",
       "      <td>Wind Offshore</td>\n",
       "      <td>...</td>\n",
       "      <td>Operational</td>\n",
       "      <td>Offshore</td>\n",
       "      <td>Offshore</td>\n",
       "      <td>England</td>\n",
       "      <td>315815</td>\n",
       "      <td>398892</td>\n",
       "      <td>10/12/2014</td>\n",
       "      <td>10/06/2016</td>\n",
       "      <td>27/04/2017</td>\n",
       "      <td>NaN</td>\n",
       "    </tr>\n",
       "    <tr>\n",
       "      <th>1</th>\n",
       "      <td>0</td>\n",
       "      <td>Burbo Bank Offshore Wind Farm</td>\n",
       "      <td>T_BRBEO-1</td>\n",
       "      <td>YES</td>\n",
       "      <td>2539</td>\n",
       "      <td>2061</td>\n",
       "      <td>2539</td>\n",
       "      <td>Orsted (formerly Dong Energy)</td>\n",
       "      <td>Burbo Bank Extension (Burbo Bank 2)</td>\n",
       "      <td>Wind Offshore</td>\n",
       "      <td>...</td>\n",
       "      <td>Operational</td>\n",
       "      <td>Offshore</td>\n",
       "      <td>Offshore</td>\n",
       "      <td>England</td>\n",
       "      <td>315815</td>\n",
       "      <td>398892</td>\n",
       "      <td>10/12/2014</td>\n",
       "      <td>10/06/2016</td>\n",
       "      <td>27/04/2017</td>\n",
       "      <td>NaN</td>\n",
       "    </tr>\n",
       "    <tr>\n",
       "      <th>2</th>\n",
       "      <td>2</td>\n",
       "      <td>Dudgeon Offshore Wind Farm</td>\n",
       "      <td>T_DDGNO-1</td>\n",
       "      <td>YES</td>\n",
       "      <td>2538</td>\n",
       "      <td>2060</td>\n",
       "      <td>2538</td>\n",
       "      <td>Statoil / Statkraft</td>\n",
       "      <td>Dudgeon East</td>\n",
       "      <td>Wind Offshore</td>\n",
       "      <td>...</td>\n",
       "      <td>Operational</td>\n",
       "      <td>Offshore</td>\n",
       "      <td>Offshore</td>\n",
       "      <td>England</td>\n",
       "      <td>575000</td>\n",
       "      <td>361000</td>\n",
       "      <td>06/07/2012</td>\n",
       "      <td>17/03/2016</td>\n",
       "      <td>15/10/2017</td>\n",
       "      <td>NaN</td>\n",
       "    </tr>\n",
       "    <tr>\n",
       "      <th>3</th>\n",
       "      <td>2</td>\n",
       "      <td>Dudgeon Offshore Wind Farm</td>\n",
       "      <td>T_DDGNO-2</td>\n",
       "      <td>YES</td>\n",
       "      <td>2538</td>\n",
       "      <td>2060</td>\n",
       "      <td>2538</td>\n",
       "      <td>Statoil / Statkraft</td>\n",
       "      <td>Dudgeon East</td>\n",
       "      <td>Wind Offshore</td>\n",
       "      <td>...</td>\n",
       "      <td>Operational</td>\n",
       "      <td>Offshore</td>\n",
       "      <td>Offshore</td>\n",
       "      <td>England</td>\n",
       "      <td>575000</td>\n",
       "      <td>361000</td>\n",
       "      <td>06/07/2012</td>\n",
       "      <td>17/03/2016</td>\n",
       "      <td>15/10/2017</td>\n",
       "      <td>NaN</td>\n",
       "    </tr>\n",
       "    <tr>\n",
       "      <th>4</th>\n",
       "      <td>2</td>\n",
       "      <td>Dudgeon Offshore Wind Farm</td>\n",
       "      <td>T_DDGNO-3</td>\n",
       "      <td>YES</td>\n",
       "      <td>2538</td>\n",
       "      <td>2060</td>\n",
       "      <td>2538</td>\n",
       "      <td>Statoil / Statkraft</td>\n",
       "      <td>Dudgeon East</td>\n",
       "      <td>Wind Offshore</td>\n",
       "      <td>...</td>\n",
       "      <td>Operational</td>\n",
       "      <td>Offshore</td>\n",
       "      <td>Offshore</td>\n",
       "      <td>England</td>\n",
       "      <td>575000</td>\n",
       "      <td>361000</td>\n",
       "      <td>06/07/2012</td>\n",
       "      <td>17/03/2016</td>\n",
       "      <td>15/10/2017</td>\n",
       "      <td>NaN</td>\n",
       "    </tr>\n",
       "  </tbody>\n",
       "</table>\n",
       "<p>5 rows × 21 columns</p>\n",
       "</div>"
      ],
      "text/plain": [
       "   Unnamed: 0.1                    Common Name Settlement BMU ID  \\\n",
       "0             0  Burbo Bank Offshore Wind Farm           E_BURBO   \n",
       "1             0  Burbo Bank Offshore Wind Farm         T_BRBEO-1   \n",
       "2             2     Dudgeon Offshore Wind Farm         T_DDGNO-1   \n",
       "3             2     Dudgeon Offshore Wind Farm         T_DDGNO-2   \n",
       "4             2     Dudgeon Offshore Wind Farm         T_DDGNO-3   \n",
       "\n",
       "  Data Retrieved?  REPD ID (New)  Unnamed: 0  Ref ID  \\\n",
       "0             YES           2539        2061    2539   \n",
       "1             YES           2539        2061    2539   \n",
       "2             YES           2538        2060    2538   \n",
       "3             YES           2538        2060    2538   \n",
       "4             YES           2538        2060    2538   \n",
       "\n",
       "         Operator (or Applicant)                            Site Name  \\\n",
       "0  Orsted (formerly Dong Energy)  Burbo Bank Extension (Burbo Bank 2)   \n",
       "1  Orsted (formerly Dong Energy)  Burbo Bank Extension (Burbo Bank 2)   \n",
       "2            Statoil / Statkraft                         Dudgeon East   \n",
       "3            Statoil / Statkraft                         Dudgeon East   \n",
       "4            Statoil / Statkraft                         Dudgeon East   \n",
       "\n",
       "  Technology Type  ...  Development Status (short)    County    Region  \\\n",
       "0   Wind Offshore  ...                 Operational  Offshore  Offshore   \n",
       "1   Wind Offshore  ...                 Operational  Offshore  Offshore   \n",
       "2   Wind Offshore  ...                 Operational  Offshore  Offshore   \n",
       "3   Wind Offshore  ...                 Operational  Offshore  Offshore   \n",
       "4   Wind Offshore  ...                 Operational  Offshore  Offshore   \n",
       "\n",
       "   Country X-coordinate  Y-coordinate  Planning Permission Granted  \\\n",
       "0  England       315815        398892                   10/12/2014   \n",
       "1  England       315815        398892                   10/12/2014   \n",
       "2  England       575000        361000                   06/07/2012   \n",
       "3  England       575000        361000                   06/07/2012   \n",
       "4  England       575000        361000                   06/07/2012   \n",
       "\n",
       "  Under Construction Operational Data Retrieved?.1  \n",
       "0         10/06/2016  27/04/2017               NaN  \n",
       "1         10/06/2016  27/04/2017               NaN  \n",
       "2         17/03/2016  15/10/2017               NaN  \n",
       "3         17/03/2016  15/10/2017               NaN  \n",
       "4         17/03/2016  15/10/2017               NaN  \n",
       "\n",
       "[5 rows x 21 columns]"
      ]
     },
     "execution_count": 23,
     "metadata": {},
     "output_type": "execute_result"
    }
   ],
   "source": [
    "# Check the number of wind farms in the data\n",
    "print(\"There are \", len(bmu_data_analysed), \"total BMUs in the dataset.\")\n",
    "\n",
    "# Inpsect the data\n",
    "bmu_data_analysed.head()"
   ]
  },
  {
   "cell_type": "code",
   "execution_count": 22,
   "id": "f00d3a57",
   "metadata": {},
   "outputs": [
    {
     "name": "stdout",
     "output_type": "stream",
     "text": [
      "53 of 66 BMUs' data were successfully extracted from Elexon.\n"
     ]
    },
    {
     "data": {
      "application/vnd.microsoft.datawrangler.viewer.v0+json": {
       "columns": [
        {
         "name": "index",
         "rawType": "int64",
         "type": "integer"
        },
        {
         "name": "Unnamed: 0.1",
         "rawType": "int64",
         "type": "integer"
        },
        {
         "name": "Common Name",
         "rawType": "object",
         "type": "string"
        },
        {
         "name": "Settlement BMU ID",
         "rawType": "object",
         "type": "string"
        },
        {
         "name": "Data Retrieved?",
         "rawType": "object",
         "type": "string"
        },
        {
         "name": "REPD ID (New)",
         "rawType": "int64",
         "type": "integer"
        },
        {
         "name": "Unnamed: 0",
         "rawType": "int64",
         "type": "integer"
        },
        {
         "name": "Ref ID",
         "rawType": "int64",
         "type": "integer"
        },
        {
         "name": "Operator (or Applicant)",
         "rawType": "object",
         "type": "string"
        },
        {
         "name": "Site Name",
         "rawType": "object",
         "type": "string"
        },
        {
         "name": "Technology Type",
         "rawType": "object",
         "type": "string"
        },
        {
         "name": "Installed Capacity (MWelec)",
         "rawType": "float64",
         "type": "float"
        },
        {
         "name": "Development Status (short)",
         "rawType": "object",
         "type": "string"
        },
        {
         "name": "County",
         "rawType": "object",
         "type": "string"
        },
        {
         "name": "Region",
         "rawType": "object",
         "type": "string"
        },
        {
         "name": "Country",
         "rawType": "object",
         "type": "string"
        },
        {
         "name": "X-coordinate",
         "rawType": "int64",
         "type": "integer"
        },
        {
         "name": "Y-coordinate",
         "rawType": "int64",
         "type": "integer"
        },
        {
         "name": "Planning Permission Granted",
         "rawType": "object",
         "type": "string"
        },
        {
         "name": "Under Construction",
         "rawType": "object",
         "type": "string"
        },
        {
         "name": "Operational",
         "rawType": "object",
         "type": "string"
        },
        {
         "name": "Data Retrieved?.1",
         "rawType": "float64",
         "type": "float"
        }
       ],
       "conversionMethod": "pd.DataFrame",
       "ref": "90ca48d8-0a19-4979-a989-c8478756c87f",
       "rows": [
        [
         "0",
         "0",
         "Burbo Bank Offshore Wind Farm",
         "E_BURBO",
         "YES",
         "2539",
         "2061",
         "2539",
         "Orsted (formerly Dong Energy)",
         "Burbo Bank Extension (Burbo Bank 2)",
         "Wind Offshore",
         "258.0",
         "Operational",
         "Offshore",
         "Offshore",
         "England",
         "315815",
         "398892",
         "10/12/2014",
         "10/06/2016",
         "27/04/2017",
         null
        ],
        [
         "1",
         "0",
         "Burbo Bank Offshore Wind Farm",
         "T_BRBEO-1",
         "YES",
         "2539",
         "2061",
         "2539",
         "Orsted (formerly Dong Energy)",
         "Burbo Bank Extension (Burbo Bank 2)",
         "Wind Offshore",
         "258.0",
         "Operational",
         "Offshore",
         "Offshore",
         "England",
         "315815",
         "398892",
         "10/12/2014",
         "10/06/2016",
         "27/04/2017",
         null
        ],
        [
         "2",
         "2",
         "Dudgeon Offshore Wind Farm",
         "T_DDGNO-1",
         "YES",
         "2538",
         "2060",
         "2538",
         "Statoil / Statkraft",
         "Dudgeon East",
         "Wind Offshore",
         "402.0",
         "Operational",
         "Offshore",
         "Offshore",
         "England",
         "575000",
         "361000",
         "06/07/2012",
         "17/03/2016",
         "15/10/2017",
         null
        ],
        [
         "3",
         "2",
         "Dudgeon Offshore Wind Farm",
         "T_DDGNO-2",
         "YES",
         "2538",
         "2060",
         "2538",
         "Statoil / Statkraft",
         "Dudgeon East",
         "Wind Offshore",
         "402.0",
         "Operational",
         "Offshore",
         "Offshore",
         "England",
         "575000",
         "361000",
         "06/07/2012",
         "17/03/2016",
         "15/10/2017",
         null
        ],
        [
         "4",
         "2",
         "Dudgeon Offshore Wind Farm",
         "T_DDGNO-3",
         "YES",
         "2538",
         "2060",
         "2538",
         "Statoil / Statkraft",
         "Dudgeon East",
         "Wind Offshore",
         "402.0",
         "Operational",
         "Offshore",
         "Offshore",
         "England",
         "575000",
         "361000",
         "06/07/2012",
         "17/03/2016",
         "15/10/2017",
         null
        ]
       ],
       "shape": {
        "columns": 21,
        "rows": 5
       }
      },
      "text/html": [
       "<div>\n",
       "<style scoped>\n",
       "    .dataframe tbody tr th:only-of-type {\n",
       "        vertical-align: middle;\n",
       "    }\n",
       "\n",
       "    .dataframe tbody tr th {\n",
       "        vertical-align: top;\n",
       "    }\n",
       "\n",
       "    .dataframe thead th {\n",
       "        text-align: right;\n",
       "    }\n",
       "</style>\n",
       "<table border=\"1\" class=\"dataframe\">\n",
       "  <thead>\n",
       "    <tr style=\"text-align: right;\">\n",
       "      <th></th>\n",
       "      <th>Unnamed: 0.1</th>\n",
       "      <th>Common Name</th>\n",
       "      <th>Settlement BMU ID</th>\n",
       "      <th>Data Retrieved?</th>\n",
       "      <th>REPD ID (New)</th>\n",
       "      <th>Unnamed: 0</th>\n",
       "      <th>Ref ID</th>\n",
       "      <th>Operator (or Applicant)</th>\n",
       "      <th>Site Name</th>\n",
       "      <th>Technology Type</th>\n",
       "      <th>...</th>\n",
       "      <th>Development Status (short)</th>\n",
       "      <th>County</th>\n",
       "      <th>Region</th>\n",
       "      <th>Country</th>\n",
       "      <th>X-coordinate</th>\n",
       "      <th>Y-coordinate</th>\n",
       "      <th>Planning Permission Granted</th>\n",
       "      <th>Under Construction</th>\n",
       "      <th>Operational</th>\n",
       "      <th>Data Retrieved?.1</th>\n",
       "    </tr>\n",
       "  </thead>\n",
       "  <tbody>\n",
       "    <tr>\n",
       "      <th>0</th>\n",
       "      <td>0</td>\n",
       "      <td>Burbo Bank Offshore Wind Farm</td>\n",
       "      <td>E_BURBO</td>\n",
       "      <td>YES</td>\n",
       "      <td>2539</td>\n",
       "      <td>2061</td>\n",
       "      <td>2539</td>\n",
       "      <td>Orsted (formerly Dong Energy)</td>\n",
       "      <td>Burbo Bank Extension (Burbo Bank 2)</td>\n",
       "      <td>Wind Offshore</td>\n",
       "      <td>...</td>\n",
       "      <td>Operational</td>\n",
       "      <td>Offshore</td>\n",
       "      <td>Offshore</td>\n",
       "      <td>England</td>\n",
       "      <td>315815</td>\n",
       "      <td>398892</td>\n",
       "      <td>10/12/2014</td>\n",
       "      <td>10/06/2016</td>\n",
       "      <td>27/04/2017</td>\n",
       "      <td>NaN</td>\n",
       "    </tr>\n",
       "    <tr>\n",
       "      <th>1</th>\n",
       "      <td>0</td>\n",
       "      <td>Burbo Bank Offshore Wind Farm</td>\n",
       "      <td>T_BRBEO-1</td>\n",
       "      <td>YES</td>\n",
       "      <td>2539</td>\n",
       "      <td>2061</td>\n",
       "      <td>2539</td>\n",
       "      <td>Orsted (formerly Dong Energy)</td>\n",
       "      <td>Burbo Bank Extension (Burbo Bank 2)</td>\n",
       "      <td>Wind Offshore</td>\n",
       "      <td>...</td>\n",
       "      <td>Operational</td>\n",
       "      <td>Offshore</td>\n",
       "      <td>Offshore</td>\n",
       "      <td>England</td>\n",
       "      <td>315815</td>\n",
       "      <td>398892</td>\n",
       "      <td>10/12/2014</td>\n",
       "      <td>10/06/2016</td>\n",
       "      <td>27/04/2017</td>\n",
       "      <td>NaN</td>\n",
       "    </tr>\n",
       "    <tr>\n",
       "      <th>2</th>\n",
       "      <td>2</td>\n",
       "      <td>Dudgeon Offshore Wind Farm</td>\n",
       "      <td>T_DDGNO-1</td>\n",
       "      <td>YES</td>\n",
       "      <td>2538</td>\n",
       "      <td>2060</td>\n",
       "      <td>2538</td>\n",
       "      <td>Statoil / Statkraft</td>\n",
       "      <td>Dudgeon East</td>\n",
       "      <td>Wind Offshore</td>\n",
       "      <td>...</td>\n",
       "      <td>Operational</td>\n",
       "      <td>Offshore</td>\n",
       "      <td>Offshore</td>\n",
       "      <td>England</td>\n",
       "      <td>575000</td>\n",
       "      <td>361000</td>\n",
       "      <td>06/07/2012</td>\n",
       "      <td>17/03/2016</td>\n",
       "      <td>15/10/2017</td>\n",
       "      <td>NaN</td>\n",
       "    </tr>\n",
       "    <tr>\n",
       "      <th>3</th>\n",
       "      <td>2</td>\n",
       "      <td>Dudgeon Offshore Wind Farm</td>\n",
       "      <td>T_DDGNO-2</td>\n",
       "      <td>YES</td>\n",
       "      <td>2538</td>\n",
       "      <td>2060</td>\n",
       "      <td>2538</td>\n",
       "      <td>Statoil / Statkraft</td>\n",
       "      <td>Dudgeon East</td>\n",
       "      <td>Wind Offshore</td>\n",
       "      <td>...</td>\n",
       "      <td>Operational</td>\n",
       "      <td>Offshore</td>\n",
       "      <td>Offshore</td>\n",
       "      <td>England</td>\n",
       "      <td>575000</td>\n",
       "      <td>361000</td>\n",
       "      <td>06/07/2012</td>\n",
       "      <td>17/03/2016</td>\n",
       "      <td>15/10/2017</td>\n",
       "      <td>NaN</td>\n",
       "    </tr>\n",
       "    <tr>\n",
       "      <th>4</th>\n",
       "      <td>2</td>\n",
       "      <td>Dudgeon Offshore Wind Farm</td>\n",
       "      <td>T_DDGNO-3</td>\n",
       "      <td>YES</td>\n",
       "      <td>2538</td>\n",
       "      <td>2060</td>\n",
       "      <td>2538</td>\n",
       "      <td>Statoil / Statkraft</td>\n",
       "      <td>Dudgeon East</td>\n",
       "      <td>Wind Offshore</td>\n",
       "      <td>...</td>\n",
       "      <td>Operational</td>\n",
       "      <td>Offshore</td>\n",
       "      <td>Offshore</td>\n",
       "      <td>England</td>\n",
       "      <td>575000</td>\n",
       "      <td>361000</td>\n",
       "      <td>06/07/2012</td>\n",
       "      <td>17/03/2016</td>\n",
       "      <td>15/10/2017</td>\n",
       "      <td>NaN</td>\n",
       "    </tr>\n",
       "  </tbody>\n",
       "</table>\n",
       "<p>5 rows × 21 columns</p>\n",
       "</div>"
      ],
      "text/plain": [
       "   Unnamed: 0.1                    Common Name Settlement BMU ID  \\\n",
       "0             0  Burbo Bank Offshore Wind Farm           E_BURBO   \n",
       "1             0  Burbo Bank Offshore Wind Farm         T_BRBEO-1   \n",
       "2             2     Dudgeon Offshore Wind Farm         T_DDGNO-1   \n",
       "3             2     Dudgeon Offshore Wind Farm         T_DDGNO-2   \n",
       "4             2     Dudgeon Offshore Wind Farm         T_DDGNO-3   \n",
       "\n",
       "  Data Retrieved?  REPD ID (New)  Unnamed: 0  Ref ID  \\\n",
       "0             YES           2539        2061    2539   \n",
       "1             YES           2539        2061    2539   \n",
       "2             YES           2538        2060    2538   \n",
       "3             YES           2538        2060    2538   \n",
       "4             YES           2538        2060    2538   \n",
       "\n",
       "         Operator (or Applicant)                            Site Name  \\\n",
       "0  Orsted (formerly Dong Energy)  Burbo Bank Extension (Burbo Bank 2)   \n",
       "1  Orsted (formerly Dong Energy)  Burbo Bank Extension (Burbo Bank 2)   \n",
       "2            Statoil / Statkraft                         Dudgeon East   \n",
       "3            Statoil / Statkraft                         Dudgeon East   \n",
       "4            Statoil / Statkraft                         Dudgeon East   \n",
       "\n",
       "  Technology Type  ...  Development Status (short)    County    Region  \\\n",
       "0   Wind Offshore  ...                 Operational  Offshore  Offshore   \n",
       "1   Wind Offshore  ...                 Operational  Offshore  Offshore   \n",
       "2   Wind Offshore  ...                 Operational  Offshore  Offshore   \n",
       "3   Wind Offshore  ...                 Operational  Offshore  Offshore   \n",
       "4   Wind Offshore  ...                 Operational  Offshore  Offshore   \n",
       "\n",
       "   Country X-coordinate  Y-coordinate  Planning Permission Granted  \\\n",
       "0  England       315815        398892                   10/12/2014   \n",
       "1  England       315815        398892                   10/12/2014   \n",
       "2  England       575000        361000                   06/07/2012   \n",
       "3  England       575000        361000                   06/07/2012   \n",
       "4  England       575000        361000                   06/07/2012   \n",
       "\n",
       "  Under Construction Operational Data Retrieved?.1  \n",
       "0         10/06/2016  27/04/2017               NaN  \n",
       "1         10/06/2016  27/04/2017               NaN  \n",
       "2         17/03/2016  15/10/2017               NaN  \n",
       "3         17/03/2016  15/10/2017               NaN  \n",
       "4         17/03/2016  15/10/2017               NaN  \n",
       "\n",
       "[5 rows x 21 columns]"
      ]
     },
     "execution_count": 22,
     "metadata": {},
     "output_type": "execute_result"
    }
   ],
   "source": [
    "# Filter out the wind farms whose data were successfully extracted\n",
    "bmu_data_filtered = bmu_data_analysed[bmu_data_analysed[\"Data Retrieved?\"] == \"YES\"]\n",
    "print(len(bmu_data_filtered), \"of\", len(bmu_data_analysed),\"BMUs' data were successfully extracted from Elexon.\")\n",
    "bmu_data_filtered.head()"
   ]
  },
  {
   "cell_type": "code",
   "execution_count": 24,
   "id": "362c64ad",
   "metadata": {},
   "outputs": [
    {
     "name": "stdout",
     "output_type": "stream",
     "text": [
      "There are 21 unique wind farms in the dataset\n"
     ]
    }
   ],
   "source": [
    "# The datasets contain 53 BMUs, but how many of them are unique wind farms?\n",
    "unique_names = bmu_data_filtered[\"Common Name\"].unique()\n",
    "print(\"There are\", len(unique_names), \"unique wind farms in the dataset\")"
   ]
  },
  {
   "cell_type": "code",
   "execution_count": 25,
   "id": "f6d7e94b",
   "metadata": {},
   "outputs": [
    {
     "data": {
      "text/plain": [
       "array(['Burbo Bank Offshore Wind Farm', 'Dudgeon Offshore Wind Farm',\n",
       "       'Galloper Offshore Wind Farm',\n",
       "       'Greater Gabbard Offshore Wind Farm',\n",
       "       'Gwynt y Mor Offshore Wind Farm', 'Humber Offshore Wind Farm',\n",
       "       'Lincs Offshore Wind Farm', 'London Array Wind Farm',\n",
       "       'Ormonde Offshore Wind Farm', 'Race Bank Offshore Wind Farm',\n",
       "       'Rampion Offshore Wind Farm', 'Sheringham Shoals Wind Farm',\n",
       "       'Thanet Offshore Wind Farm', 'Walney Offshore Wind Farm',\n",
       "       'Westermost Rough Wind Farm',\n",
       "       'West of Duddon Sands Offshore Wind Farm',\n",
       "       'Aberdeen Offshore Wind Farm', 'Beatrice Offshore Wind Farm',\n",
       "       'East Anglia Offshore Wind Farm', 'Hornsea Offshore Wind Farm',\n",
       "       'Triton Knoll Offshore Wind Farm'], dtype=object)"
      ]
     },
     "execution_count": 25,
     "metadata": {},
     "output_type": "execute_result"
    }
   ],
   "source": [
    "# Inspect the array of unique wind farms\n",
    "unique_names"
   ]
  },
  {
   "cell_type": "markdown",
   "id": "8af373e7",
   "metadata": {},
   "source": [
    "There are 21 unique offshore wind farms in the dataset for which data was able to be extracted from Elexon. This volume of data is acceptable for this project as not all wind farms participate in the UK electricity balancing market."
   ]
  },
  {
   "cell_type": "markdown",
   "id": "4d52877c",
   "metadata": {},
   "source": [
    "The x and y coordintaes of the wind farm locations in csv file are in the British National Grid (OSGB36) coordinate system, representing eastings (X) and northings (Y), respectively."
   ]
  },
  {
   "cell_type": "code",
   "execution_count": 27,
   "id": "fb6d151a",
   "metadata": {},
   "outputs": [
    {
     "name": "stdout",
     "output_type": "stream",
     "text": [
      "Burbo Bank Offshore Wind Farm is located at: X = 315815 eastings, Y = 398892 northings\n",
      "Dudgeon Offshore Wind Farm is located at: X = 575000 eastings, Y = 361000 northings\n",
      "Galloper Offshore Wind Farm is located at: X = 678139 eastings, Y = 227875 northings\n",
      "Greater Gabbard Offshore Wind Farm is located at: X = 670237 eastings, Y = 231640 northings\n",
      "Gwynt y Mor Offshore Wind Farm is located at: X = 292082 eastings, Y = 396482 northings\n",
      "Humber Offshore Wind Farm is located at: X = 566400 eastings, Y = 390760 northings\n",
      "Lincs Offshore Wind Farm is located at: X = 567020 eastings, Y = 368144 northings\n",
      "London Array Wind Farm is located at: X = 642078 eastings, Y = 197218 northings\n",
      "Ormonde Offshore Wind Farm is located at: X = 306000 eastings, Y = 466842 northings\n",
      "Race Bank Offshore Wind Farm is located at: X = 573300 eastings, Y = 363000 northings\n",
      "Rampion Offshore Wind Farm is located at: X = 528790 eastings, Y = 83836 northings\n",
      "Sheringham Shoals Wind Farm is located at: X = 610671 eastings, Y = 364425 northings\n",
      "Thanet Offshore Wind Farm is located at: X = 652658 eastings, Y = 176367 northings\n",
      "Walney Offshore Wind Farm is located at: X = 286289 eastings, Y = 467410 northings\n",
      "Westermost Rough Wind Farm is located at: X = 571600 eastings, Y = 358680 northings\n",
      "West of Duddon Sands Offshore Wind Farm is located at: X = 304230 eastings, Y = 455334 northings\n",
      "Aberdeen Offshore Wind Farm is located at: X = 395693 eastings, Y = 806148 northings\n",
      "Beatrice Offshore Wind Farm is located at: X = 344074 eastings, Y = 911416 northings\n",
      "East Anglia Offshore Wind Farm is located at: X = 685500 eastings, Y = 257000 northings\n",
      "Hornsea Offshore Wind Farm is located at: X = 632326 eastings, Y = 457349 northings\n",
      "Triton Knoll Offshore Wind Farm is located at: X = 591183 eastings, Y = 372179 northings\n"
     ]
    }
   ],
   "source": [
    "# Extract the x and y coordinates for each unique wind farm in the filtered dataset\n",
    "\n",
    "for name in unique_names:\n",
    "    # Get the first occurrence of this Common Name\n",
    "    row = bmu_data_filtered[bmu_data_filtered[\"Common Name\"] == name].iloc[0]\n",
    "    \n",
    "    # Extract coordinates\n",
    "    x_coord = row['X-coordinate']\n",
    "    y_coord = row['Y-coordinate']\n",
    "    \n",
    "    # Print the result\n",
    "    print(f\"{name} is located at: X = {x_coord} eastings, Y = {y_coord} northings\")"
   ]
  },
  {
   "cell_type": "markdown",
   "id": "f607468c",
   "metadata": {},
   "source": [
    "To extract the historical climate data for each unique wind farm, the coordinates are transformed from the BNG system to the WGS84 system for compatibility with the requirements of the climate data store. A function is created to generate bounding boxes specifying the location of the wind farms in the WGS84 coordinate system to enable data extraction from the climate data store."
   ]
  },
  {
   "cell_type": "code",
   "execution_count": 28,
   "id": "06f8e6ec",
   "metadata": {},
   "outputs": [],
   "source": [
    "# bounding box function that creates bounding box depending on windfarm location:\n",
    "from pyproj import Transformer\n",
    "# Create transformer: BNG (EPSG:27700) → WGS84 (EPSG:4326)\n",
    "transformer = Transformer.from_crs(\"epsg:27700\", \"epsg:4326\", always_xy=True)\n",
    "\n",
    "def create_bounding_box(x_coord, y_coord):\n",
    "   \n",
    "    # Transform to (lon, lat)\n",
    "    lon, lat = transformer.transform(x_coord, y_coord)\n",
    "   \n",
    "    # CMIP6 has a resolution of approximately 1.25 degrees\n",
    "    era5_resolution = 0.28125\n",
    "   \n",
    "    # Create box centered on the point with size of one CMIP grid cell\n",
    "    # Return box as [North, West, South, East]\n",
    "    return [\n",
    "        lat + (era5_resolution/2),  # North\n",
    "        lon - (era5_resolution/2),  # West\n",
    "        lat - (era5_resolution/2),  # South\n",
    "        lon + (era5_resolution/2)   # East\n",
    "    ]"
   ]
  },
  {
   "cell_type": "markdown",
   "id": "81853649",
   "metadata": {},
   "source": [
    "References for spatial resolution used above:\n",
    "\n",
    "https://confluence.ecmwf.int/display/CKB/ERA5%3A+data+documentation#heading-Spatialgrid\n",
    "\n",
    "https://confluence.ecmwf.int/display/CKB/ERA5%3A+What+is+the+spatial+reference\n"
   ]
  },
  {
   "cell_type": "code",
   "execution_count": null,
   "id": "f0906764",
   "metadata": {},
   "outputs": [],
   "source": [
    "# Extract the historical climate data (2019-2024) for each wind farm using the climate data store api and the bounding box function\n",
    "# Change all file paths below to your preferred directory\n",
    "\"\"\"\n",
    "client = cdsapi.Client()\n",
    "from math import cos, radians\n",
    "\n",
    "# Create a directory to store the data\n",
    "if not os.path.exists('era5_data'):\n",
    "    os.makedirs('era5_data')\n",
    "\n",
    "# Create a directory to store the data\n",
    "output_dir = \"C:/Users/Oke/Documents/UCL MSc ESDA/ESDA_Term 2/BENV0148 Advanced Machine Learning/BENV0148 Coursework/ERA5 Historical Data\"\n",
    "\n",
    "# Dataset name\n",
    "dataset = \"reanalysis-era5-single-levels\"\n",
    "\n",
    "# Base request template\n",
    "base_request = {\n",
    "    \"product_type\": [\"reanalysis\"],\n",
    "    \"variable\": [\n",
    "        \"10m_u_component_of_wind\",\n",
    "        \"10m_v_component_of_wind\",\n",
    "        \"2m_dewpoint_temperature\",\n",
    "        \"2m_temperature\",\n",
    "        \"surface_pressure\"\n",
    "    ],\n",
    "    \"year\": [\"2019\", \"2020\", \"2021\", \"2022\", \"2023\", \"2024\"],\n",
    "    \"month\": [\n",
    "        \"01\", \"02\", \"03\", \"04\", \"05\", \"06\",\n",
    "        \"07\", \"08\", \"09\", \"10\", \"11\", \"12\"\n",
    "    ],\n",
    "    \"day\": [\n",
    "        \"01\", \"02\", \"03\", \"04\", \"05\", \"06\",\n",
    "        \"07\", \"08\", \"09\", \"10\", \"11\", \"12\",\n",
    "        \"13\", \"14\", \"15\", \"16\", \"17\", \"18\",\n",
    "        \"19\", \"20\", \"21\", \"22\", \"23\", \"24\",\n",
    "        \"25\", \"26\", \"27\", \"28\", \"29\", \"30\", \"31\"\n",
    "    ],\n",
    "    \"time\": [\n",
    "        \"00:00\", \"01:00\", \"02:00\", \"03:00\", \"04:00\", \"05:00\",\n",
    "        \"06:00\", \"07:00\", \"08:00\", \"09:00\", \"10:00\", \"11:00\",\n",
    "        \"12:00\", \"13:00\", \"14:00\", \"15:00\", \"16:00\", \"17:00\",\n",
    "        \"18:00\", \"19:00\", \"20:00\", \"21:00\", \"22:00\", \"23:00\"\n",
    "    ],\n",
    "    \"format\": \"grib\"  # Using NetCDF format as requested - can also use NetCDF ???\n",
    "}\n",
    "\n",
    "# Process each unique wind farm\n",
    "for farm_name in unique_names:\n",
    "    # Get the first row with this farm name\n",
    "    row = bmu_data_filtered[bmu_data_filtered['Common Name'] == farm_name].iloc[0]\n",
    "    \n",
    "    # Extract coordinates\n",
    "    x_coord = row['X-coordinate']\n",
    "    y_coord = row['Y-coordinate']\n",
    "    \n",
    "    # Skip if coordinates are missing\n",
    "    if pd.isna(x_coord) or pd.isna(y_coord):\n",
    "        print(f\"Skipping {farm_name} due to missing coordinates\")\n",
    "        continue\n",
    "    \n",
    "    print(f\"Processing {farm_name} at coordinates ({x_coord}, {y_coord})\")\n",
    "    \n",
    "    # Create a bounding box at ERA5 native resolution\n",
    "    area_box = create_bounding_box(x_coord, y_coord)\n",
    "    print(f\"  ERA5 bounding box: {area_box}\")\n",
    "    \n",
    "    # Create a custom request for this farm\n",
    "    farm_request = base_request.copy()\n",
    "    farm_request[\"area\"] = area_box\n",
    "    \n",
    "    # Set output filename - clean up farm name for file safety\n",
    "    safe_farm_name = ''.join(c if c.isalnum() else '_' for c in farm_name)\n",
    "    target = os.path.join(output_dir, f\"{safe_farm_name}.grib\")\n",
    "    \n",
    "    try:\n",
    "        print(f\"Downloading ERA5 data for {farm_name}...\")\n",
    "        client.retrieve(dataset, farm_request).download(target)\n",
    "        print(f\"Successfully downloaded data to {target}\")\n",
    "    except Exception as e:\n",
    "        print(f\"Error downloading data for {farm_name}: {str(e)}\")\n",
    "\n",
    "print(\"Processing complete!\")\n",
    "\"\"\""
   ]
  }
 ],
 "metadata": {
  "kernelspec": {
   "display_name": "Python 3",
   "language": "python",
   "name": "python3"
  },
  "language_info": {
   "codemirror_mode": {
    "name": "ipython",
    "version": 3
   },
   "file_extension": ".py",
   "mimetype": "text/x-python",
   "name": "python",
   "nbconvert_exporter": "python",
   "pygments_lexer": "ipython3",
   "version": "3.12.10"
  }
 },
 "nbformat": 4,
 "nbformat_minor": 5
}
