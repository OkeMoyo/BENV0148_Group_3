{
 "cells": [
  {
   "cell_type": "markdown",
   "id": "9605ca32",
   "metadata": {},
   "source": [
    "# **Forecasting the Impact of Climate Change on Great Britain’s Offshore Wind Generation Using Deep Learning**"
   ]
  },
  {
   "cell_type": "markdown",
   "id": "8f70b7e8",
   "metadata": {},
   "source": [
    "### Group 3:\n",
    "**Candidate Codes:** (KXBS7, PNXF3, NQMJ9, NCJB4, MMVQ8, KVQS4)"
   ]
  },
  {
   "cell_type": "markdown",
   "id": "05194a43",
   "metadata": {},
   "source": [
    "## **Table of Contents**"
   ]
  },
  {
   "cell_type": "markdown",
   "id": "914f9e4f",
   "metadata": {},
   "source": [
    "##### 1. Introduction\n",
    "##### 2. Data Sources\n",
    "##### 3. Data Extraction\n",
    "##### 4. Data Preprocessing\n",
    "##### 5. Baseline Modelling\n",
    "##### 6. Model Development and Evaluation\n",
    "##### 7. Hyperparameter Tuning\n",
    "##### 8. Model application"
   ]
  },
  {
   "cell_type": "markdown",
   "id": "c8e30ed6",
   "metadata": {},
   "source": [
    "## **Introduction**\n",
    "#### Climate change is exerting a significant influence on global weather patterns, as evidenced by the increasing frequency of heatwaves, wildfires, and other extreme weather events. As renewable energy has become central to decarbonization strategies within the power sector, it is critical to understand the long-term impacts of climate change on the performance of renewable energy assets, particularly given that changes in climate patterns can directly affect their energy output.\n",
    "\n",
    "#### The trajectory of future climate conditions depends largely on present-day energy policies and the rate of technological advancement. Several climate models have been developed to project future scenarios based on varying assumptions. Among these, the Representative Concentration Pathways (RCPs), developed by the climate science community, provide standardized scenarios that relate different policy choices to levels of radiative forcing.\n",
    "\n",
    "#### The aim of this study is to evaluate the impacts of climate change on offshore wind generation in Great Britain under different RCP scenarios. This study focuses on offshore wind in particular as it constitutes a major component of the renewable energy mix in Great Britain. Offshore wind farms have experienced rapid development due to the region’s favourable wind conditions and the advantages offshore sites offer in terms of consistent wind speeds.\n",
    "\n",
    "#### A deep learning approach is applied in conducting this study under two specific scenarios:\n",
    "\n",
    "1. #### **Representative Concentration Pathway (RCP) 8.5 — a high-emission, business-as-usual scenario (equivalent to shared socio-economic pathway SSP5-8.5)**\n",
    "##### Often called \"middle of the road\" pathway, this scenario is characterized by strong climate policies, reduction in carbon-intensity of fuels and a sharp decline in greenhouse gas (GHG) emissions leading to radiative forcing of 2.6W/m2 by 2100 (hence the name ssp2.6) or 1.5-2 degrees of warming by 2100, consistent with the Paris accord.\n",
    "\n",
    "2. #### **Representative Concentration Pathway (RCP) 2.6 — a low-emission, best-case scenario (equivalent to shared socio-economic pathway SSP1-2.6).**\n",
    "##### Often called \"fossil fuel development\" (Business as usual) pathway, this scenario is characterized by little to no climate mitigation efforts, increased use of carbon-intensive fossil fuels driven by rapid econonc growth and energy demand, and continually increasing greenhouse gas (GHG) emissions leading to radiative forcing of 8.5W/m2 by 2100 (hence the name ssp8.5) or 4 degrees or more of warming by 2100, which violates the Paris accord agreements.\n",
    "\n",
    "#### The findings will enable policymakers and stakeholders to better evaluate the resilience of the United Kingdom’s offshore wind strategy and to identify necessary contingencies to maintain long-term energy security.\n",
    "\n",
    "___\n"
   ]
  },
  {
   "cell_type": "markdown",
   "id": "78b32e92",
   "metadata": {},
   "source": [
    "### **Project Aim**\n",
    "To investigate the impact of climate change on Great Britain's offshore wind generation by developing a deep learning-based forecasting model under the RCP 2.6 and 8.5 scenarios. This analysis is conducted at the wind farm level to extract granular and actionable insights."
   ]
  },
  {
   "cell_type": "markdown",
   "id": "09fe5415",
   "metadata": {},
   "source": [
    "### **Objectives**\n",
    "1. **Data Collection and Preprocessing:**  \n",
    "Gather and preprocess granular wind farm-level data on offshore wind generation, historical meteorological variables, and future climate projections.\n",
    "\n",
    "2. **Exploratory Data Analysis:**  \n",
    "Analyze wind farm-specific data to identify key factors (local wind speeds, seasonal trends, and climate variations) influencing offshore wind generation.\n",
    "\n",
    "3. **Model Development:**  \n",
    "Develop a deep learning model capable of forecasting wind farm-level generation based on historical wind generation and climate data.\n",
    "\n",
    "4. **Scenario-Based Forecasting:**  \n",
    "Forecast future wind generation at individual wind farm sites under RCP 8.5 and RCP 2.6 climate scenarios using climate data projections.\n",
    "\n",
    "5. **Impact Analysis:**  \n",
    "Analyze the impact of climate change on individual wind farms, examining how different climate scenarios affect regional performance and the overall capacity of the offshore wind sector in Great Britain."
   ]
  },
  {
   "cell_type": "markdown",
   "id": "0854b7f1",
   "metadata": {},
   "source": [
    "## **Methodology**\n",
    "The approach this study takes is to train a deep learning model to predict wind generation based on historical wind generation and historical climate data. Then, the model is used to predict future wind generation under the RCP 2.6 and 8.5 scenarios using projected climate data for the respective scenarios.\n",
    "\n",
    "The image below shows the detailed methodology."
   ]
  },
  {
   "cell_type": "markdown",
   "id": "a63503e4",
   "metadata": {},
   "source": [
    "![Methodology](Methodology.png)"
   ]
  },
  {
   "cell_type": "markdown",
   "id": "b64874fc",
   "metadata": {},
   "source": [
    "## **Data Sources**\n",
    "1. **Elexon** - Wind generation data per wind farm, from 2019 - 2024\n",
    "2. **Climate Data Store, ERA5** - Historical climate data, 2019 - 2024\n",
    "3. **Climate Data Store, CMIP5, CMIP6** - Project climate data under RCP 2.6 and RCP 8.5 scenarios, 2025 - 2045"
   ]
  },
  {
   "cell_type": "markdown",
   "id": "63efc6a0",
   "metadata": {},
   "source": [
    "## **Data Extraction**\n"
   ]
  },
  {
   "cell_type": "markdown",
   "id": "b16391f5",
   "metadata": {},
   "source": [
    "### **Historical Climate Data Extraction**"
   ]
  },
  {
   "cell_type": "markdown",
   "id": "bb68831c",
   "metadata": {},
   "source": [
    "The historical climate data is extracted from the \"Climate Data Store\" under the ERA5 model.\n",
    "\n",
    "Data is extracted for 2019-2024 as that is the period for which historical wind generation data is extracted.\n",
    "\n",
    "Note that certain wind farms act as multiple Balancing Mechanism Units (BMUs)."
   ]
  },
  {
   "cell_type": "code",
   "execution_count": 1,
   "id": "ff14a9eb",
   "metadata": {},
   "outputs": [],
   "source": [
    "# Import the required packages \n",
    "# If needed, first install the packages using \"!pip install package_name\" (replace package_name with the name of the package)\n",
    "import cdsapi\n",
    "import numpy as np\n",
    "import pandas as pd\n",
    "import requests\n",
    "import csv\n",
    "from io import StringIO\n",
    "from datetime import datetime, timedelta\n",
    "import os"
   ]
  },
  {
   "cell_type": "code",
   "execution_count": 2,
   "id": "6517b302",
   "metadata": {},
   "outputs": [],
   "source": [
    "# Import the csv file containing all wind farm BMUs & locations\n",
    "bmu_data_analysed = pd.read_csv(\"https://raw.githubusercontent.com/OkeMoyo/BENV0148_Group_3/main/Analysis%20of%20BMU%20not%20collecting.csv\",\n",
    "encoding=\"ISO-8859-1\")"
   ]
  },
  {
   "cell_type": "code",
   "execution_count": 3,
   "id": "18b542cc",
   "metadata": {},
   "outputs": [
    {
     "name": "stdout",
     "output_type": "stream",
     "text": [
      "There are  66 total BMUs in the dataset.\n"
     ]
    },
    {
     "data": {
      "application/vnd.microsoft.datawrangler.viewer.v0+json": {
       "columns": [
        {
         "name": "index",
         "rawType": "int64",
         "type": "integer"
        },
        {
         "name": "Unnamed: 0.1",
         "rawType": "int64",
         "type": "integer"
        },
        {
         "name": "Common Name",
         "rawType": "object",
         "type": "string"
        },
        {
         "name": "Settlement BMU ID",
         "rawType": "object",
         "type": "string"
        },
        {
         "name": "Data Retrieved?",
         "rawType": "object",
         "type": "string"
        },
        {
         "name": "REPD ID (New)",
         "rawType": "int64",
         "type": "integer"
        },
        {
         "name": "Unnamed: 0",
         "rawType": "int64",
         "type": "integer"
        },
        {
         "name": "Ref ID",
         "rawType": "int64",
         "type": "integer"
        },
        {
         "name": "Operator (or Applicant)",
         "rawType": "object",
         "type": "string"
        },
        {
         "name": "Site Name",
         "rawType": "object",
         "type": "string"
        },
        {
         "name": "Technology Type",
         "rawType": "object",
         "type": "string"
        },
        {
         "name": "Installed Capacity (MWelec)",
         "rawType": "float64",
         "type": "float"
        },
        {
         "name": "Development Status (short)",
         "rawType": "object",
         "type": "string"
        },
        {
         "name": "County",
         "rawType": "object",
         "type": "string"
        },
        {
         "name": "Region",
         "rawType": "object",
         "type": "string"
        },
        {
         "name": "Country",
         "rawType": "object",
         "type": "string"
        },
        {
         "name": "X-coordinate",
         "rawType": "int64",
         "type": "integer"
        },
        {
         "name": "Y-coordinate",
         "rawType": "int64",
         "type": "integer"
        },
        {
         "name": "Planning Permission Granted",
         "rawType": "object",
         "type": "string"
        },
        {
         "name": "Under Construction",
         "rawType": "object",
         "type": "string"
        },
        {
         "name": "Operational",
         "rawType": "object",
         "type": "string"
        },
        {
         "name": "Data Retrieved?.1",
         "rawType": "float64",
         "type": "float"
        }
       ],
       "conversionMethod": "pd.DataFrame",
       "ref": "dc46ea6d-27ba-4f5b-8abb-c542215516cd",
       "rows": [
        [
         "0",
         "0",
         "Burbo Bank Offshore Wind Farm",
         "E_BURBO",
         "YES",
         "2539",
         "2061",
         "2539",
         "Orsted (formerly Dong Energy)",
         "Burbo Bank Extension (Burbo Bank 2)",
         "Wind Offshore",
         "258.0",
         "Operational",
         "Offshore",
         "Offshore",
         "England",
         "315815",
         "398892",
         "10/12/2014",
         "10/06/2016",
         "27/04/2017",
         null
        ],
        [
         "1",
         "0",
         "Burbo Bank Offshore Wind Farm",
         "T_BRBEO-1",
         "YES",
         "2539",
         "2061",
         "2539",
         "Orsted (formerly Dong Energy)",
         "Burbo Bank Extension (Burbo Bank 2)",
         "Wind Offshore",
         "258.0",
         "Operational",
         "Offshore",
         "Offshore",
         "England",
         "315815",
         "398892",
         "10/12/2014",
         "10/06/2016",
         "27/04/2017",
         null
        ],
        [
         "2",
         "2",
         "Dudgeon Offshore Wind Farm",
         "T_DDGNO-1",
         "YES",
         "2538",
         "2060",
         "2538",
         "Statoil / Statkraft",
         "Dudgeon East",
         "Wind Offshore",
         "402.0",
         "Operational",
         "Offshore",
         "Offshore",
         "England",
         "575000",
         "361000",
         "06/07/2012",
         "17/03/2016",
         "15/10/2017",
         null
        ],
        [
         "3",
         "2",
         "Dudgeon Offshore Wind Farm",
         "T_DDGNO-2",
         "YES",
         "2538",
         "2060",
         "2538",
         "Statoil / Statkraft",
         "Dudgeon East",
         "Wind Offshore",
         "402.0",
         "Operational",
         "Offshore",
         "Offshore",
         "England",
         "575000",
         "361000",
         "06/07/2012",
         "17/03/2016",
         "15/10/2017",
         null
        ],
        [
         "4",
         "2",
         "Dudgeon Offshore Wind Farm",
         "T_DDGNO-3",
         "YES",
         "2538",
         "2060",
         "2538",
         "Statoil / Statkraft",
         "Dudgeon East",
         "Wind Offshore",
         "402.0",
         "Operational",
         "Offshore",
         "Offshore",
         "England",
         "575000",
         "361000",
         "06/07/2012",
         "17/03/2016",
         "15/10/2017",
         null
        ]
       ],
       "shape": {
        "columns": 21,
        "rows": 5
       }
      },
      "text/html": [
       "<div>\n",
       "<style scoped>\n",
       "    .dataframe tbody tr th:only-of-type {\n",
       "        vertical-align: middle;\n",
       "    }\n",
       "\n",
       "    .dataframe tbody tr th {\n",
       "        vertical-align: top;\n",
       "    }\n",
       "\n",
       "    .dataframe thead th {\n",
       "        text-align: right;\n",
       "    }\n",
       "</style>\n",
       "<table border=\"1\" class=\"dataframe\">\n",
       "  <thead>\n",
       "    <tr style=\"text-align: right;\">\n",
       "      <th></th>\n",
       "      <th>Unnamed: 0.1</th>\n",
       "      <th>Common Name</th>\n",
       "      <th>Settlement BMU ID</th>\n",
       "      <th>Data Retrieved?</th>\n",
       "      <th>REPD ID (New)</th>\n",
       "      <th>Unnamed: 0</th>\n",
       "      <th>Ref ID</th>\n",
       "      <th>Operator (or Applicant)</th>\n",
       "      <th>Site Name</th>\n",
       "      <th>Technology Type</th>\n",
       "      <th>...</th>\n",
       "      <th>Development Status (short)</th>\n",
       "      <th>County</th>\n",
       "      <th>Region</th>\n",
       "      <th>Country</th>\n",
       "      <th>X-coordinate</th>\n",
       "      <th>Y-coordinate</th>\n",
       "      <th>Planning Permission Granted</th>\n",
       "      <th>Under Construction</th>\n",
       "      <th>Operational</th>\n",
       "      <th>Data Retrieved?.1</th>\n",
       "    </tr>\n",
       "  </thead>\n",
       "  <tbody>\n",
       "    <tr>\n",
       "      <th>0</th>\n",
       "      <td>0</td>\n",
       "      <td>Burbo Bank Offshore Wind Farm</td>\n",
       "      <td>E_BURBO</td>\n",
       "      <td>YES</td>\n",
       "      <td>2539</td>\n",
       "      <td>2061</td>\n",
       "      <td>2539</td>\n",
       "      <td>Orsted (formerly Dong Energy)</td>\n",
       "      <td>Burbo Bank Extension (Burbo Bank 2)</td>\n",
       "      <td>Wind Offshore</td>\n",
       "      <td>...</td>\n",
       "      <td>Operational</td>\n",
       "      <td>Offshore</td>\n",
       "      <td>Offshore</td>\n",
       "      <td>England</td>\n",
       "      <td>315815</td>\n",
       "      <td>398892</td>\n",
       "      <td>10/12/2014</td>\n",
       "      <td>10/06/2016</td>\n",
       "      <td>27/04/2017</td>\n",
       "      <td>NaN</td>\n",
       "    </tr>\n",
       "    <tr>\n",
       "      <th>1</th>\n",
       "      <td>0</td>\n",
       "      <td>Burbo Bank Offshore Wind Farm</td>\n",
       "      <td>T_BRBEO-1</td>\n",
       "      <td>YES</td>\n",
       "      <td>2539</td>\n",
       "      <td>2061</td>\n",
       "      <td>2539</td>\n",
       "      <td>Orsted (formerly Dong Energy)</td>\n",
       "      <td>Burbo Bank Extension (Burbo Bank 2)</td>\n",
       "      <td>Wind Offshore</td>\n",
       "      <td>...</td>\n",
       "      <td>Operational</td>\n",
       "      <td>Offshore</td>\n",
       "      <td>Offshore</td>\n",
       "      <td>England</td>\n",
       "      <td>315815</td>\n",
       "      <td>398892</td>\n",
       "      <td>10/12/2014</td>\n",
       "      <td>10/06/2016</td>\n",
       "      <td>27/04/2017</td>\n",
       "      <td>NaN</td>\n",
       "    </tr>\n",
       "    <tr>\n",
       "      <th>2</th>\n",
       "      <td>2</td>\n",
       "      <td>Dudgeon Offshore Wind Farm</td>\n",
       "      <td>T_DDGNO-1</td>\n",
       "      <td>YES</td>\n",
       "      <td>2538</td>\n",
       "      <td>2060</td>\n",
       "      <td>2538</td>\n",
       "      <td>Statoil / Statkraft</td>\n",
       "      <td>Dudgeon East</td>\n",
       "      <td>Wind Offshore</td>\n",
       "      <td>...</td>\n",
       "      <td>Operational</td>\n",
       "      <td>Offshore</td>\n",
       "      <td>Offshore</td>\n",
       "      <td>England</td>\n",
       "      <td>575000</td>\n",
       "      <td>361000</td>\n",
       "      <td>06/07/2012</td>\n",
       "      <td>17/03/2016</td>\n",
       "      <td>15/10/2017</td>\n",
       "      <td>NaN</td>\n",
       "    </tr>\n",
       "    <tr>\n",
       "      <th>3</th>\n",
       "      <td>2</td>\n",
       "      <td>Dudgeon Offshore Wind Farm</td>\n",
       "      <td>T_DDGNO-2</td>\n",
       "      <td>YES</td>\n",
       "      <td>2538</td>\n",
       "      <td>2060</td>\n",
       "      <td>2538</td>\n",
       "      <td>Statoil / Statkraft</td>\n",
       "      <td>Dudgeon East</td>\n",
       "      <td>Wind Offshore</td>\n",
       "      <td>...</td>\n",
       "      <td>Operational</td>\n",
       "      <td>Offshore</td>\n",
       "      <td>Offshore</td>\n",
       "      <td>England</td>\n",
       "      <td>575000</td>\n",
       "      <td>361000</td>\n",
       "      <td>06/07/2012</td>\n",
       "      <td>17/03/2016</td>\n",
       "      <td>15/10/2017</td>\n",
       "      <td>NaN</td>\n",
       "    </tr>\n",
       "    <tr>\n",
       "      <th>4</th>\n",
       "      <td>2</td>\n",
       "      <td>Dudgeon Offshore Wind Farm</td>\n",
       "      <td>T_DDGNO-3</td>\n",
       "      <td>YES</td>\n",
       "      <td>2538</td>\n",
       "      <td>2060</td>\n",
       "      <td>2538</td>\n",
       "      <td>Statoil / Statkraft</td>\n",
       "      <td>Dudgeon East</td>\n",
       "      <td>Wind Offshore</td>\n",
       "      <td>...</td>\n",
       "      <td>Operational</td>\n",
       "      <td>Offshore</td>\n",
       "      <td>Offshore</td>\n",
       "      <td>England</td>\n",
       "      <td>575000</td>\n",
       "      <td>361000</td>\n",
       "      <td>06/07/2012</td>\n",
       "      <td>17/03/2016</td>\n",
       "      <td>15/10/2017</td>\n",
       "      <td>NaN</td>\n",
       "    </tr>\n",
       "  </tbody>\n",
       "</table>\n",
       "<p>5 rows × 21 columns</p>\n",
       "</div>"
      ],
      "text/plain": [
       "   Unnamed: 0.1                    Common Name Settlement BMU ID  \\\n",
       "0             0  Burbo Bank Offshore Wind Farm           E_BURBO   \n",
       "1             0  Burbo Bank Offshore Wind Farm         T_BRBEO-1   \n",
       "2             2     Dudgeon Offshore Wind Farm         T_DDGNO-1   \n",
       "3             2     Dudgeon Offshore Wind Farm         T_DDGNO-2   \n",
       "4             2     Dudgeon Offshore Wind Farm         T_DDGNO-3   \n",
       "\n",
       "  Data Retrieved?  REPD ID (New)  Unnamed: 0  Ref ID  \\\n",
       "0             YES           2539        2061    2539   \n",
       "1             YES           2539        2061    2539   \n",
       "2             YES           2538        2060    2538   \n",
       "3             YES           2538        2060    2538   \n",
       "4             YES           2538        2060    2538   \n",
       "\n",
       "         Operator (or Applicant)                            Site Name  \\\n",
       "0  Orsted (formerly Dong Energy)  Burbo Bank Extension (Burbo Bank 2)   \n",
       "1  Orsted (formerly Dong Energy)  Burbo Bank Extension (Burbo Bank 2)   \n",
       "2            Statoil / Statkraft                         Dudgeon East   \n",
       "3            Statoil / Statkraft                         Dudgeon East   \n",
       "4            Statoil / Statkraft                         Dudgeon East   \n",
       "\n",
       "  Technology Type  ...  Development Status (short)    County    Region  \\\n",
       "0   Wind Offshore  ...                 Operational  Offshore  Offshore   \n",
       "1   Wind Offshore  ...                 Operational  Offshore  Offshore   \n",
       "2   Wind Offshore  ...                 Operational  Offshore  Offshore   \n",
       "3   Wind Offshore  ...                 Operational  Offshore  Offshore   \n",
       "4   Wind Offshore  ...                 Operational  Offshore  Offshore   \n",
       "\n",
       "   Country X-coordinate  Y-coordinate  Planning Permission Granted  \\\n",
       "0  England       315815        398892                   10/12/2014   \n",
       "1  England       315815        398892                   10/12/2014   \n",
       "2  England       575000        361000                   06/07/2012   \n",
       "3  England       575000        361000                   06/07/2012   \n",
       "4  England       575000        361000                   06/07/2012   \n",
       "\n",
       "  Under Construction Operational Data Retrieved?.1  \n",
       "0         10/06/2016  27/04/2017               NaN  \n",
       "1         10/06/2016  27/04/2017               NaN  \n",
       "2         17/03/2016  15/10/2017               NaN  \n",
       "3         17/03/2016  15/10/2017               NaN  \n",
       "4         17/03/2016  15/10/2017               NaN  \n",
       "\n",
       "[5 rows x 21 columns]"
      ]
     },
     "execution_count": 3,
     "metadata": {},
     "output_type": "execute_result"
    }
   ],
   "source": [
    "# Check the number of wind farms in the data\n",
    "print(\"There are \", len(bmu_data_analysed), \"total BMUs in the dataset.\")\n",
    "\n",
    "# Inpsect the data\n",
    "bmu_data_analysed.head()"
   ]
  },
  {
   "cell_type": "code",
   "execution_count": 4,
   "id": "f00d3a57",
   "metadata": {},
   "outputs": [
    {
     "name": "stdout",
     "output_type": "stream",
     "text": [
      "53 of 66 BMUs' data were successfully extracted from Elexon.\n"
     ]
    },
    {
     "data": {
      "application/vnd.microsoft.datawrangler.viewer.v0+json": {
       "columns": [
        {
         "name": "index",
         "rawType": "int64",
         "type": "integer"
        },
        {
         "name": "Unnamed: 0.1",
         "rawType": "int64",
         "type": "integer"
        },
        {
         "name": "Common Name",
         "rawType": "object",
         "type": "string"
        },
        {
         "name": "Settlement BMU ID",
         "rawType": "object",
         "type": "string"
        },
        {
         "name": "Data Retrieved?",
         "rawType": "object",
         "type": "string"
        },
        {
         "name": "REPD ID (New)",
         "rawType": "int64",
         "type": "integer"
        },
        {
         "name": "Unnamed: 0",
         "rawType": "int64",
         "type": "integer"
        },
        {
         "name": "Ref ID",
         "rawType": "int64",
         "type": "integer"
        },
        {
         "name": "Operator (or Applicant)",
         "rawType": "object",
         "type": "string"
        },
        {
         "name": "Site Name",
         "rawType": "object",
         "type": "string"
        },
        {
         "name": "Technology Type",
         "rawType": "object",
         "type": "string"
        },
        {
         "name": "Installed Capacity (MWelec)",
         "rawType": "float64",
         "type": "float"
        },
        {
         "name": "Development Status (short)",
         "rawType": "object",
         "type": "string"
        },
        {
         "name": "County",
         "rawType": "object",
         "type": "string"
        },
        {
         "name": "Region",
         "rawType": "object",
         "type": "string"
        },
        {
         "name": "Country",
         "rawType": "object",
         "type": "string"
        },
        {
         "name": "X-coordinate",
         "rawType": "int64",
         "type": "integer"
        },
        {
         "name": "Y-coordinate",
         "rawType": "int64",
         "type": "integer"
        },
        {
         "name": "Planning Permission Granted",
         "rawType": "object",
         "type": "string"
        },
        {
         "name": "Under Construction",
         "rawType": "object",
         "type": "string"
        },
        {
         "name": "Operational",
         "rawType": "object",
         "type": "string"
        },
        {
         "name": "Data Retrieved?.1",
         "rawType": "float64",
         "type": "float"
        }
       ],
       "conversionMethod": "pd.DataFrame",
       "ref": "a295f2f7-1546-4686-86f1-908b1a083720",
       "rows": [
        [
         "0",
         "0",
         "Burbo Bank Offshore Wind Farm",
         "E_BURBO",
         "YES",
         "2539",
         "2061",
         "2539",
         "Orsted (formerly Dong Energy)",
         "Burbo Bank Extension (Burbo Bank 2)",
         "Wind Offshore",
         "258.0",
         "Operational",
         "Offshore",
         "Offshore",
         "England",
         "315815",
         "398892",
         "10/12/2014",
         "10/06/2016",
         "27/04/2017",
         null
        ],
        [
         "1",
         "0",
         "Burbo Bank Offshore Wind Farm",
         "T_BRBEO-1",
         "YES",
         "2539",
         "2061",
         "2539",
         "Orsted (formerly Dong Energy)",
         "Burbo Bank Extension (Burbo Bank 2)",
         "Wind Offshore",
         "258.0",
         "Operational",
         "Offshore",
         "Offshore",
         "England",
         "315815",
         "398892",
         "10/12/2014",
         "10/06/2016",
         "27/04/2017",
         null
        ],
        [
         "2",
         "2",
         "Dudgeon Offshore Wind Farm",
         "T_DDGNO-1",
         "YES",
         "2538",
         "2060",
         "2538",
         "Statoil / Statkraft",
         "Dudgeon East",
         "Wind Offshore",
         "402.0",
         "Operational",
         "Offshore",
         "Offshore",
         "England",
         "575000",
         "361000",
         "06/07/2012",
         "17/03/2016",
         "15/10/2017",
         null
        ],
        [
         "3",
         "2",
         "Dudgeon Offshore Wind Farm",
         "T_DDGNO-2",
         "YES",
         "2538",
         "2060",
         "2538",
         "Statoil / Statkraft",
         "Dudgeon East",
         "Wind Offshore",
         "402.0",
         "Operational",
         "Offshore",
         "Offshore",
         "England",
         "575000",
         "361000",
         "06/07/2012",
         "17/03/2016",
         "15/10/2017",
         null
        ],
        [
         "4",
         "2",
         "Dudgeon Offshore Wind Farm",
         "T_DDGNO-3",
         "YES",
         "2538",
         "2060",
         "2538",
         "Statoil / Statkraft",
         "Dudgeon East",
         "Wind Offshore",
         "402.0",
         "Operational",
         "Offshore",
         "Offshore",
         "England",
         "575000",
         "361000",
         "06/07/2012",
         "17/03/2016",
         "15/10/2017",
         null
        ]
       ],
       "shape": {
        "columns": 21,
        "rows": 5
       }
      },
      "text/html": [
       "<div>\n",
       "<style scoped>\n",
       "    .dataframe tbody tr th:only-of-type {\n",
       "        vertical-align: middle;\n",
       "    }\n",
       "\n",
       "    .dataframe tbody tr th {\n",
       "        vertical-align: top;\n",
       "    }\n",
       "\n",
       "    .dataframe thead th {\n",
       "        text-align: right;\n",
       "    }\n",
       "</style>\n",
       "<table border=\"1\" class=\"dataframe\">\n",
       "  <thead>\n",
       "    <tr style=\"text-align: right;\">\n",
       "      <th></th>\n",
       "      <th>Unnamed: 0.1</th>\n",
       "      <th>Common Name</th>\n",
       "      <th>Settlement BMU ID</th>\n",
       "      <th>Data Retrieved?</th>\n",
       "      <th>REPD ID (New)</th>\n",
       "      <th>Unnamed: 0</th>\n",
       "      <th>Ref ID</th>\n",
       "      <th>Operator (or Applicant)</th>\n",
       "      <th>Site Name</th>\n",
       "      <th>Technology Type</th>\n",
       "      <th>...</th>\n",
       "      <th>Development Status (short)</th>\n",
       "      <th>County</th>\n",
       "      <th>Region</th>\n",
       "      <th>Country</th>\n",
       "      <th>X-coordinate</th>\n",
       "      <th>Y-coordinate</th>\n",
       "      <th>Planning Permission Granted</th>\n",
       "      <th>Under Construction</th>\n",
       "      <th>Operational</th>\n",
       "      <th>Data Retrieved?.1</th>\n",
       "    </tr>\n",
       "  </thead>\n",
       "  <tbody>\n",
       "    <tr>\n",
       "      <th>0</th>\n",
       "      <td>0</td>\n",
       "      <td>Burbo Bank Offshore Wind Farm</td>\n",
       "      <td>E_BURBO</td>\n",
       "      <td>YES</td>\n",
       "      <td>2539</td>\n",
       "      <td>2061</td>\n",
       "      <td>2539</td>\n",
       "      <td>Orsted (formerly Dong Energy)</td>\n",
       "      <td>Burbo Bank Extension (Burbo Bank 2)</td>\n",
       "      <td>Wind Offshore</td>\n",
       "      <td>...</td>\n",
       "      <td>Operational</td>\n",
       "      <td>Offshore</td>\n",
       "      <td>Offshore</td>\n",
       "      <td>England</td>\n",
       "      <td>315815</td>\n",
       "      <td>398892</td>\n",
       "      <td>10/12/2014</td>\n",
       "      <td>10/06/2016</td>\n",
       "      <td>27/04/2017</td>\n",
       "      <td>NaN</td>\n",
       "    </tr>\n",
       "    <tr>\n",
       "      <th>1</th>\n",
       "      <td>0</td>\n",
       "      <td>Burbo Bank Offshore Wind Farm</td>\n",
       "      <td>T_BRBEO-1</td>\n",
       "      <td>YES</td>\n",
       "      <td>2539</td>\n",
       "      <td>2061</td>\n",
       "      <td>2539</td>\n",
       "      <td>Orsted (formerly Dong Energy)</td>\n",
       "      <td>Burbo Bank Extension (Burbo Bank 2)</td>\n",
       "      <td>Wind Offshore</td>\n",
       "      <td>...</td>\n",
       "      <td>Operational</td>\n",
       "      <td>Offshore</td>\n",
       "      <td>Offshore</td>\n",
       "      <td>England</td>\n",
       "      <td>315815</td>\n",
       "      <td>398892</td>\n",
       "      <td>10/12/2014</td>\n",
       "      <td>10/06/2016</td>\n",
       "      <td>27/04/2017</td>\n",
       "      <td>NaN</td>\n",
       "    </tr>\n",
       "    <tr>\n",
       "      <th>2</th>\n",
       "      <td>2</td>\n",
       "      <td>Dudgeon Offshore Wind Farm</td>\n",
       "      <td>T_DDGNO-1</td>\n",
       "      <td>YES</td>\n",
       "      <td>2538</td>\n",
       "      <td>2060</td>\n",
       "      <td>2538</td>\n",
       "      <td>Statoil / Statkraft</td>\n",
       "      <td>Dudgeon East</td>\n",
       "      <td>Wind Offshore</td>\n",
       "      <td>...</td>\n",
       "      <td>Operational</td>\n",
       "      <td>Offshore</td>\n",
       "      <td>Offshore</td>\n",
       "      <td>England</td>\n",
       "      <td>575000</td>\n",
       "      <td>361000</td>\n",
       "      <td>06/07/2012</td>\n",
       "      <td>17/03/2016</td>\n",
       "      <td>15/10/2017</td>\n",
       "      <td>NaN</td>\n",
       "    </tr>\n",
       "    <tr>\n",
       "      <th>3</th>\n",
       "      <td>2</td>\n",
       "      <td>Dudgeon Offshore Wind Farm</td>\n",
       "      <td>T_DDGNO-2</td>\n",
       "      <td>YES</td>\n",
       "      <td>2538</td>\n",
       "      <td>2060</td>\n",
       "      <td>2538</td>\n",
       "      <td>Statoil / Statkraft</td>\n",
       "      <td>Dudgeon East</td>\n",
       "      <td>Wind Offshore</td>\n",
       "      <td>...</td>\n",
       "      <td>Operational</td>\n",
       "      <td>Offshore</td>\n",
       "      <td>Offshore</td>\n",
       "      <td>England</td>\n",
       "      <td>575000</td>\n",
       "      <td>361000</td>\n",
       "      <td>06/07/2012</td>\n",
       "      <td>17/03/2016</td>\n",
       "      <td>15/10/2017</td>\n",
       "      <td>NaN</td>\n",
       "    </tr>\n",
       "    <tr>\n",
       "      <th>4</th>\n",
       "      <td>2</td>\n",
       "      <td>Dudgeon Offshore Wind Farm</td>\n",
       "      <td>T_DDGNO-3</td>\n",
       "      <td>YES</td>\n",
       "      <td>2538</td>\n",
       "      <td>2060</td>\n",
       "      <td>2538</td>\n",
       "      <td>Statoil / Statkraft</td>\n",
       "      <td>Dudgeon East</td>\n",
       "      <td>Wind Offshore</td>\n",
       "      <td>...</td>\n",
       "      <td>Operational</td>\n",
       "      <td>Offshore</td>\n",
       "      <td>Offshore</td>\n",
       "      <td>England</td>\n",
       "      <td>575000</td>\n",
       "      <td>361000</td>\n",
       "      <td>06/07/2012</td>\n",
       "      <td>17/03/2016</td>\n",
       "      <td>15/10/2017</td>\n",
       "      <td>NaN</td>\n",
       "    </tr>\n",
       "  </tbody>\n",
       "</table>\n",
       "<p>5 rows × 21 columns</p>\n",
       "</div>"
      ],
      "text/plain": [
       "   Unnamed: 0.1                    Common Name Settlement BMU ID  \\\n",
       "0             0  Burbo Bank Offshore Wind Farm           E_BURBO   \n",
       "1             0  Burbo Bank Offshore Wind Farm         T_BRBEO-1   \n",
       "2             2     Dudgeon Offshore Wind Farm         T_DDGNO-1   \n",
       "3             2     Dudgeon Offshore Wind Farm         T_DDGNO-2   \n",
       "4             2     Dudgeon Offshore Wind Farm         T_DDGNO-3   \n",
       "\n",
       "  Data Retrieved?  REPD ID (New)  Unnamed: 0  Ref ID  \\\n",
       "0             YES           2539        2061    2539   \n",
       "1             YES           2539        2061    2539   \n",
       "2             YES           2538        2060    2538   \n",
       "3             YES           2538        2060    2538   \n",
       "4             YES           2538        2060    2538   \n",
       "\n",
       "         Operator (or Applicant)                            Site Name  \\\n",
       "0  Orsted (formerly Dong Energy)  Burbo Bank Extension (Burbo Bank 2)   \n",
       "1  Orsted (formerly Dong Energy)  Burbo Bank Extension (Burbo Bank 2)   \n",
       "2            Statoil / Statkraft                         Dudgeon East   \n",
       "3            Statoil / Statkraft                         Dudgeon East   \n",
       "4            Statoil / Statkraft                         Dudgeon East   \n",
       "\n",
       "  Technology Type  ...  Development Status (short)    County    Region  \\\n",
       "0   Wind Offshore  ...                 Operational  Offshore  Offshore   \n",
       "1   Wind Offshore  ...                 Operational  Offshore  Offshore   \n",
       "2   Wind Offshore  ...                 Operational  Offshore  Offshore   \n",
       "3   Wind Offshore  ...                 Operational  Offshore  Offshore   \n",
       "4   Wind Offshore  ...                 Operational  Offshore  Offshore   \n",
       "\n",
       "   Country X-coordinate  Y-coordinate  Planning Permission Granted  \\\n",
       "0  England       315815        398892                   10/12/2014   \n",
       "1  England       315815        398892                   10/12/2014   \n",
       "2  England       575000        361000                   06/07/2012   \n",
       "3  England       575000        361000                   06/07/2012   \n",
       "4  England       575000        361000                   06/07/2012   \n",
       "\n",
       "  Under Construction Operational Data Retrieved?.1  \n",
       "0         10/06/2016  27/04/2017               NaN  \n",
       "1         10/06/2016  27/04/2017               NaN  \n",
       "2         17/03/2016  15/10/2017               NaN  \n",
       "3         17/03/2016  15/10/2017               NaN  \n",
       "4         17/03/2016  15/10/2017               NaN  \n",
       "\n",
       "[5 rows x 21 columns]"
      ]
     },
     "execution_count": 4,
     "metadata": {},
     "output_type": "execute_result"
    }
   ],
   "source": [
    "# Filter out the wind farms whose data were successfully extracted\n",
    "bmu_data_filtered = bmu_data_analysed[bmu_data_analysed[\"Data Retrieved?\"] == \"YES\"]\n",
    "print(len(bmu_data_filtered), \"of\", len(bmu_data_analysed),\"BMUs' data were successfully extracted from Elexon.\")\n",
    "bmu_data_filtered.head()"
   ]
  },
  {
   "cell_type": "code",
   "execution_count": 5,
   "id": "362c64ad",
   "metadata": {},
   "outputs": [
    {
     "name": "stdout",
     "output_type": "stream",
     "text": [
      "There are 21 unique wind farms in the dataset\n"
     ]
    }
   ],
   "source": [
    "# The datasets contain 53 BMUs, but how many of them are unique wind farms?\n",
    "unique_names = bmu_data_filtered[\"Common Name\"].unique()\n",
    "print(\"There are\", len(unique_names), \"unique wind farms in the dataset\")"
   ]
  },
  {
   "cell_type": "code",
   "execution_count": 25,
   "id": "f6d7e94b",
   "metadata": {},
   "outputs": [
    {
     "data": {
      "text/plain": [
       "array(['Burbo Bank Offshore Wind Farm', 'Dudgeon Offshore Wind Farm',\n",
       "       'Galloper Offshore Wind Farm',\n",
       "       'Greater Gabbard Offshore Wind Farm',\n",
       "       'Gwynt y Mor Offshore Wind Farm', 'Humber Offshore Wind Farm',\n",
       "       'Lincs Offshore Wind Farm', 'London Array Wind Farm',\n",
       "       'Ormonde Offshore Wind Farm', 'Race Bank Offshore Wind Farm',\n",
       "       'Rampion Offshore Wind Farm', 'Sheringham Shoals Wind Farm',\n",
       "       'Thanet Offshore Wind Farm', 'Walney Offshore Wind Farm',\n",
       "       'Westermost Rough Wind Farm',\n",
       "       'West of Duddon Sands Offshore Wind Farm',\n",
       "       'Aberdeen Offshore Wind Farm', 'Beatrice Offshore Wind Farm',\n",
       "       'East Anglia Offshore Wind Farm', 'Hornsea Offshore Wind Farm',\n",
       "       'Triton Knoll Offshore Wind Farm'], dtype=object)"
      ]
     },
     "execution_count": 25,
     "metadata": {},
     "output_type": "execute_result"
    }
   ],
   "source": [
    "# Inspect the array of unique wind farms\n",
    "unique_names"
   ]
  },
  {
   "cell_type": "markdown",
   "id": "8af373e7",
   "metadata": {},
   "source": [
    "There are 21 unique offshore wind farms in the dataset for which data was able to be extracted from Elexon. This volume of data is acceptable for this project as not all wind farms participate in the UK electricity balancing market."
   ]
  },
  {
   "cell_type": "markdown",
   "id": "4d52877c",
   "metadata": {},
   "source": [
    "The x and y coordintaes of the wind farm locations in csv file are in the British National Grid (OSGB36) coordinate system, representing eastings (X) and northings (Y), respectively."
   ]
  },
  {
   "cell_type": "code",
   "execution_count": 6,
   "id": "fb6d151a",
   "metadata": {},
   "outputs": [
    {
     "name": "stdout",
     "output_type": "stream",
     "text": [
      "Burbo Bank Offshore Wind Farm is located at: X = 315815 eastings, Y = 398892 northings\n",
      "Dudgeon Offshore Wind Farm is located at: X = 575000 eastings, Y = 361000 northings\n",
      "Galloper Offshore Wind Farm is located at: X = 678139 eastings, Y = 227875 northings\n",
      "Greater Gabbard Offshore Wind Farm is located at: X = 670237 eastings, Y = 231640 northings\n",
      "Gwynt y Mor Offshore Wind Farm is located at: X = 292082 eastings, Y = 396482 northings\n",
      "Humber Offshore Wind Farm is located at: X = 566400 eastings, Y = 390760 northings\n",
      "Lincs Offshore Wind Farm is located at: X = 567020 eastings, Y = 368144 northings\n",
      "London Array Wind Farm is located at: X = 642078 eastings, Y = 197218 northings\n",
      "Ormonde Offshore Wind Farm is located at: X = 306000 eastings, Y = 466842 northings\n",
      "Race Bank Offshore Wind Farm is located at: X = 573300 eastings, Y = 363000 northings\n",
      "Rampion Offshore Wind Farm is located at: X = 528790 eastings, Y = 83836 northings\n",
      "Sheringham Shoals Wind Farm is located at: X = 610671 eastings, Y = 364425 northings\n",
      "Thanet Offshore Wind Farm is located at: X = 652658 eastings, Y = 176367 northings\n",
      "Walney Offshore Wind Farm is located at: X = 286289 eastings, Y = 467410 northings\n",
      "Westermost Rough Wind Farm is located at: X = 571600 eastings, Y = 358680 northings\n",
      "West of Duddon Sands Offshore Wind Farm is located at: X = 304230 eastings, Y = 455334 northings\n",
      "Aberdeen Offshore Wind Farm is located at: X = 395693 eastings, Y = 806148 northings\n",
      "Beatrice Offshore Wind Farm is located at: X = 344074 eastings, Y = 911416 northings\n",
      "East Anglia Offshore Wind Farm is located at: X = 685500 eastings, Y = 257000 northings\n",
      "Hornsea Offshore Wind Farm is located at: X = 632326 eastings, Y = 457349 northings\n",
      "Triton Knoll Offshore Wind Farm is located at: X = 591183 eastings, Y = 372179 northings\n"
     ]
    }
   ],
   "source": [
    "# Extract the x and y coordinates for each unique wind farm in the filtered dataset\n",
    "\n",
    "for name in unique_names:\n",
    "    # Get the first occurrence of this Common Name\n",
    "    row = bmu_data_filtered[bmu_data_filtered[\"Common Name\"] == name].iloc[0]\n",
    "    \n",
    "    # Extract coordinates\n",
    "    x_coord = row['X-coordinate']\n",
    "    y_coord = row['Y-coordinate']\n",
    "    \n",
    "    # Print the result\n",
    "    print(f\"{name} is located at: X = {x_coord} eastings, Y = {y_coord} northings\")"
   ]
  },
  {
   "cell_type": "markdown",
   "id": "f607468c",
   "metadata": {},
   "source": [
    "To extract the historical climate data for each unique wind farm, the coordinates are transformed from the BNG system to the WGS84 system for compatibility with the requirements of the climate data store. A function is created to generate bounding boxes specifying the location of the wind farms in the WGS84 coordinate system to enable data extraction from the climate data store."
   ]
  },
  {
   "cell_type": "code",
   "execution_count": 12,
   "id": "06f8e6ec",
   "metadata": {},
   "outputs": [],
   "source": [
    "# bounding box function that creates bounding box depending on windfarm location:\n",
    "from pyproj import Transformer\n",
    "# Create transformer: BNG (EPSG:27700) → WGS84 (EPSG:4326)\n",
    "transformer = Transformer.from_crs(\"epsg:27700\", \"epsg:4326\", always_xy=True)\n",
    "\n",
    "def create_bounding_box(x_coord, y_coord,resolution):\n",
    "   \n",
    "    # Transform to (lon, lat)\n",
    "    lon, lat = transformer.transform(x_coord, y_coord)\n",
    "\n",
    "    # Create box centered on the point with size of one CMIP grid cell\n",
    "    # Return box as [North, West, South, East]\n",
    "    return [\n",
    "        lat + (resolution/2),  # North\n",
    "        lon - (resolution/2),  # West\n",
    "        lat - (resolution/2),  # South\n",
    "        lon + (resolution/2)   # East\n",
    "    ]"
   ]
  },
  {
   "cell_type": "markdown",
   "id": "81853649",
   "metadata": {},
   "source": [
    "References for spatial resolution used above:\n",
    "\n",
    "https://confluence.ecmwf.int/display/CKB/ERA5%3A+data+documentation#heading-Spatialgrid\n",
    "\n",
    "https://confluence.ecmwf.int/display/CKB/ERA5%3A+What+is+the+spatial+reference\n"
   ]
  },
  {
   "cell_type": "code",
   "execution_count": null,
   "id": "f0906764",
   "metadata": {},
   "outputs": [
    {
     "name": "stderr",
     "output_type": "stream",
     "text": [
      "c:\\Program Files\\Python310\\lib\\site-packages\\datapi\\api_client.py:83: UserWarning: HTTPSConnectionPool(host='cds.climate.copernicus.eu', port=443): Max retries exceeded with url: /api/catalogue/v1/messages (Caused by SSLError(SSLEOFError(8, 'EOF occurred in violation of protocol (_ssl.c:1007)')))\n",
      "  warnings.warn(str(exc), UserWarning)\n"
     ]
    },
    {
     "name": "stdout",
     "output_type": "stream",
     "text": [
      "Processing Burbo Bank Offshore Wind Farm at coordinates (315815, 398892)\n",
      "  ERA5 bounding box: [53.62061690227019, -3.4106250161010156, 53.33936690227019, -3.1293750161010156]\n",
      "Downloading ERA5 data for Burbo Bank Offshore Wind Farm...\n",
      "Error downloading data for Burbo Bank Offshore Wind Farm: 403 Client Error: Forbidden for url: https://cds.climate.copernicus.eu/api/retrieve/v1/processes/reanalysis-era5-single-levels/execution\n",
      "cost limits exceeded\n",
      "Your request is too large, please reduce your selection.\n",
      "Processing Dudgeon Offshore Wind Farm at coordinates (575000, 361000)\n",
      "  ERA5 bounding box: [53.25808506190724, 0.47284322788571176, 52.97683506190724, 0.7540932278857118]\n",
      "Downloading ERA5 data for Dudgeon Offshore Wind Farm...\n",
      "Error downloading data for Dudgeon Offshore Wind Farm: 403 Client Error: Forbidden for url: https://cds.climate.copernicus.eu/api/retrieve/v1/processes/reanalysis-era5-single-levels/execution\n",
      "cost limits exceeded\n",
      "Your request is too large, please reduce your selection.\n",
      "Processing Galloper Offshore Wind Farm at coordinates (678139, 227875)\n",
      "  ERA5 bounding box: [52.02061673192822, 1.8993684355980855, 51.73936673192822, 2.1806184355980855]\n",
      "Downloading ERA5 data for Galloper Offshore Wind Farm...\n",
      "Error downloading data for Galloper Offshore Wind Farm: 403 Client Error: Forbidden for url: https://cds.climate.copernicus.eu/api/retrieve/v1/processes/reanalysis-era5-single-levels/execution\n",
      "cost limits exceeded\n",
      "Your request is too large, please reduce your selection.\n",
      "Processing Greater Gabbard Offshore Wind Farm at coordinates (670237, 231640)\n",
      "  ERA5 bounding box: [52.05826965935985, 1.7877952368399181, 51.77701965935985, 2.0690452368399184]\n",
      "Downloading ERA5 data for Greater Gabbard Offshore Wind Farm...\n",
      "Error downloading data for Greater Gabbard Offshore Wind Farm: 403 Client Error: Forbidden for url: https://cds.climate.copernicus.eu/api/retrieve/v1/processes/reanalysis-era5-single-levels/execution\n",
      "cost limits exceeded\n",
      "Your request is too large, please reduce your selection.\n",
      "Processing Gwynt y Mor Offshore Wind Farm at coordinates (292082, 396482)\n",
      "  ERA5 bounding box: [53.594628441843525, -3.7672736319369373, 53.313378441843525, -3.4860236319369373]\n",
      "Downloading ERA5 data for Gwynt y Mor Offshore Wind Farm...\n",
      "Error downloading data for Gwynt y Mor Offshore Wind Farm: 403 Client Error: Forbidden for url: https://cds.climate.copernicus.eu/api/retrieve/v1/processes/reanalysis-era5-single-levels/execution\n",
      "cost limits exceeded\n",
      "Your request is too large, please reduce your selection.\n",
      "Processing Humber Offshore Wind Farm at coordinates (566400, 390760)\n",
      "  ERA5 bounding box: [53.52808783042494, 0.36001850320593876, 53.24683783042494, 0.6412685032059388]\n",
      "Downloading ERA5 data for Humber Offshore Wind Farm...\n",
      "Error downloading data for Humber Offshore Wind Farm: 403 Client Error: Forbidden for url: https://cds.climate.copernicus.eu/api/retrieve/v1/processes/reanalysis-era5-single-levels/execution\n",
      "cost limits exceeded\n",
      "Your request is too large, please reduce your selection.\n",
      "Processing Lincs Offshore Wind Farm at coordinates (567020, 368144)\n",
      "  ERA5 bounding box: [53.3247974387018, 0.35745200216191614, 53.0435474387018, 0.6387020021619161]\n",
      "Downloading ERA5 data for Lincs Offshore Wind Farm...\n",
      "Error downloading data for Lincs Offshore Wind Farm: 403 Client Error: Forbidden for url: https://cds.climate.copernicus.eu/api/retrieve/v1/processes/reanalysis-era5-single-levels/execution\n",
      "cost limits exceeded\n",
      "Your request is too large, please reduce your selection.\n",
      "Processing London Array Wind Farm at coordinates (642078, 197218)\n",
      "  ERA5 bounding box: [51.762304300913954, 1.3552066372825315, 51.481054300913954, 1.6364566372825315]\n",
      "Downloading ERA5 data for London Array Wind Farm...\n",
      "Error downloading data for London Array Wind Farm: 403 Client Error: Forbidden for url: https://cds.climate.copernicus.eu/api/retrieve/v1/processes/reanalysis-era5-single-levels/execution\n",
      "cost limits exceeded\n",
      "Your request is too large, please reduce your selection.\n",
      "Processing Ormonde Offshore Wind Farm at coordinates (306000, 466842)\n",
      "  ERA5 bounding box: [54.22949684061225, -3.579215299125097, 53.94824684061225, -3.297965299125097]\n",
      "Downloading ERA5 data for Ormonde Offshore Wind Farm...\n",
      "Error downloading data for Ormonde Offshore Wind Farm: 403 Client Error: Forbidden for url: https://cds.climate.copernicus.eu/api/retrieve/v1/processes/reanalysis-era5-single-levels/execution\n",
      "cost limits exceeded\n",
      "Your request is too large, please reduce your selection.\n",
      "Processing Race Bank Offshore Wind Farm at coordinates (573300, 363000)\n",
      "  ERA5 bounding box: [53.27659922722279, 0.4485493756243718, 52.99534922722279, 0.7297993756243718]\n",
      "Downloading ERA5 data for Race Bank Offshore Wind Farm...\n",
      "Error downloading data for Race Bank Offshore Wind Farm: 403 Client Error: Forbidden for url: https://cds.climate.copernicus.eu/api/retrieve/v1/processes/reanalysis-era5-single-levels/execution\n",
      "cost limits exceeded\n",
      "Your request is too large, please reduce your selection.\n",
      "Processing Rampion Offshore Wind Farm at coordinates (528790, 83836)\n",
      "  ERA5 bounding box: [50.780618607481635, -0.3206282585150817, 50.499368607481635, -0.03937825851508173]\n",
      "Downloading ERA5 data for Rampion Offshore Wind Farm...\n",
      "Error downloading data for Rampion Offshore Wind Farm: 403 Client Error: Forbidden for url: https://cds.climate.copernicus.eu/api/retrieve/v1/processes/reanalysis-era5-single-levels/execution\n",
      "cost limits exceeded\n",
      "Your request is too large, please reduce your selection.\n",
      "Processing Sheringham Shoals Wind Farm at coordinates (610671, 364425)\n",
      "  ERA5 bounding box: [53.275943591811256, 1.0072968639515487, 52.994693591811256, 1.2885468639515487]\n",
      "Downloading ERA5 data for Sheringham Shoals Wind Farm...\n",
      "Error downloading data for Sheringham Shoals Wind Farm: 403 Client Error: Forbidden for url: https://cds.climate.copernicus.eu/api/retrieve/v1/processes/reanalysis-era5-single-levels/execution\n",
      "cost limits exceeded\n",
      "Your request is too large, please reduce your selection.\n",
      "Processing Thanet Offshore Wind Farm at coordinates (652658, 176367)\n",
      "  ERA5 bounding box: [51.57055705828252, 1.4927863898517628, 51.28930705828252, 1.7740363898517628]\n",
      "Downloading ERA5 data for Thanet Offshore Wind Farm...\n",
      "Error downloading data for Thanet Offshore Wind Farm: 403 Client Error: Forbidden for url: https://cds.climate.copernicus.eu/api/retrieve/v1/processes/reanalysis-era5-single-levels/execution\n",
      "cost limits exceeded\n",
      "Your request is too large, please reduce your selection.\n",
      "Processing Walney Offshore Wind Farm at coordinates (286289, 467410)\n",
      "  ERA5 bounding box: [54.230619661952886, -3.8806356467008327, 53.949369661952886, -3.5993856467008327]\n",
      "Downloading ERA5 data for Walney Offshore Wind Farm...\n",
      "Error downloading data for Walney Offshore Wind Farm: 403 Client Error: Forbidden for url: https://cds.climate.copernicus.eu/api/retrieve/v1/processes/reanalysis-era5-single-levels/execution\n",
      "cost limits exceeded\n",
      "Your request is too large, please reduce your selection.\n",
      "Processing Westermost Rough Wind Farm at coordinates (571600, 358680)\n",
      "  ERA5 bounding box: [53.238355204705954, 0.42085629345829656, 52.957105204705954, 0.7021062934582966]\n",
      "Downloading ERA5 data for Westermost Rough Wind Farm...\n",
      "Error downloading data for Westermost Rough Wind Farm: 403 Client Error: Forbidden for url: https://cds.climate.copernicus.eu/api/retrieve/v1/processes/reanalysis-era5-single-levels/execution\n",
      "cost limits exceeded\n",
      "Your request is too large, please reduce your selection.\n",
      "Processing West of Duddon Sands Offshore Wind Farm at coordinates (304230, 455334)\n",
      "  ERA5 bounding box: [54.12577482535916, -3.602632068918209, 53.84452482535916, -3.321382068918209]\n",
      "Downloading ERA5 data for West of Duddon Sands Offshore Wind Farm...\n",
      "Error downloading data for West of Duddon Sands Offshore Wind Farm: 403 Client Error: Forbidden for url: https://cds.climate.copernicus.eu/api/retrieve/v1/processes/reanalysis-era5-single-levels/execution\n",
      "cost limits exceeded\n",
      "Your request is too large, please reduce your selection.\n",
      "Processing Aberdeen Offshore Wind Farm at coordinates (395693, 806148)\n",
      "  ERA5 bounding box: [57.286824675544395, -2.2134372420190562, 57.005574675544395, -1.9321872420190562]\n",
      "Downloading ERA5 data for Aberdeen Offshore Wind Farm...\n",
      "Error downloading data for Aberdeen Offshore Wind Farm: 403 Client Error: Forbidden for url: https://cds.climate.copernicus.eu/api/retrieve/v1/processes/reanalysis-era5-single-levels/execution\n",
      "cost limits exceeded\n",
      "Your request is too large, please reduce your selection.\n",
      "Processing Beatrice Offshore Wind Farm at coordinates (344074, 911416)\n",
      "  ERA5 bounding box: [58.22885426265909, -3.0907822056563075, 57.94760426265909, -2.8095322056563075]\n",
      "Downloading ERA5 data for Beatrice Offshore Wind Farm...\n",
      "Error downloading data for Beatrice Offshore Wind Farm: 403 Client Error: Forbidden for url: https://cds.climate.copernicus.eu/api/retrieve/v1/processes/reanalysis-era5-single-levels/execution\n",
      "cost limits exceeded\n",
      "Your request is too large, please reduce your selection.\n",
      "Processing East Anglia Offshore Wind Farm at coordinates (685500, 257000)\n",
      "  ERA5 bounding box: [52.27758713020822, 2.032171159006266, 51.99633713020822, 2.313421159006266]\n",
      "Downloading ERA5 data for East Anglia Offshore Wind Farm...\n",
      "Error downloading data for East Anglia Offshore Wind Farm: 403 Client Error: Forbidden for url: https://cds.climate.copernicus.eu/api/retrieve/v1/processes/reanalysis-era5-single-levels/execution\n",
      "cost limits exceeded\n",
      "Your request is too large, please reduce your selection.\n",
      "Processing Hornsea Offshore Wind Farm at coordinates (632326, 457349)\n",
      "  ERA5 bounding box: [54.10062318095858, 1.399361417884591, 53.81937318095858, 1.680611417884591]\n",
      "Downloading ERA5 data for Hornsea Offshore Wind Farm...\n",
      "Error downloading data for Hornsea Offshore Wind Farm: 403 Client Error: Forbidden for url: https://cds.climate.copernicus.eu/api/retrieve/v1/processes/reanalysis-era5-single-levels/execution\n",
      "cost limits exceeded\n",
      "Your request is too large, please reduce your selection.\n",
      "Processing Triton Knoll Offshore Wind Farm at coordinates (591183, 372179)\n",
      "  ERA5 bounding box: [53.35289729537231, 0.7210140875533684, 53.07164729537231, 1.0022640875533684]\n",
      "Downloading ERA5 data for Triton Knoll Offshore Wind Farm...\n",
      "Error downloading data for Triton Knoll Offshore Wind Farm: 403 Client Error: Forbidden for url: https://cds.climate.copernicus.eu/api/retrieve/v1/processes/reanalysis-era5-single-levels/execution\n",
      "cost limits exceeded\n",
      "Your request is too large, please reduce your selection.\n",
      "Processing complete!\n"
     ]
    }
   ],
   "source": [
    "# Extract the historical climate data (2019-2024) for each wind farm using the climate data store api and the bounding box function\n",
    "# Change all file paths below to your preferred directory\n",
    "\n",
    "from math import cos, radians\n",
    "\n",
    "# Create a directory to store the data\n",
    "if not os.path.exists('era5_data'):\n",
    "    os.makedirs('era5_data')\n",
    "\n",
    "# Create a directory to store the data\n",
    "output_dir = \"C:/Users/Oke/Documents/UCL MSc ESDA/ESDA_Term 2/BENV0148 Advanced Machine Learning/BENV0148 Coursework/ERA5 Historical Data\"\n",
    "\n",
    "# Dataset name\n",
    "dataset = \"reanalysis-era5-single-levels\"\n",
    "\n",
    "#Create client object\n",
    "client = cdsapi.Client()\n",
    "\n",
    "# Base request template\n",
    "base_request = {\n",
    "    \"product_type\": [\"reanalysis\"],\n",
    "    \"variable\": [\n",
    "        \"10m_u_component_of_wind\",\n",
    "        \"10m_v_component_of_wind\",\n",
    "        \"2m_dewpoint_temperature\",\n",
    "        \"2m_temperature\",\n",
    "        \"surface_pressure\"\n",
    "    ],\n",
    "    \"year\": [\"2019\", \"2020\", \"2021\", \"2022\", \"2023\", \"2024\"],\n",
    "    \"month\": [\n",
    "        \"01\", \"02\", \"03\", \"04\", \"05\", \"06\",\n",
    "        \"07\", \"08\", \"09\", \"10\", \"11\", \"12\"\n",
    "    ],\n",
    "    \"day\": [\n",
    "        \"01\", \"02\", \"03\", \"04\", \"05\", \"06\",\n",
    "        \"07\", \"08\", \"09\", \"10\", \"11\", \"12\",\n",
    "        \"13\", \"14\", \"15\", \"16\", \"17\", \"18\",\n",
    "        \"19\", \"20\", \"21\", \"22\", \"23\", \"24\",\n",
    "        \"25\", \"26\", \"27\", \"28\", \"29\", \"30\", \"31\"\n",
    "    ],\n",
    "    \"time\": [\n",
    "        \"00:00\", \"01:00\", \"02:00\", \"03:00\", \"04:00\", \"05:00\",\n",
    "        \"06:00\", \"07:00\", \"08:00\", \"09:00\", \"10:00\", \"11:00\",\n",
    "        \"12:00\", \"13:00\", \"14:00\", \"15:00\", \"16:00\", \"17:00\",\n",
    "        \"18:00\", \"19:00\", \"20:00\", \"21:00\", \"22:00\", \"23:00\"\n",
    "    ],\n",
    "    \"format\": \"grib\" \n",
    "}\n",
    "\n",
    "# Process each unique wind farm\n",
    "for farm_name in unique_names:\n",
    "    # Get the first row with this farm name\n",
    "    row = bmu_data_filtered[bmu_data_filtered['Common Name'] == farm_name].iloc[0]\n",
    "    \n",
    "    # Extract coordinates\n",
    "    x_coord = row['X-coordinate']\n",
    "    y_coord = row['Y-coordinate']\n",
    "    \n",
    "    # Skip if coordinates are missing\n",
    "    if pd.isna(x_coord) or pd.isna(y_coord):\n",
    "        print(f\"Skipping {farm_name} due to missing coordinates\")\n",
    "        continue\n",
    "    \n",
    "    print(f\"Processing {farm_name} at coordinates ({x_coord}, {y_coord})\")\n",
    "    \n",
    "    # Create a bounding box at ERA5 native resolution\n",
    "    area_box = create_bounding_box(x_coord, y_coord, 0.28125) # ERA5 resolution is ~0.28125 degrees\n",
    "    print(f\"  ERA5 bounding box: {area_box}\")\n",
    "    \n",
    "    # Create a custom request for this farm\n",
    "    farm_request = base_request.copy()\n",
    "    farm_request[\"area\"] = area_box\n",
    "    \n",
    "    # Set output filename - clean up farm name for file safety\n",
    "    safe_farm_name = ''.join(c if c.isalnum() else '_' for c in farm_name)\n",
    "    target = os.path.join(output_dir, f\"{safe_farm_name}.grib\")\n",
    "    \n",
    "    try:\n",
    "        print(f\"Downloading ERA5 data for {farm_name}...\")\n",
    "        client.retrieve(dataset, farm_request).download(target)\n",
    "        print(f\"Successfully downloaded data to {target}\")\n",
    "    except Exception as e:\n",
    "        print(f\"Error downloading data for {farm_name}: {str(e)}\")\n",
    "\n",
    "print(\"Processing complete!\")\n"
   ]
  },
  {
   "cell_type": "markdown",
   "id": "dc5cd822",
   "metadata": {},
   "source": [
    "### **Projected Climate Data Extraction**"
   ]
  },
  {
   "cell_type": "markdown",
   "id": "d7213389",
   "metadata": {},
   "source": [
    "##### 1. Projected climate data from the CMIP6 dataset on CDS is only available in monthly resolution.\n",
    "##### 2. For projecting future wind power generation, upsampling techniques may be used to convert the monthly projected climate data to daily projected climate data to match the resolution of daily historic climate data used. \n",
    "##### 3. For consistency, the same function for extration is used as for the historic climate data, with the only difference being adjustments to the base_request template function namely to extract from cmip6 dataset (projected climate data) instead of era5  (historic climate data) and for the years 2025-2045 at a monthly resolution. \n",
    "##### 4. Since not all climate projection models cover the all the regions where offshore GB wind farms are located, a loop is used for each windfarm to scan all projection models and find the suitable corresponding model that has data available for the geographic location of that particular windfarm.\n",
    "##### 5. The same cell below is used to extract data for both scenarios (ssp1-2.6 and ssp5-8.5). To switch between extracting data for the two different scenarios the \"experiment\" variable in the first line of the cell is uncommentd as needed. "
   ]
  },
  {
   "cell_type": "code",
   "execution_count": 16,
   "id": "11e3ebbc",
   "metadata": {},
   "outputs": [
    {
     "name": "stderr",
     "output_type": "stream",
     "text": [
      "2025-04-12 20:26:18,180 INFO [2024-09-26T00:00:00] Watch our [Forum](https://forum.ecmwf.int/) for Announcements, news and other discussed topics.\n",
      "2025-04-12 20:26:18,188 WARNING [2024-06-16T00:00:00] CDS API syntax is changed and some keys or parameter names may have also changed. To avoid requests failing, please use the \"Show API request code\" tool on the dataset Download Form to check you are using the correct syntax for your API request.\n"
     ]
    },
    {
     "name": "stdout",
     "output_type": "stream",
     "text": [
      "Processing Burbo Bank Offshore Wind Farm at coordinates (315815, 398892)\n",
      "Trying HadGEM3-GC31-LL | r1i1p1f1 for Burbo Bank Offshore Wind Farm\n"
     ]
    },
    {
     "name": "stderr",
     "output_type": "stream",
     "text": [
      "2025-04-12 20:26:19,184 INFO Request ID is 927e02d9-ebc3-4bf2-9118-ea53b7feb8b2\n",
      "2025-04-12 20:26:19,285 INFO status has been updated to accepted\n",
      "2025-04-12 20:26:52,356 INFO status has been updated to running\n",
      "2025-04-12 20:27:09,555 INFO status has been updated to successful\n"
     ]
    },
    {
     "data": {
      "application/vnd.jupyter.widget-view+json": {
       "model_id": "26581e76929c4805a00be0a91d523bb3",
       "version_major": 2,
       "version_minor": 0
      },
      "text/plain": [
       "573659d2a6a269e74df246ca7d6d9c71.zip:   0%|          | 0.00/271k [00:00<?, ?B/s]"
      ]
     },
     "metadata": {},
     "output_type": "display_data"
    },
    {
     "name": "stdout",
     "output_type": "stream",
     "text": [
      "✅ Success: HadGEM3-GC31-LL | r1i1p1f1\n",
      "Processing Dudgeon Offshore Wind Farm at coordinates (575000, 361000)\n",
      "Trying HadGEM3-GC31-LL | r1i1p1f1 for Dudgeon Offshore Wind Farm\n"
     ]
    },
    {
     "name": "stderr",
     "output_type": "stream",
     "text": [
      "2025-04-12 20:27:11,804 INFO Request ID is cb9e1766-7856-46a8-bcc9-a819a80233e5\n",
      "2025-04-12 20:27:11,922 INFO status has been updated to accepted\n",
      "2025-04-12 20:27:25,832 INFO status has been updated to running\n",
      "2025-04-12 20:27:33,845 INFO status has been updated to successful\n"
     ]
    },
    {
     "data": {
      "application/vnd.jupyter.widget-view+json": {
       "model_id": "0d6d774007e64439b20595ce40c4ed45",
       "version_major": 2,
       "version_minor": 0
      },
      "text/plain": [
       "c97416c36beee2553c22e923eb981499.zip:   0%|          | 0.00/269k [00:00<?, ?B/s]"
      ]
     },
     "metadata": {},
     "output_type": "display_data"
    },
    {
     "name": "stdout",
     "output_type": "stream",
     "text": [
      "❌ Failed: HadGEM3-GC31-LL | r1i1p1f1\n",
      "Error downloading data for Dudgeon Offshore Wind Farm: HTTPSConnectionPool(host='object-store.os-api.cci2.ecmwf.int', port=443): Max retries exceeded with url: /cci2-prod-cache-1/2025-04-08/c97416c36beee2553c22e923eb981499.zip (Caused by SSLError(SSLEOFError(8, 'EOF occurred in violation of protocol (_ssl.c:1007)')))\n",
      "Trying HadGEM3-GC31-LL | r2i1p1f1 for Dudgeon Offshore Wind Farm\n"
     ]
    },
    {
     "name": "stderr",
     "output_type": "stream",
     "text": [
      "2025-04-12 20:27:35,382 INFO Request ID is 8c29faeb-3afd-405c-ad63-12a45d5b1401\n",
      "2025-04-12 20:27:35,504 INFO status has been updated to accepted\n",
      "2025-04-12 20:27:50,126 INFO status has been updated to running\n",
      "2025-04-12 20:28:09,338 INFO status has been updated to successful\n"
     ]
    },
    {
     "data": {
      "application/vnd.jupyter.widget-view+json": {
       "model_id": "21b8c56c195c45c88a75d31d6724a3f7",
       "version_major": 2,
       "version_minor": 0
      },
      "text/plain": [
       "935fce668b826591de828ec17a40f6c7.zip:   0%|          | 0.00/268k [00:00<?, ?B/s]"
      ]
     },
     "metadata": {},
     "output_type": "display_data"
    },
    {
     "name": "stdout",
     "output_type": "stream",
     "text": [
      "✅ Success: HadGEM3-GC31-LL | r2i1p1f1\n",
      "Processing Galloper Offshore Wind Farm at coordinates (678139, 227875)\n",
      "Trying HadGEM3-GC31-LL | r1i1p1f1 for Galloper Offshore Wind Farm\n"
     ]
    },
    {
     "name": "stderr",
     "output_type": "stream",
     "text": [
      "2025-04-12 20:28:12,558 INFO Request ID is a4b5ef6a-f882-4215-ae19-77c6d65c5a1c\n",
      "2025-04-12 20:28:12,765 INFO status has been updated to accepted\n",
      "2025-04-12 20:28:34,540 INFO status has been updated to running\n",
      "2025-04-12 20:29:03,455 INFO status has been updated to failed\n"
     ]
    },
    {
     "name": "stdout",
     "output_type": "stream",
     "text": [
      "❌ Failed: HadGEM3-GC31-LL | r1i1p1f1\n",
      "Error downloading data for Galloper Offshore Wind Farm: 400 Client Error: Bad Request for url: https://cds.climate.copernicus.eu/api/retrieve/v1/jobs/a4b5ef6a-f882-4215-ae19-77c6d65c5a1c/results\n",
      "The job has failed.\n",
      "The job failed with: RoocsRuntimeError\n",
      "Trying HadGEM3-GC31-LL | r2i1p1f1 for Galloper Offshore Wind Farm\n"
     ]
    },
    {
     "name": "stderr",
     "output_type": "stream",
     "text": [
      "2025-04-12 20:29:04,884 INFO Request ID is 8bc0844f-d611-4640-8f56-1c43ca0908b9\n",
      "2025-04-12 20:29:05,287 INFO status has been updated to accepted\n",
      "2025-04-12 20:29:14,226 INFO status has been updated to running\n",
      "2025-04-12 20:29:38,801 INFO status has been updated to failed\n"
     ]
    },
    {
     "name": "stdout",
     "output_type": "stream",
     "text": [
      "❌ Failed: HadGEM3-GC31-LL | r2i1p1f1\n",
      "Error downloading data for Galloper Offshore Wind Farm: 400 Client Error: Bad Request for url: https://cds.climate.copernicus.eu/api/retrieve/v1/jobs/8bc0844f-d611-4640-8f56-1c43ca0908b9/results\n",
      "The job has failed.\n",
      "The job failed with: RoocsRuntimeError\n",
      "Trying HadGEM3-GC31-LL | r3i1p1f1 for Galloper Offshore Wind Farm\n"
     ]
    },
    {
     "name": "stderr",
     "output_type": "stream",
     "text": [
      "2025-04-12 20:29:40,922 INFO Request ID is 254229de-90e1-4c01-91a3-1b801ff33074\n",
      "2025-04-12 20:29:41,061 INFO status has been updated to accepted\n",
      "2025-04-12 20:29:54,934 INFO status has been updated to running\n",
      "2025-04-12 20:30:03,662 INFO status has been updated to failed\n"
     ]
    },
    {
     "name": "stdout",
     "output_type": "stream",
     "text": [
      "❌ Failed: HadGEM3-GC31-LL | r3i1p1f1\n",
      "Error downloading data for Galloper Offshore Wind Farm: 400 Client Error: Bad Request for url: https://cds.climate.copernicus.eu/api/retrieve/v1/jobs/254229de-90e1-4c01-91a3-1b801ff33074/results\n",
      "The job has failed.\n",
      "The job failed with: RoocsRuntimeError\n",
      "Trying CNRM-CM6-1 | r1i1p1f1 for Galloper Offshore Wind Farm\n"
     ]
    },
    {
     "name": "stderr",
     "output_type": "stream",
     "text": [
      "2025-04-12 20:30:04,666 INFO Request ID is 2d8498bc-220e-4895-92d6-d49c71218cf6\n",
      "2025-04-12 20:30:04,795 INFO status has been updated to accepted\n",
      "2025-04-12 20:30:26,805 INFO status has been updated to running\n",
      "2025-04-12 20:30:38,302 INFO status has been updated to failed\n"
     ]
    },
    {
     "name": "stdout",
     "output_type": "stream",
     "text": [
      "❌ Failed: CNRM-CM6-1 | r1i1p1f1\n",
      "Error downloading data for Galloper Offshore Wind Farm: 400 Client Error: Bad Request for url: https://cds.climate.copernicus.eu/api/retrieve/v1/jobs/2d8498bc-220e-4895-92d6-d49c71218cf6/results\n",
      "The job has failed.\n",
      "The job failed with: RoocsRuntimeError\n",
      "Trying CNRM-CM6-1 | r2i1p1f1 for Galloper Offshore Wind Farm\n"
     ]
    },
    {
     "name": "stderr",
     "output_type": "stream",
     "text": [
      "2025-04-12 20:30:39,485 INFO Request ID is 3b63bd30-1f65-47ae-9f2e-0cf75e96dfd8\n",
      "2025-04-12 20:30:39,577 INFO status has been updated to accepted\n",
      "2025-04-12 20:30:53,345 INFO status has been updated to running\n",
      "2025-04-12 20:31:12,610 INFO status has been updated to failed\n"
     ]
    },
    {
     "name": "stdout",
     "output_type": "stream",
     "text": [
      "❌ Failed: CNRM-CM6-1 | r2i1p1f1\n",
      "Error downloading data for Galloper Offshore Wind Farm: 400 Client Error: Bad Request for url: https://cds.climate.copernicus.eu/api/retrieve/v1/jobs/3b63bd30-1f65-47ae-9f2e-0cf75e96dfd8/results\n",
      "The job has failed.\n",
      "The job failed with: RoocsRuntimeError\n",
      "Trying CNRM-CM6-1 | r3i1p1f1 for Galloper Offshore Wind Farm\n"
     ]
    },
    {
     "name": "stderr",
     "output_type": "stream",
     "text": [
      "2025-04-12 20:31:14,103 INFO Request ID is b7953b3c-6238-4c22-b527-a7ee149a8326\n",
      "2025-04-12 20:31:14,707 INFO status has been updated to accepted\n",
      "2025-04-12 20:31:23,313 INFO status has been updated to running\n",
      "2025-04-12 20:32:05,128 INFO status has been updated to failed\n"
     ]
    },
    {
     "name": "stdout",
     "output_type": "stream",
     "text": [
      "❌ Failed: CNRM-CM6-1 | r3i1p1f1\n",
      "Error downloading data for Galloper Offshore Wind Farm: 400 Client Error: Bad Request for url: https://cds.climate.copernicus.eu/api/retrieve/v1/jobs/b7953b3c-6238-4c22-b527-a7ee149a8326/results\n",
      "The job has failed.\n",
      "The job failed with: RoocsRuntimeError\n",
      "Trying EC-Earth3 | r1i1p1f1 for Galloper Offshore Wind Farm\n"
     ]
    },
    {
     "name": "stderr",
     "output_type": "stream",
     "text": [
      "2025-04-12 20:32:06,269 INFO Request ID is 6f2c9579-4ed8-4409-bf3b-37ad8b87e20f\n",
      "2025-04-12 20:32:06,445 INFO status has been updated to accepted\n",
      "2025-04-12 20:32:57,799 INFO status has been updated to failed\n"
     ]
    },
    {
     "name": "stdout",
     "output_type": "stream",
     "text": [
      "❌ Failed: EC-Earth3 | r1i1p1f1\n",
      "Error downloading data for Galloper Offshore Wind Farm: 400 Client Error: Bad Request for url: https://cds.climate.copernicus.eu/api/retrieve/v1/jobs/6f2c9579-4ed8-4409-bf3b-37ad8b87e20f/results\n",
      "The job has failed.\n",
      "The job failed with: RoocsValueError\n",
      "Trying EC-Earth3 | r2i1p1f1 for Galloper Offshore Wind Farm\n"
     ]
    },
    {
     "name": "stderr",
     "output_type": "stream",
     "text": [
      "2025-04-12 20:32:59,277 INFO Request ID is a3ee78eb-d696-44bc-9bb8-d896aa6ad4ce\n",
      "2025-04-12 20:32:59,577 INFO status has been updated to accepted\n",
      "2025-04-12 20:33:08,436 INFO status has been updated to running\n",
      "2025-04-12 20:33:21,296 INFO status has been updated to failed\n"
     ]
    },
    {
     "name": "stdout",
     "output_type": "stream",
     "text": [
      "❌ Failed: EC-Earth3 | r2i1p1f1\n",
      "Error downloading data for Galloper Offshore Wind Farm: 400 Client Error: Bad Request for url: https://cds.climate.copernicus.eu/api/retrieve/v1/jobs/a3ee78eb-d696-44bc-9bb8-d896aa6ad4ce/results\n",
      "The job has failed.\n",
      "The job failed with: RoocsValueError\n",
      "Trying EC-Earth3 | r3i1p1f1 for Galloper Offshore Wind Farm\n"
     ]
    },
    {
     "name": "stderr",
     "output_type": "stream",
     "text": [
      "2025-04-12 20:33:23,737 INFO Request ID is 9753bbb3-ada8-4e57-a92e-d5e20c588e11\n",
      "2025-04-12 20:33:23,849 INFO status has been updated to accepted\n",
      "2025-04-12 20:33:37,870 INFO status has been updated to failed\n"
     ]
    },
    {
     "name": "stdout",
     "output_type": "stream",
     "text": [
      "❌ Failed: EC-Earth3 | r3i1p1f1\n",
      "Error downloading data for Galloper Offshore Wind Farm: 400 Client Error: Bad Request for url: https://cds.climate.copernicus.eu/api/retrieve/v1/jobs/9753bbb3-ada8-4e57-a92e-d5e20c588e11/results\n",
      "The job has failed.\n",
      "The job failed with: RoocsValueError\n",
      "Trying MIROC6 | r1i1p1f1 for Galloper Offshore Wind Farm\n"
     ]
    },
    {
     "name": "stderr",
     "output_type": "stream",
     "text": [
      "2025-04-12 20:33:39,705 INFO Request ID is abf1661d-bd27-45e1-a34b-61a4f9c30806\n",
      "2025-04-12 20:33:39,821 INFO status has been updated to accepted\n",
      "2025-04-12 20:33:53,612 INFO status has been updated to running\n",
      "2025-04-12 20:34:12,986 INFO status has been updated to failed\n"
     ]
    },
    {
     "name": "stdout",
     "output_type": "stream",
     "text": [
      "❌ Failed: MIROC6 | r1i1p1f1\n",
      "Error downloading data for Galloper Offshore Wind Farm: 400 Client Error: Bad Request for url: https://cds.climate.copernicus.eu/api/retrieve/v1/jobs/abf1661d-bd27-45e1-a34b-61a4f9c30806/results\n",
      "The job has failed.\n",
      "The job failed with: RoocsRuntimeError\n",
      "Trying MIROC6 | r2i1p1f1 for Galloper Offshore Wind Farm\n"
     ]
    },
    {
     "name": "stderr",
     "output_type": "stream",
     "text": [
      "2025-04-12 20:34:14,122 INFO Request ID is 8afbb78a-a53f-45ae-87ce-ab5c25da9a7b\n",
      "2025-04-12 20:34:14,331 INFO status has been updated to accepted\n",
      "2025-04-12 20:34:29,185 INFO status has been updated to running\n",
      "2025-04-12 20:34:36,867 INFO status has been updated to failed\n"
     ]
    },
    {
     "name": "stdout",
     "output_type": "stream",
     "text": [
      "❌ Failed: MIROC6 | r2i1p1f1\n",
      "Error downloading data for Galloper Offshore Wind Farm: 400 Client Error: Bad Request for url: https://cds.climate.copernicus.eu/api/retrieve/v1/jobs/8afbb78a-a53f-45ae-87ce-ab5c25da9a7b/results\n",
      "The job has failed.\n",
      "The job failed with: RoocsRuntimeError\n",
      "Trying MIROC6 | r3i1p1f1 for Galloper Offshore Wind Farm\n"
     ]
    },
    {
     "name": "stderr",
     "output_type": "stream",
     "text": [
      "2025-04-12 20:34:37,877 INFO Request ID is 76262847-21bc-4dc8-898c-c2354ece7357\n",
      "2025-04-12 20:34:38,085 INFO status has been updated to accepted\n",
      "2025-04-12 20:34:59,810 INFO status has been updated to running\n",
      "2025-04-12 20:35:11,300 INFO status has been updated to failed\n"
     ]
    },
    {
     "name": "stdout",
     "output_type": "stream",
     "text": [
      "❌ Failed: MIROC6 | r3i1p1f1\n",
      "Error downloading data for Galloper Offshore Wind Farm: 400 Client Error: Bad Request for url: https://cds.climate.copernicus.eu/api/retrieve/v1/jobs/76262847-21bc-4dc8-898c-c2354ece7357/results\n",
      "The job has failed.\n",
      "The job failed with: RoocsRuntimeError\n",
      "Processing Greater Gabbard Offshore Wind Farm at coordinates (670237, 231640)\n",
      "Trying HadGEM3-GC31-LL | r1i1p1f1 for Greater Gabbard Offshore Wind Farm\n"
     ]
    },
    {
     "name": "stderr",
     "output_type": "stream",
     "text": [
      "2025-04-12 20:35:12,491 INFO Request ID is 14feef7a-2bed-4edd-9c65-046d1389e099\n",
      "2025-04-12 20:35:12,570 INFO status has been updated to accepted\n",
      "2025-04-12 20:35:26,623 INFO status has been updated to running\n",
      "2025-04-12 20:36:03,574 INFO status has been updated to failed\n"
     ]
    },
    {
     "name": "stdout",
     "output_type": "stream",
     "text": [
      "❌ Failed: HadGEM3-GC31-LL | r1i1p1f1\n",
      "Error downloading data for Greater Gabbard Offshore Wind Farm: 400 Client Error: Bad Request for url: https://cds.climate.copernicus.eu/api/retrieve/v1/jobs/14feef7a-2bed-4edd-9c65-046d1389e099/results\n",
      "The job has failed.\n",
      "The job failed with: RoocsRuntimeError\n",
      "Trying HadGEM3-GC31-LL | r2i1p1f1 for Greater Gabbard Offshore Wind Farm\n"
     ]
    },
    {
     "name": "stderr",
     "output_type": "stream",
     "text": [
      "2025-04-12 20:36:04,509 INFO Request ID is 493cb307-2f4f-4c86-851e-e55940ec9f26\n",
      "2025-04-12 20:36:04,651 INFO status has been updated to accepted\n",
      "2025-04-12 20:36:18,939 INFO status has been updated to running\n",
      "2025-04-12 20:36:26,627 INFO status has been updated to failed\n"
     ]
    },
    {
     "name": "stdout",
     "output_type": "stream",
     "text": [
      "❌ Failed: HadGEM3-GC31-LL | r2i1p1f1\n",
      "Error downloading data for Greater Gabbard Offshore Wind Farm: 400 Client Error: Bad Request for url: https://cds.climate.copernicus.eu/api/retrieve/v1/jobs/493cb307-2f4f-4c86-851e-e55940ec9f26/results\n",
      "The job has failed.\n",
      "The job failed with: RoocsRuntimeError\n",
      "Trying HadGEM3-GC31-LL | r3i1p1f1 for Greater Gabbard Offshore Wind Farm\n"
     ]
    },
    {
     "name": "stderr",
     "output_type": "stream",
     "text": [
      "2025-04-12 20:36:28,265 INFO Request ID is 9676d5e7-6d69-49d7-85c8-ae6adfae7a0e\n",
      "2025-04-12 20:36:28,350 INFO status has been updated to accepted\n",
      "2025-04-12 20:36:37,184 INFO status has been updated to running\n",
      "2025-04-12 20:36:50,383 INFO status has been updated to failed\n"
     ]
    },
    {
     "name": "stdout",
     "output_type": "stream",
     "text": [
      "❌ Failed: HadGEM3-GC31-LL | r3i1p1f1\n",
      "Error downloading data for Greater Gabbard Offshore Wind Farm: 400 Client Error: Bad Request for url: https://cds.climate.copernicus.eu/api/retrieve/v1/jobs/9676d5e7-6d69-49d7-85c8-ae6adfae7a0e/results\n",
      "The job has failed.\n",
      "The job failed with: RoocsRuntimeError\n",
      "Trying CNRM-CM6-1 | r1i1p1f1 for Greater Gabbard Offshore Wind Farm\n"
     ]
    },
    {
     "name": "stderr",
     "output_type": "stream",
     "text": [
      "2025-04-12 20:36:51,667 INFO Request ID is 89be1d27-c5b9-4d18-9810-64f9fe234362\n",
      "2025-04-12 20:36:51,796 INFO status has been updated to accepted\n",
      "2025-04-12 20:37:06,367 INFO status has been updated to running\n",
      "2025-04-12 20:37:14,116 INFO status has been updated to accepted\n",
      "2025-04-12 20:37:25,615 INFO status has been updated to successful\n"
     ]
    },
    {
     "data": {
      "application/vnd.jupyter.widget-view+json": {
       "model_id": "cd9e615de4024e5e85cd03ea6bc41f1d",
       "version_major": 2,
       "version_minor": 0
      },
      "text/plain": [
       "603e182aad119b639d9ec9bfefc71988.zip:   0%|          | 0.00/263k [00:00<?, ?B/s]"
      ]
     },
     "metadata": {},
     "output_type": "display_data"
    },
    {
     "name": "stdout",
     "output_type": "stream",
     "text": [
      "✅ Success: CNRM-CM6-1 | r1i1p1f1\n",
      "Processing Gwynt y Mor Offshore Wind Farm at coordinates (292082, 396482)\n",
      "Trying HadGEM3-GC31-LL | r1i1p1f1 for Gwynt y Mor Offshore Wind Farm\n"
     ]
    },
    {
     "name": "stderr",
     "output_type": "stream",
     "text": [
      "2025-04-12 20:37:28,476 INFO Request ID is 659a120f-4106-4539-b10a-55b1d16feff2\n",
      "2025-04-12 20:37:28,783 INFO status has been updated to accepted\n",
      "2025-04-12 20:37:37,712 INFO status has been updated to running\n",
      "2025-04-12 20:37:56,484 INFO status has been updated to failed\n"
     ]
    },
    {
     "name": "stdout",
     "output_type": "stream",
     "text": [
      "❌ Failed: HadGEM3-GC31-LL | r1i1p1f1\n",
      "Error downloading data for Gwynt y Mor Offshore Wind Farm: 400 Client Error: Bad Request for url: https://cds.climate.copernicus.eu/api/retrieve/v1/jobs/659a120f-4106-4539-b10a-55b1d16feff2/results\n",
      "The job has failed.\n",
      "The job failed with: RoocsRuntimeError\n",
      "Trying HadGEM3-GC31-LL | r2i1p1f1 for Gwynt y Mor Offshore Wind Farm\n"
     ]
    },
    {
     "name": "stderr",
     "output_type": "stream",
     "text": [
      "2025-04-12 20:37:57,941 INFO Request ID is 0c4c3e59-6e3c-4f81-a11a-76c4d9319662\n",
      "2025-04-12 20:37:58,184 INFO status has been updated to accepted\n",
      "2025-04-12 20:38:07,166 INFO status has been updated to running\n",
      "2025-04-12 20:38:31,872 INFO status has been updated to failed\n"
     ]
    },
    {
     "name": "stdout",
     "output_type": "stream",
     "text": [
      "❌ Failed: HadGEM3-GC31-LL | r2i1p1f1\n",
      "Error downloading data for Gwynt y Mor Offshore Wind Farm: 400 Client Error: Bad Request for url: https://cds.climate.copernicus.eu/api/retrieve/v1/jobs/0c4c3e59-6e3c-4f81-a11a-76c4d9319662/results\n",
      "The job has failed.\n",
      "The job failed with: RoocsRuntimeError\n",
      "Trying HadGEM3-GC31-LL | r3i1p1f1 for Gwynt y Mor Offshore Wind Farm\n"
     ]
    },
    {
     "name": "stderr",
     "output_type": "stream",
     "text": [
      "2025-04-12 20:38:33,355 INFO Request ID is fa7fd762-b3d3-4220-b63b-633938c6c040\n",
      "2025-04-12 20:38:33,663 INFO status has been updated to accepted\n",
      "2025-04-12 20:38:48,615 INFO status has been updated to running\n",
      "2025-04-12 20:39:07,817 INFO status has been updated to failed\n"
     ]
    },
    {
     "name": "stdout",
     "output_type": "stream",
     "text": [
      "❌ Failed: HadGEM3-GC31-LL | r3i1p1f1\n",
      "Error downloading data for Gwynt y Mor Offshore Wind Farm: 400 Client Error: Bad Request for url: https://cds.climate.copernicus.eu/api/retrieve/v1/jobs/fa7fd762-b3d3-4220-b63b-633938c6c040/results\n",
      "The job has failed.\n",
      "The job failed with: RoocsRuntimeError\n",
      "Trying CNRM-CM6-1 | r1i1p1f1 for Gwynt y Mor Offshore Wind Farm\n"
     ]
    },
    {
     "name": "stderr",
     "output_type": "stream",
     "text": [
      "2025-04-12 20:39:09,297 INFO Request ID is 5217fea1-9dfd-4615-a5bd-70373334639f\n",
      "2025-04-12 20:39:09,405 INFO status has been updated to accepted\n",
      "2025-04-12 20:39:31,174 INFO status has been updated to running\n",
      "2025-04-12 20:39:42,680 INFO status has been updated to successful\n"
     ]
    },
    {
     "data": {
      "application/vnd.jupyter.widget-view+json": {
       "model_id": "b4648b6e49cd4fc0ad24c7cafabc69f4",
       "version_major": 2,
       "version_minor": 0
      },
      "text/plain": [
       "6b7c23b3ba391bf87d770cb1959db38d.zip:   0%|          | 0.00/262k [00:00<?, ?B/s]"
      ]
     },
     "metadata": {},
     "output_type": "display_data"
    },
    {
     "name": "stdout",
     "output_type": "stream",
     "text": [
      "✅ Success: CNRM-CM6-1 | r1i1p1f1\n",
      "Processing Humber Offshore Wind Farm at coordinates (566400, 390760)\n",
      "Trying HadGEM3-GC31-LL | r1i1p1f1 for Humber Offshore Wind Farm\n"
     ]
    },
    {
     "name": "stderr",
     "output_type": "stream",
     "text": [
      "2025-04-12 20:39:45,073 INFO Request ID is 62561941-0c88-4d82-9ba0-bef8aebd87fb\n",
      "2025-04-12 20:39:45,490 INFO status has been updated to accepted\n",
      "2025-04-12 20:39:59,855 INFO status has been updated to successful\n"
     ]
    },
    {
     "data": {
      "application/vnd.jupyter.widget-view+json": {
       "model_id": "020356bee15e4888bcf8eb1b99bcbf8e",
       "version_major": 2,
       "version_minor": 0
      },
      "text/plain": [
       "da28f5d64404ea967df2b73ce7e3bdd5.zip:   0%|          | 0.00/268k [00:00<?, ?B/s]"
      ]
     },
     "metadata": {},
     "output_type": "display_data"
    },
    {
     "name": "stdout",
     "output_type": "stream",
     "text": [
      "✅ Success: HadGEM3-GC31-LL | r1i1p1f1\n",
      "Processing Lincs Offshore Wind Farm at coordinates (567020, 368144)\n",
      "Trying HadGEM3-GC31-LL | r1i1p1f1 for Lincs Offshore Wind Farm\n"
     ]
    },
    {
     "name": "stderr",
     "output_type": "stream",
     "text": [
      "2025-04-12 20:40:02,264 INFO Request ID is c7eb1007-bd65-4130-a3f6-0be2cdef3a24\n",
      "2025-04-12 20:40:02,556 INFO status has been updated to accepted\n",
      "2025-04-12 20:40:12,081 INFO status has been updated to running\n",
      "2025-04-12 20:40:17,498 INFO status has been updated to accepted\n",
      "2025-04-12 20:40:25,524 INFO status has been updated to successful\n"
     ]
    },
    {
     "data": {
      "application/vnd.jupyter.widget-view+json": {
       "model_id": "9787df55ee174b3ba038a0aa86549f1b",
       "version_major": 2,
       "version_minor": 0
      },
      "text/plain": [
       "fb90643109f7cb7c0ec00cdd2652be5a.zip:   0%|          | 0.00/269k [00:00<?, ?B/s]"
      ]
     },
     "metadata": {},
     "output_type": "display_data"
    },
    {
     "name": "stdout",
     "output_type": "stream",
     "text": [
      "✅ Success: HadGEM3-GC31-LL | r1i1p1f1\n",
      "Processing London Array Wind Farm at coordinates (642078, 197218)\n",
      "Trying HadGEM3-GC31-LL | r1i1p1f1 for London Array Wind Farm\n"
     ]
    },
    {
     "name": "stderr",
     "output_type": "stream",
     "text": [
      "2025-04-12 20:40:27,839 INFO Request ID is 3679e014-4906-4495-9a37-3879453e0b92\n",
      "2025-04-12 20:40:28,056 INFO status has been updated to accepted\n",
      "2025-04-12 20:40:36,808 INFO status has been updated to running\n",
      "2025-04-12 20:40:41,989 INFO status has been updated to successful\n"
     ]
    },
    {
     "data": {
      "application/vnd.jupyter.widget-view+json": {
       "model_id": "7f1388e44e4f4b919297ab63bf57ed9f",
       "version_major": 2,
       "version_minor": 0
      },
      "text/plain": [
       "eea2f959047f050ba56080a11f773c4a.zip: 0.00B [00:00, ?B/s]"
      ]
     },
     "metadata": {},
     "output_type": "display_data"
    },
    {
     "name": "stdout",
     "output_type": "stream",
     "text": [
      "✅ Success: HadGEM3-GC31-LL | r1i1p1f1\n",
      "Processing Ormonde Offshore Wind Farm at coordinates (306000, 466842)\n",
      "Trying HadGEM3-GC31-LL | r1i1p1f1 for Ormonde Offshore Wind Farm\n"
     ]
    },
    {
     "name": "stderr",
     "output_type": "stream",
     "text": [
      "2025-04-12 20:40:44,878 INFO Request ID is cc17d2d9-5cec-4a42-8d1e-3f43b50ec155\n",
      "2025-04-12 20:40:44,991 INFO status has been updated to accepted\n",
      "2025-04-12 20:41:07,257 INFO status has been updated to failed\n"
     ]
    },
    {
     "name": "stdout",
     "output_type": "stream",
     "text": [
      "❌ Failed: HadGEM3-GC31-LL | r1i1p1f1\n",
      "Error downloading data for Ormonde Offshore Wind Farm: 400 Client Error: Bad Request for url: https://cds.climate.copernicus.eu/api/retrieve/v1/jobs/cc17d2d9-5cec-4a42-8d1e-3f43b50ec155/results\n",
      "The job has failed.\n",
      "The job failed with: RoocsRuntimeError\n",
      "Trying HadGEM3-GC31-LL | r2i1p1f1 for Ormonde Offshore Wind Farm\n"
     ]
    },
    {
     "name": "stderr",
     "output_type": "stream",
     "text": [
      "2025-04-12 20:41:08,531 INFO Request ID is 5b363d91-0e13-4f36-a4dc-4d9d8c9e22f1\n",
      "2025-04-12 20:41:08,623 INFO status has been updated to accepted\n",
      "2025-04-12 20:41:17,940 INFO status has been updated to running\n",
      "2025-04-12 20:41:30,998 INFO status has been updated to failed\n"
     ]
    },
    {
     "name": "stdout",
     "output_type": "stream",
     "text": [
      "❌ Failed: HadGEM3-GC31-LL | r2i1p1f1\n",
      "Error downloading data for Ormonde Offshore Wind Farm: 400 Client Error: Bad Request for url: https://cds.climate.copernicus.eu/api/retrieve/v1/jobs/5b363d91-0e13-4f36-a4dc-4d9d8c9e22f1/results\n",
      "The job has failed.\n",
      "The job failed with: RoocsRuntimeError\n",
      "Trying HadGEM3-GC31-LL | r3i1p1f1 for Ormonde Offshore Wind Farm\n"
     ]
    },
    {
     "name": "stderr",
     "output_type": "stream",
     "text": [
      "2025-04-12 20:41:32,441 INFO Request ID is 9b4714e2-9b89-426f-9186-addb6d7386f6\n",
      "2025-04-12 20:41:32,998 INFO status has been updated to accepted\n",
      "2025-04-12 20:41:54,749 INFO status has been updated to running\n",
      "2025-04-12 20:42:06,231 INFO status has been updated to failed\n"
     ]
    },
    {
     "name": "stdout",
     "output_type": "stream",
     "text": [
      "❌ Failed: HadGEM3-GC31-LL | r3i1p1f1\n",
      "Error downloading data for Ormonde Offshore Wind Farm: 400 Client Error: Bad Request for url: https://cds.climate.copernicus.eu/api/retrieve/v1/jobs/9b4714e2-9b89-426f-9186-addb6d7386f6/results\n",
      "The job has failed.\n",
      "The job failed with: RoocsRuntimeError\n",
      "Trying CNRM-CM6-1 | r1i1p1f1 for Ormonde Offshore Wind Farm\n"
     ]
    },
    {
     "name": "stderr",
     "output_type": "stream",
     "text": [
      "2025-04-12 20:42:07,407 INFO Request ID is 70430e67-526f-4040-ad7b-d8ccc1807e50\n",
      "2025-04-12 20:42:07,732 INFO status has been updated to accepted\n",
      "2025-04-12 20:42:58,790 INFO status has been updated to failed\n"
     ]
    },
    {
     "name": "stdout",
     "output_type": "stream",
     "text": [
      "❌ Failed: CNRM-CM6-1 | r1i1p1f1\n",
      "Error downloading data for Ormonde Offshore Wind Farm: 400 Client Error: Bad Request for url: https://cds.climate.copernicus.eu/api/retrieve/v1/jobs/70430e67-526f-4040-ad7b-d8ccc1807e50/results\n",
      "The job has failed.\n",
      "The job failed with: RoocsRuntimeError\n",
      "Trying CNRM-CM6-1 | r2i1p1f1 for Ormonde Offshore Wind Farm\n"
     ]
    },
    {
     "name": "stderr",
     "output_type": "stream",
     "text": [
      "2025-04-12 20:43:02,044 INFO Request ID is ff124d23-64e6-4003-8a32-7386969f7f1a\n",
      "2025-04-12 20:43:02,181 INFO status has been updated to accepted\n",
      "2025-04-12 20:43:11,798 INFO status has been updated to running\n",
      "2025-04-12 20:43:36,467 INFO status has been updated to failed\n"
     ]
    },
    {
     "name": "stdout",
     "output_type": "stream",
     "text": [
      "❌ Failed: CNRM-CM6-1 | r2i1p1f1\n",
      "Error downloading data for Ormonde Offshore Wind Farm: 400 Client Error: Bad Request for url: https://cds.climate.copernicus.eu/api/retrieve/v1/jobs/ff124d23-64e6-4003-8a32-7386969f7f1a/results\n",
      "The job has failed.\n",
      "The job failed with: RoocsRuntimeError\n",
      "Trying CNRM-CM6-1 | r3i1p1f1 for Ormonde Offshore Wind Farm\n"
     ]
    },
    {
     "name": "stderr",
     "output_type": "stream",
     "text": [
      "2025-04-12 20:43:37,727 INFO Request ID is 9bc81095-02b8-440f-a41b-f92d99c3555b\n",
      "2025-04-12 20:43:37,839 INFO status has been updated to accepted\n",
      "2025-04-12 20:43:51,833 INFO status has been updated to running\n",
      "2025-04-12 20:44:00,048 INFO status has been updated to failed\n"
     ]
    },
    {
     "name": "stdout",
     "output_type": "stream",
     "text": [
      "❌ Failed: CNRM-CM6-1 | r3i1p1f1\n",
      "Error downloading data for Ormonde Offshore Wind Farm: 400 Client Error: Bad Request for url: https://cds.climate.copernicus.eu/api/retrieve/v1/jobs/9bc81095-02b8-440f-a41b-f92d99c3555b/results\n",
      "The job has failed.\n",
      "The job failed with: RoocsRuntimeError\n",
      "Trying EC-Earth3 | r1i1p1f1 for Ormonde Offshore Wind Farm\n"
     ]
    },
    {
     "name": "stderr",
     "output_type": "stream",
     "text": [
      "2025-04-12 20:44:02,498 INFO Request ID is 942f7219-5c5f-4966-8dab-525d28ee3b48\n",
      "2025-04-12 20:44:02,641 INFO status has been updated to accepted\n",
      "2025-04-12 20:44:16,523 INFO status has been updated to running\n",
      "2025-04-12 20:44:24,293 INFO status has been updated to failed\n"
     ]
    },
    {
     "name": "stdout",
     "output_type": "stream",
     "text": [
      "❌ Failed: EC-Earth3 | r1i1p1f1\n",
      "Error downloading data for Ormonde Offshore Wind Farm: 400 Client Error: Bad Request for url: https://cds.climate.copernicus.eu/api/retrieve/v1/jobs/942f7219-5c5f-4966-8dab-525d28ee3b48/results\n",
      "The job has failed.\n",
      "The job failed with: RoocsValueError\n",
      "Trying EC-Earth3 | r2i1p1f1 for Ormonde Offshore Wind Farm\n"
     ]
    },
    {
     "name": "stderr",
     "output_type": "stream",
     "text": [
      "2025-04-12 20:44:25,342 INFO Request ID is ba730ef7-42c9-44c2-87b3-0415184cc542\n",
      "2025-04-12 20:44:25,463 INFO status has been updated to accepted\n",
      "2025-04-12 20:44:34,574 INFO status has been updated to running\n",
      "2025-04-12 20:44:39,757 INFO status has been updated to failed\n"
     ]
    },
    {
     "name": "stdout",
     "output_type": "stream",
     "text": [
      "❌ Failed: EC-Earth3 | r2i1p1f1\n",
      "Error downloading data for Ormonde Offshore Wind Farm: 400 Client Error: Bad Request for url: https://cds.climate.copernicus.eu/api/retrieve/v1/jobs/ba730ef7-42c9-44c2-87b3-0415184cc542/results\n",
      "The job has failed.\n",
      "The job failed with: RoocsValueError\n",
      "Trying EC-Earth3 | r3i1p1f1 for Ormonde Offshore Wind Farm\n"
     ]
    },
    {
     "name": "stderr",
     "output_type": "stream",
     "text": [
      "2025-04-12 20:44:41,214 INFO Request ID is e6e8298d-7550-4bc4-952f-1241b599b325\n",
      "2025-04-12 20:44:42,115 INFO status has been updated to accepted\n",
      "2025-04-12 20:44:51,181 INFO status has been updated to running\n",
      "2025-04-12 20:44:56,373 INFO status has been updated to failed\n"
     ]
    },
    {
     "name": "stdout",
     "output_type": "stream",
     "text": [
      "❌ Failed: EC-Earth3 | r3i1p1f1\n",
      "Error downloading data for Ormonde Offshore Wind Farm: 400 Client Error: Bad Request for url: https://cds.climate.copernicus.eu/api/retrieve/v1/jobs/e6e8298d-7550-4bc4-952f-1241b599b325/results\n",
      "The job has failed.\n",
      "The job failed with: RoocsValueError\n",
      "Trying MIROC6 | r1i1p1f1 for Ormonde Offshore Wind Farm\n"
     ]
    },
    {
     "name": "stderr",
     "output_type": "stream",
     "text": [
      "2025-04-12 20:44:57,598 INFO Request ID is d8a971ad-d79d-4d6a-939a-b4e3d87f6a0a\n",
      "2025-04-12 20:44:57,725 INFO status has been updated to accepted\n",
      "2025-04-12 20:45:06,326 INFO status has been updated to running\n",
      "2025-04-12 20:45:19,242 INFO status has been updated to failed\n"
     ]
    },
    {
     "name": "stdout",
     "output_type": "stream",
     "text": [
      "❌ Failed: MIROC6 | r1i1p1f1\n",
      "Error downloading data for Ormonde Offshore Wind Farm: 400 Client Error: Bad Request for url: https://cds.climate.copernicus.eu/api/retrieve/v1/jobs/d8a971ad-d79d-4d6a-939a-b4e3d87f6a0a/results\n",
      "The job has failed.\n",
      "The job failed with: RoocsRuntimeError\n",
      "Trying MIROC6 | r2i1p1f1 for Ormonde Offshore Wind Farm\n"
     ]
    },
    {
     "name": "stderr",
     "output_type": "stream",
     "text": [
      "2025-04-12 20:45:20,535 INFO Request ID is cfb2c471-af80-4040-8ce2-3e5b70f640e3\n",
      "2025-04-12 20:45:20,662 INFO status has been updated to accepted\n",
      "2025-04-12 20:45:35,283 INFO status has been updated to running\n",
      "2025-04-12 20:45:43,059 INFO status has been updated to accepted\n",
      "2025-04-12 20:45:54,573 INFO status has been updated to failed\n"
     ]
    },
    {
     "name": "stdout",
     "output_type": "stream",
     "text": [
      "❌ Failed: MIROC6 | r2i1p1f1\n",
      "Error downloading data for Ormonde Offshore Wind Farm: 400 Client Error: Bad Request for url: https://cds.climate.copernicus.eu/api/retrieve/v1/jobs/cfb2c471-af80-4040-8ce2-3e5b70f640e3/results\n",
      "The job has failed.\n",
      "The job failed with: RoocsRuntimeError\n",
      "Trying MIROC6 | r3i1p1f1 for Ormonde Offshore Wind Farm\n"
     ]
    },
    {
     "name": "stderr",
     "output_type": "stream",
     "text": [
      "2025-04-12 20:45:56,273 INFO Request ID is 6d08d8dc-edfa-497f-aedf-9d1da620edde\n",
      "2025-04-12 20:45:56,582 INFO status has been updated to accepted\n",
      "2025-04-12 20:46:05,379 INFO status has been updated to running\n",
      "2025-04-12 20:46:18,298 INFO status has been updated to failed\n"
     ]
    },
    {
     "name": "stdout",
     "output_type": "stream",
     "text": [
      "❌ Failed: MIROC6 | r3i1p1f1\n",
      "Error downloading data for Ormonde Offshore Wind Farm: 400 Client Error: Bad Request for url: https://cds.climate.copernicus.eu/api/retrieve/v1/jobs/6d08d8dc-edfa-497f-aedf-9d1da620edde/results\n",
      "The job has failed.\n",
      "The job failed with: RoocsRuntimeError\n",
      "Processing Race Bank Offshore Wind Farm at coordinates (573300, 363000)\n",
      "Trying HadGEM3-GC31-LL | r1i1p1f1 for Race Bank Offshore Wind Farm\n"
     ]
    },
    {
     "name": "stderr",
     "output_type": "stream",
     "text": [
      "2025-04-12 20:46:19,289 INFO Request ID is 3e377ec3-3853-4a8f-94e4-7732e9f92c6e\n",
      "2025-04-12 20:46:19,423 INFO status has been updated to accepted\n",
      "2025-04-12 20:46:35,576 INFO status has been updated to running\n",
      "2025-04-12 20:46:43,274 INFO status has been updated to successful\n"
     ]
    },
    {
     "data": {
      "application/vnd.jupyter.widget-view+json": {
       "model_id": "50cc331dee6c451ea22dee286ef0174d",
       "version_major": 2,
       "version_minor": 0
      },
      "text/plain": [
       "987f1c4cb600e86621f7f9f3e666302b.zip:   0%|          | 0.00/267k [00:00<?, ?B/s]"
      ]
     },
     "metadata": {},
     "output_type": "display_data"
    },
    {
     "name": "stdout",
     "output_type": "stream",
     "text": [
      "✅ Success: HadGEM3-GC31-LL | r1i1p1f1\n",
      "Processing Rampion Offshore Wind Farm at coordinates (528790, 83836)\n",
      "Trying HadGEM3-GC31-LL | r1i1p1f1 for Rampion Offshore Wind Farm\n"
     ]
    },
    {
     "name": "stderr",
     "output_type": "stream",
     "text": [
      "2025-04-12 20:46:46,449 INFO Request ID is d7cac23f-3888-47d0-8fc3-80f0fc978bf4\n",
      "2025-04-12 20:46:46,597 INFO status has been updated to accepted\n",
      "2025-04-12 20:46:55,560 INFO status has been updated to running\n",
      "2025-04-12 20:47:08,668 INFO status has been updated to failed\n"
     ]
    },
    {
     "name": "stdout",
     "output_type": "stream",
     "text": [
      "❌ Failed: HadGEM3-GC31-LL | r1i1p1f1\n",
      "Error downloading data for Rampion Offshore Wind Farm: 400 Client Error: Bad Request for url: https://cds.climate.copernicus.eu/api/retrieve/v1/jobs/d7cac23f-3888-47d0-8fc3-80f0fc978bf4/results\n",
      "The job has failed.\n",
      "The job failed with: RoocsRuntimeError\n",
      "Trying HadGEM3-GC31-LL | r2i1p1f1 for Rampion Offshore Wind Farm\n"
     ]
    },
    {
     "name": "stderr",
     "output_type": "stream",
     "text": [
      "2025-04-12 20:47:10,001 INFO Request ID is 45fb162e-ad73-4f60-b8b2-ad2319e6bf7c\n",
      "2025-04-12 20:47:10,209 INFO status has been updated to accepted\n",
      "2025-04-12 20:47:24,710 INFO status has been updated to running\n",
      "2025-04-12 20:47:32,772 INFO status has been updated to failed\n"
     ]
    },
    {
     "name": "stdout",
     "output_type": "stream",
     "text": [
      "❌ Failed: HadGEM3-GC31-LL | r2i1p1f1\n",
      "Error downloading data for Rampion Offshore Wind Farm: 400 Client Error: Bad Request for url: https://cds.climate.copernicus.eu/api/retrieve/v1/jobs/45fb162e-ad73-4f60-b8b2-ad2319e6bf7c/results\n",
      "The job has failed.\n",
      "The job failed with: RoocsRuntimeError\n",
      "Trying HadGEM3-GC31-LL | r3i1p1f1 for Rampion Offshore Wind Farm\n"
     ]
    },
    {
     "name": "stderr",
     "output_type": "stream",
     "text": [
      "Recovering from connection error [('Connection aborted.', RemoteDisconnected('Remote end closed connection without response'))], attempt 1 of 500\n",
      "Retrying in 120 seconds\n",
      "2025-04-12 20:51:46,974 INFO Request ID is f082faa0-77d2-484b-8397-86ea69d182db\n",
      "2025-04-12 20:51:47,082 INFO status has been updated to accepted\n",
      "2025-04-12 20:52:01,792 INFO status has been updated to running\n",
      "2025-04-12 20:52:09,926 INFO status has been updated to failed\n"
     ]
    },
    {
     "name": "stdout",
     "output_type": "stream",
     "text": [
      "❌ Failed: HadGEM3-GC31-LL | r3i1p1f1\n",
      "Error downloading data for Rampion Offshore Wind Farm: 400 Client Error: Bad Request for url: https://cds.climate.copernicus.eu/api/retrieve/v1/jobs/f082faa0-77d2-484b-8397-86ea69d182db/results\n",
      "The job has failed.\n",
      "The job failed with: RoocsRuntimeError\n",
      "Trying CNRM-CM6-1 | r1i1p1f1 for Rampion Offshore Wind Farm\n"
     ]
    },
    {
     "name": "stderr",
     "output_type": "stream",
     "text": [
      "2025-04-12 20:52:11,668 INFO Request ID is 969f84d1-0194-4032-aaf9-d1b7c53b17da\n",
      "2025-04-12 20:52:11,873 INFO status has been updated to accepted\n",
      "2025-04-12 20:52:21,366 INFO status has been updated to running\n",
      "2025-04-12 20:52:34,339 INFO status has been updated to successful\n"
     ]
    },
    {
     "data": {
      "application/vnd.jupyter.widget-view+json": {
       "model_id": "a272602bab4446c09bf92ba4b33d87c2",
       "version_major": 2,
       "version_minor": 0
      },
      "text/plain": [
       "13e30fa5dfc3d0e7d56894ebe0b8c1c.zip:   0%|          | 0.00/262k [00:00<?, ?B/s]"
      ]
     },
     "metadata": {},
     "output_type": "display_data"
    },
    {
     "name": "stdout",
     "output_type": "stream",
     "text": [
      "✅ Success: CNRM-CM6-1 | r1i1p1f1\n",
      "Processing Sheringham Shoals Wind Farm at coordinates (610671, 364425)\n",
      "Trying HadGEM3-GC31-LL | r1i1p1f1 for Sheringham Shoals Wind Farm\n"
     ]
    },
    {
     "name": "stderr",
     "output_type": "stream",
     "text": [
      "2025-04-12 20:52:37,366 INFO Request ID is cdb8421a-b0be-45ba-b872-ecc43a420610\n",
      "2025-04-12 20:52:37,698 INFO status has been updated to accepted\n",
      "2025-04-12 20:52:52,391 INFO status has been updated to running\n",
      "2025-04-12 20:53:00,099 INFO status has been updated to successful\n"
     ]
    },
    {
     "data": {
      "application/vnd.jupyter.widget-view+json": {
       "model_id": "3d0d517416a047168ff29320cb4da81d",
       "version_major": 2,
       "version_minor": 0
      },
      "text/plain": [
       "fb02dea1763b2e74cca9661cf15e65d4.zip: 0.00B [00:00, ?B/s]"
      ]
     },
     "metadata": {},
     "output_type": "display_data"
    },
    {
     "name": "stdout",
     "output_type": "stream",
     "text": [
      "✅ Success: HadGEM3-GC31-LL | r1i1p1f1\n",
      "Processing Thanet Offshore Wind Farm at coordinates (652658, 176367)\n",
      "Trying HadGEM3-GC31-LL | r1i1p1f1 for Thanet Offshore Wind Farm\n"
     ]
    },
    {
     "name": "stderr",
     "output_type": "stream",
     "text": [
      "2025-04-12 20:53:03,174 INFO Request ID is 5c937fc0-950a-4462-825c-b3657b39794a\n",
      "2025-04-12 20:53:03,285 INFO status has been updated to accepted\n",
      "2025-04-12 20:53:12,390 INFO status has been updated to running\n",
      "2025-04-12 20:53:25,498 INFO status has been updated to failed\n"
     ]
    },
    {
     "name": "stdout",
     "output_type": "stream",
     "text": [
      "❌ Failed: HadGEM3-GC31-LL | r1i1p1f1\n",
      "Error downloading data for Thanet Offshore Wind Farm: 400 Client Error: Bad Request for url: https://cds.climate.copernicus.eu/api/retrieve/v1/jobs/5c937fc0-950a-4462-825c-b3657b39794a/results\n",
      "The job has failed.\n",
      "The job failed with: RoocsRuntimeError\n",
      "Trying HadGEM3-GC31-LL | r2i1p1f1 for Thanet Offshore Wind Farm\n"
     ]
    },
    {
     "name": "stderr",
     "output_type": "stream",
     "text": [
      "2025-04-12 20:53:26,932 INFO Request ID is 3bed18c3-1da6-4103-baa1-479d2a5a5add\n",
      "2025-04-12 20:53:27,340 INFO status has been updated to accepted\n",
      "2025-04-12 20:53:41,309 INFO status has been updated to running\n",
      "2025-04-12 20:53:49,001 INFO status has been updated to failed\n"
     ]
    },
    {
     "name": "stdout",
     "output_type": "stream",
     "text": [
      "❌ Failed: HadGEM3-GC31-LL | r2i1p1f1\n",
      "Error downloading data for Thanet Offshore Wind Farm: 400 Client Error: Bad Request for url: https://cds.climate.copernicus.eu/api/retrieve/v1/jobs/3bed18c3-1da6-4103-baa1-479d2a5a5add/results\n",
      "The job has failed.\n",
      "The job failed with: RoocsRuntimeError\n",
      "Trying HadGEM3-GC31-LL | r3i1p1f1 for Thanet Offshore Wind Farm\n"
     ]
    },
    {
     "name": "stderr",
     "output_type": "stream",
     "text": [
      "2025-04-12 20:53:50,482 INFO Request ID is 57852d03-4fc5-4ac5-9d69-d846bc26d158\n",
      "2025-04-12 20:53:50,602 INFO status has been updated to accepted\n",
      "2025-04-12 20:53:59,490 INFO status has been updated to running\n",
      "2025-04-12 20:54:23,901 INFO status has been updated to failed\n"
     ]
    },
    {
     "name": "stdout",
     "output_type": "stream",
     "text": [
      "❌ Failed: HadGEM3-GC31-LL | r3i1p1f1\n",
      "Error downloading data for Thanet Offshore Wind Farm: 400 Client Error: Bad Request for url: https://cds.climate.copernicus.eu/api/retrieve/v1/jobs/57852d03-4fc5-4ac5-9d69-d846bc26d158/results\n",
      "The job has failed.\n",
      "The job failed with: RoocsRuntimeError\n",
      "Trying CNRM-CM6-1 | r1i1p1f1 for Thanet Offshore Wind Farm\n"
     ]
    },
    {
     "name": "stderr",
     "output_type": "stream",
     "text": [
      "2025-04-12 20:54:24,890 INFO Request ID is f174690f-82ba-4f94-be13-4f6d77ea5b2c\n",
      "2025-04-12 20:54:24,984 INFO status has been updated to accepted\n",
      "2025-04-12 20:55:15,422 INFO status has been updated to successful\n"
     ]
    },
    {
     "data": {
      "application/vnd.jupyter.widget-view+json": {
       "model_id": "229628f6e3574ae29563b1e0b351e5c5",
       "version_major": 2,
       "version_minor": 0
      },
      "text/plain": [
       "1c51b8cafe43ca2a7f7125d6fab6529d.zip:   0%|          | 0.00/262k [00:00<?, ?B/s]"
      ]
     },
     "metadata": {},
     "output_type": "display_data"
    },
    {
     "name": "stdout",
     "output_type": "stream",
     "text": [
      "✅ Success: CNRM-CM6-1 | r1i1p1f1\n",
      "Processing Walney Offshore Wind Farm at coordinates (286289, 467410)\n",
      "Trying HadGEM3-GC31-LL | r1i1p1f1 for Walney Offshore Wind Farm\n"
     ]
    },
    {
     "name": "stderr",
     "output_type": "stream",
     "text": [
      "2025-04-12 20:55:18,983 INFO Request ID is fac721b3-f196-4702-a789-b93446fffd93\n",
      "2025-04-12 20:55:19,092 INFO status has been updated to accepted\n",
      "2025-04-12 20:55:28,049 INFO status has been updated to running\n",
      "2025-04-12 20:55:33,267 INFO status has been updated to failed\n"
     ]
    },
    {
     "name": "stdout",
     "output_type": "stream",
     "text": [
      "❌ Failed: HadGEM3-GC31-LL | r1i1p1f1\n",
      "Error downloading data for Walney Offshore Wind Farm: 400 Client Error: Bad Request for url: https://cds.climate.copernicus.eu/api/retrieve/v1/jobs/fac721b3-f196-4702-a789-b93446fffd93/results\n",
      "The job has failed.\n",
      "The job failed with: RoocsRuntimeError\n",
      "Trying HadGEM3-GC31-LL | r2i1p1f1 for Walney Offshore Wind Farm\n"
     ]
    },
    {
     "name": "stderr",
     "output_type": "stream",
     "text": [
      "2025-04-12 20:55:34,723 INFO Request ID is f1c3f6f5-e91a-44e4-91ae-22d2302bf449\n",
      "2025-04-12 20:55:34,828 INFO status has been updated to accepted\n",
      "2025-04-12 20:55:43,644 INFO status has been updated to running\n",
      "2025-04-12 20:55:56,524 INFO status has been updated to failed\n"
     ]
    },
    {
     "name": "stdout",
     "output_type": "stream",
     "text": [
      "❌ Failed: HadGEM3-GC31-LL | r2i1p1f1\n",
      "Error downloading data for Walney Offshore Wind Farm: 400 Client Error: Bad Request for url: https://cds.climate.copernicus.eu/api/retrieve/v1/jobs/f1c3f6f5-e91a-44e4-91ae-22d2302bf449/results\n",
      "The job has failed.\n",
      "The job failed with: RoocsRuntimeError\n",
      "Trying HadGEM3-GC31-LL | r3i1p1f1 for Walney Offshore Wind Farm\n"
     ]
    },
    {
     "name": "stderr",
     "output_type": "stream",
     "text": [
      "2025-04-12 20:55:57,473 INFO Request ID is 9eb908f0-b719-4239-80b6-ac89c39415f8\n",
      "2025-04-12 20:55:57,724 INFO status has been updated to accepted\n",
      "2025-04-12 20:56:12,374 INFO status has been updated to running\n",
      "2025-04-12 20:56:21,407 INFO status has been updated to failed\n"
     ]
    },
    {
     "name": "stdout",
     "output_type": "stream",
     "text": [
      "❌ Failed: HadGEM3-GC31-LL | r3i1p1f1\n",
      "Error downloading data for Walney Offshore Wind Farm: 400 Client Error: Bad Request for url: https://cds.climate.copernicus.eu/api/retrieve/v1/jobs/9eb908f0-b719-4239-80b6-ac89c39415f8/results\n",
      "The job has failed.\n",
      "The job failed with: RoocsRuntimeError\n",
      "Trying CNRM-CM6-1 | r1i1p1f1 for Walney Offshore Wind Farm\n"
     ]
    },
    {
     "name": "stderr",
     "output_type": "stream",
     "text": [
      "2025-04-12 20:56:26,582 INFO Request ID is ea4c3bf4-542b-47cb-9459-11ccdecbd608\n",
      "2025-04-12 20:56:26,699 INFO status has been updated to accepted\n",
      "2025-04-12 20:56:35,612 INFO status has been updated to running\n",
      "2025-04-12 20:56:48,532 INFO status has been updated to successful\n"
     ]
    },
    {
     "data": {
      "application/vnd.jupyter.widget-view+json": {
       "model_id": "065215299be34f32b72bd2871f86e609",
       "version_major": 2,
       "version_minor": 0
      },
      "text/plain": [
       "42c86e4664ce3f9bd82fe73c816491c8.zip:   0%|          | 0.00/260k [00:00<?, ?B/s]"
      ]
     },
     "metadata": {},
     "output_type": "display_data"
    },
    {
     "name": "stdout",
     "output_type": "stream",
     "text": [
      "✅ Success: CNRM-CM6-1 | r1i1p1f1\n",
      "Processing Westermost Rough Wind Farm at coordinates (571600, 358680)\n",
      "Trying HadGEM3-GC31-LL | r1i1p1f1 for Westermost Rough Wind Farm\n"
     ]
    },
    {
     "name": "stderr",
     "output_type": "stream",
     "text": [
      "2025-04-12 20:56:51,732 INFO Request ID is ccdb37b9-7889-46be-bf79-8198a76ab746\n",
      "2025-04-12 20:56:51,932 INFO status has been updated to accepted\n",
      "2025-04-12 20:57:00,937 INFO status has been updated to running\n",
      "2025-04-12 20:57:06,152 INFO status has been updated to successful\n"
     ]
    },
    {
     "data": {
      "application/vnd.jupyter.widget-view+json": {
       "model_id": "3ed72502f10147e48f582b85a27c18ae",
       "version_major": 2,
       "version_minor": 0
      },
      "text/plain": [
       "9ef4005b27108bc8159eb199fa001efc.zip:   0%|          | 0.00/268k [00:00<?, ?B/s]"
      ]
     },
     "metadata": {},
     "output_type": "display_data"
    },
    {
     "name": "stdout",
     "output_type": "stream",
     "text": [
      "✅ Success: HadGEM3-GC31-LL | r1i1p1f1\n",
      "Processing West of Duddon Sands Offshore Wind Farm at coordinates (304230, 455334)\n",
      "Trying HadGEM3-GC31-LL | r1i1p1f1 for West of Duddon Sands Offshore Wind Farm\n"
     ]
    },
    {
     "name": "stderr",
     "output_type": "stream",
     "text": [
      "2025-04-12 20:57:08,728 INFO Request ID is 74f78c3a-7b02-43cf-bcda-2538c2397df0\n",
      "2025-04-12 20:57:09,102 INFO status has been updated to accepted\n",
      "2025-04-12 20:57:23,625 INFO status has been updated to running\n",
      "2025-04-12 20:57:31,349 INFO status has been updated to failed\n"
     ]
    },
    {
     "name": "stdout",
     "output_type": "stream",
     "text": [
      "❌ Failed: HadGEM3-GC31-LL | r1i1p1f1\n",
      "Error downloading data for West of Duddon Sands Offshore Wind Farm: 400 Client Error: Bad Request for url: https://cds.climate.copernicus.eu/api/retrieve/v1/jobs/74f78c3a-7b02-43cf-bcda-2538c2397df0/results\n",
      "The job has failed.\n",
      "The job failed with: RoocsRuntimeError\n",
      "Trying HadGEM3-GC31-LL | r2i1p1f1 for West of Duddon Sands Offshore Wind Farm\n"
     ]
    },
    {
     "name": "stderr",
     "output_type": "stream",
     "text": [
      "2025-04-12 20:57:32,273 INFO Request ID is adbb969c-856f-4fb9-b9f5-9e74797c45b9\n",
      "2025-04-12 20:57:32,386 INFO status has been updated to accepted\n",
      "2025-04-12 20:57:41,948 INFO status has been updated to running\n",
      "2025-04-12 20:58:06,358 INFO status has been updated to failed\n"
     ]
    },
    {
     "name": "stdout",
     "output_type": "stream",
     "text": [
      "❌ Failed: HadGEM3-GC31-LL | r2i1p1f1\n",
      "Error downloading data for West of Duddon Sands Offshore Wind Farm: 400 Client Error: Bad Request for url: https://cds.climate.copernicus.eu/api/retrieve/v1/jobs/adbb969c-856f-4fb9-b9f5-9e74797c45b9/results\n",
      "The job has failed.\n",
      "The job failed with: RoocsRuntimeError\n",
      "Trying HadGEM3-GC31-LL | r3i1p1f1 for West of Duddon Sands Offshore Wind Farm\n"
     ]
    },
    {
     "name": "stderr",
     "output_type": "stream",
     "text": [
      "2025-04-12 20:58:07,443 INFO Request ID is 0bd0894f-d2df-424c-8b6a-78d5e806a752\n",
      "2025-04-12 20:58:07,583 INFO status has been updated to accepted\n",
      "2025-04-12 20:58:16,330 INFO status has been updated to running\n",
      "2025-04-12 20:58:29,516 INFO status has been updated to failed\n"
     ]
    },
    {
     "name": "stdout",
     "output_type": "stream",
     "text": [
      "❌ Failed: HadGEM3-GC31-LL | r3i1p1f1\n",
      "Error downloading data for West of Duddon Sands Offshore Wind Farm: 400 Client Error: Bad Request for url: https://cds.climate.copernicus.eu/api/retrieve/v1/jobs/0bd0894f-d2df-424c-8b6a-78d5e806a752/results\n",
      "The job has failed.\n",
      "The job failed with: RoocsRuntimeError\n",
      "Trying CNRM-CM6-1 | r1i1p1f1 for West of Duddon Sands Offshore Wind Farm\n"
     ]
    },
    {
     "name": "stderr",
     "output_type": "stream",
     "text": [
      "2025-04-12 20:58:34,331 INFO Request ID is e4eda50c-7cd3-4192-add6-1c752430b877\n",
      "2025-04-12 20:58:34,748 INFO status has been updated to accepted\n",
      "2025-04-12 20:58:43,907 INFO status has been updated to running\n",
      "2025-04-12 20:58:56,781 INFO status has been updated to failed\n"
     ]
    },
    {
     "name": "stdout",
     "output_type": "stream",
     "text": [
      "❌ Failed: CNRM-CM6-1 | r1i1p1f1\n",
      "Error downloading data for West of Duddon Sands Offshore Wind Farm: 400 Client Error: Bad Request for url: https://cds.climate.copernicus.eu/api/retrieve/v1/jobs/e4eda50c-7cd3-4192-add6-1c752430b877/results\n",
      "The job has failed.\n",
      "The job failed with: RoocsRuntimeError\n",
      "Trying CNRM-CM6-1 | r2i1p1f1 for West of Duddon Sands Offshore Wind Farm\n"
     ]
    },
    {
     "name": "stderr",
     "output_type": "stream",
     "text": [
      "2025-04-12 20:58:58,290 INFO Request ID is 14e3a36c-06ed-4d2d-8d7e-376cc68ea5b8\n",
      "2025-04-12 20:58:58,431 INFO status has been updated to accepted\n",
      "2025-04-12 20:59:07,399 INFO status has been updated to running\n",
      "2025-04-12 20:59:20,722 INFO status has been updated to failed\n"
     ]
    },
    {
     "name": "stdout",
     "output_type": "stream",
     "text": [
      "❌ Failed: CNRM-CM6-1 | r2i1p1f1\n",
      "Error downloading data for West of Duddon Sands Offshore Wind Farm: 400 Client Error: Bad Request for url: https://cds.climate.copernicus.eu/api/retrieve/v1/jobs/14e3a36c-06ed-4d2d-8d7e-376cc68ea5b8/results\n",
      "The job has failed.\n",
      "The job failed with: RoocsRuntimeError\n",
      "Trying CNRM-CM6-1 | r3i1p1f1 for West of Duddon Sands Offshore Wind Farm\n"
     ]
    },
    {
     "name": "stderr",
     "output_type": "stream",
     "text": [
      "2025-04-12 20:59:22,358 INFO Request ID is 1aa753a5-4a11-446c-a1de-a3c6f087ba25\n",
      "2025-04-12 20:59:22,490 INFO status has been updated to accepted\n",
      "2025-04-12 20:59:36,470 INFO status has been updated to running\n",
      "2025-04-12 20:59:44,375 INFO status has been updated to failed\n"
     ]
    },
    {
     "name": "stdout",
     "output_type": "stream",
     "text": [
      "❌ Failed: CNRM-CM6-1 | r3i1p1f1\n",
      "Error downloading data for West of Duddon Sands Offshore Wind Farm: 400 Client Error: Bad Request for url: https://cds.climate.copernicus.eu/api/retrieve/v1/jobs/1aa753a5-4a11-446c-a1de-a3c6f087ba25/results\n",
      "The job has failed.\n",
      "The job failed with: RoocsRuntimeError\n",
      "Trying EC-Earth3 | r1i1p1f1 for West of Duddon Sands Offshore Wind Farm\n"
     ]
    },
    {
     "name": "stderr",
     "output_type": "stream",
     "text": [
      "2025-04-12 20:59:45,390 INFO Request ID is 6a913640-8046-4795-a9e1-5bf1b8a3a7eb\n",
      "2025-04-12 20:59:45,917 INFO status has been updated to accepted\n",
      "2025-04-12 20:59:54,499 INFO status has been updated to failed\n"
     ]
    },
    {
     "name": "stdout",
     "output_type": "stream",
     "text": [
      "❌ Failed: EC-Earth3 | r1i1p1f1\n",
      "Error downloading data for West of Duddon Sands Offshore Wind Farm: 400 Client Error: Bad Request for url: https://cds.climate.copernicus.eu/api/retrieve/v1/jobs/6a913640-8046-4795-a9e1-5bf1b8a3a7eb/results\n",
      "The job has failed.\n",
      "The job failed with: RoocsValueError\n",
      "Trying EC-Earth3 | r2i1p1f1 for West of Duddon Sands Offshore Wind Farm\n"
     ]
    },
    {
     "name": "stderr",
     "output_type": "stream",
     "text": [
      "2025-04-12 20:59:56,616 INFO Request ID is ab81e30f-0465-4ddc-96a8-48e7aaa800df\n",
      "2025-04-12 20:59:56,742 INFO status has been updated to accepted\n",
      "2025-04-12 21:00:05,420 INFO status has been updated to failed\n"
     ]
    },
    {
     "name": "stdout",
     "output_type": "stream",
     "text": [
      "❌ Failed: EC-Earth3 | r2i1p1f1\n",
      "Error downloading data for West of Duddon Sands Offshore Wind Farm: 400 Client Error: Bad Request for url: https://cds.climate.copernicus.eu/api/retrieve/v1/jobs/ab81e30f-0465-4ddc-96a8-48e7aaa800df/results\n",
      "The job has failed.\n",
      "The job failed with: RoocsValueError\n",
      "Trying EC-Earth3 | r3i1p1f1 for West of Duddon Sands Offshore Wind Farm\n"
     ]
    },
    {
     "name": "stderr",
     "output_type": "stream",
     "text": [
      "2025-04-12 21:00:06,499 INFO Request ID is 5ab7e881-3edb-4e58-86c4-ddfdb6540626\n",
      "2025-04-12 21:00:06,675 INFO status has been updated to accepted\n",
      "2025-04-12 21:00:20,519 INFO status has been updated to failed\n"
     ]
    },
    {
     "name": "stdout",
     "output_type": "stream",
     "text": [
      "❌ Failed: EC-Earth3 | r3i1p1f1\n",
      "Error downloading data for West of Duddon Sands Offshore Wind Farm: 400 Client Error: Bad Request for url: https://cds.climate.copernicus.eu/api/retrieve/v1/jobs/5ab7e881-3edb-4e58-86c4-ddfdb6540626/results\n",
      "The job has failed.\n",
      "The job failed with: RoocsValueError\n",
      "Trying MIROC6 | r1i1p1f1 for West of Duddon Sands Offshore Wind Farm\n"
     ]
    },
    {
     "name": "stderr",
     "output_type": "stream",
     "text": [
      "2025-04-12 21:00:21,650 INFO Request ID is 0ad2761d-11e0-472b-aefd-3ecdcb107f65\n",
      "2025-04-12 21:00:21,783 INFO status has been updated to accepted\n",
      "2025-04-12 21:00:30,358 INFO status has been updated to running\n",
      "2025-04-12 21:00:43,258 INFO status has been updated to failed\n"
     ]
    },
    {
     "name": "stdout",
     "output_type": "stream",
     "text": [
      "❌ Failed: MIROC6 | r1i1p1f1\n",
      "Error downloading data for West of Duddon Sands Offshore Wind Farm: 400 Client Error: Bad Request for url: https://cds.climate.copernicus.eu/api/retrieve/v1/jobs/0ad2761d-11e0-472b-aefd-3ecdcb107f65/results\n",
      "The job has failed.\n",
      "The job failed with: RoocsRuntimeError\n",
      "Trying MIROC6 | r2i1p1f1 for West of Duddon Sands Offshore Wind Farm\n"
     ]
    },
    {
     "name": "stderr",
     "output_type": "stream",
     "text": [
      "2025-04-12 21:00:44,075 INFO Request ID is 05b8e856-9c6a-4e8b-b96f-5fc56fe0e485\n",
      "2025-04-12 21:00:44,191 INFO status has been updated to accepted\n",
      "2025-04-12 21:00:58,051 INFO status has been updated to running\n",
      "2025-04-12 21:01:17,288 INFO status has been updated to failed\n"
     ]
    },
    {
     "name": "stdout",
     "output_type": "stream",
     "text": [
      "❌ Failed: MIROC6 | r2i1p1f1\n",
      "Error downloading data for West of Duddon Sands Offshore Wind Farm: 400 Client Error: Bad Request for url: https://cds.climate.copernicus.eu/api/retrieve/v1/jobs/05b8e856-9c6a-4e8b-b96f-5fc56fe0e485/results\n",
      "The job has failed.\n",
      "The job failed with: RoocsRuntimeError\n",
      "Trying MIROC6 | r3i1p1f1 for West of Duddon Sands Offshore Wind Farm\n"
     ]
    },
    {
     "name": "stderr",
     "output_type": "stream",
     "text": [
      "2025-04-12 21:01:18,376 INFO Request ID is 640d8c38-6830-4a0b-a9f2-afbf91081b4d\n",
      "2025-04-12 21:01:18,510 INFO status has been updated to accepted\n",
      "2025-04-12 21:01:27,312 INFO status has been updated to running\n",
      "2025-04-12 21:01:51,707 INFO status has been updated to failed\n"
     ]
    },
    {
     "name": "stdout",
     "output_type": "stream",
     "text": [
      "❌ Failed: MIROC6 | r3i1p1f1\n",
      "Error downloading data for West of Duddon Sands Offshore Wind Farm: 400 Client Error: Bad Request for url: https://cds.climate.copernicus.eu/api/retrieve/v1/jobs/640d8c38-6830-4a0b-a9f2-afbf91081b4d/results\n",
      "The job has failed.\n",
      "The job failed with: RoocsRuntimeError\n",
      "Processing Aberdeen Offshore Wind Farm at coordinates (395693, 806148)\n",
      "Trying HadGEM3-GC31-LL | r1i1p1f1 for Aberdeen Offshore Wind Farm\n"
     ]
    },
    {
     "name": "stderr",
     "output_type": "stream",
     "text": [
      "2025-04-12 21:01:53,133 INFO Request ID is 3cb1baae-c894-4549-a5ca-08958e8e6b93\n",
      "2025-04-12 21:01:54,011 INFO status has been updated to accepted\n",
      "2025-04-12 21:02:15,966 INFO status has been updated to running\n",
      "2025-04-12 21:02:27,645 INFO status has been updated to failed\n"
     ]
    },
    {
     "name": "stdout",
     "output_type": "stream",
     "text": [
      "❌ Failed: HadGEM3-GC31-LL | r1i1p1f1\n",
      "Error downloading data for Aberdeen Offshore Wind Farm: 400 Client Error: Bad Request for url: https://cds.climate.copernicus.eu/api/retrieve/v1/jobs/3cb1baae-c894-4549-a5ca-08958e8e6b93/results\n",
      "The job has failed.\n",
      "The job failed with: RoocsRuntimeError\n",
      "Trying HadGEM3-GC31-LL | r2i1p1f1 for Aberdeen Offshore Wind Farm\n"
     ]
    },
    {
     "name": "stderr",
     "output_type": "stream",
     "text": [
      "2025-04-12 21:02:29,233 INFO Request ID is ae348b2b-90cc-4ce5-91da-2118112e24fe\n",
      "2025-04-12 21:02:29,341 INFO status has been updated to accepted\n",
      "2025-04-12 21:02:43,473 INFO status has been updated to running\n",
      "2025-04-12 21:02:51,528 INFO status has been updated to failed\n"
     ]
    },
    {
     "name": "stdout",
     "output_type": "stream",
     "text": [
      "❌ Failed: HadGEM3-GC31-LL | r2i1p1f1\n",
      "Error downloading data for Aberdeen Offshore Wind Farm: 400 Client Error: Bad Request for url: https://cds.climate.copernicus.eu/api/retrieve/v1/jobs/ae348b2b-90cc-4ce5-91da-2118112e24fe/results\n",
      "The job has failed.\n",
      "The job failed with: RoocsRuntimeError\n",
      "Trying HadGEM3-GC31-LL | r3i1p1f1 for Aberdeen Offshore Wind Farm\n"
     ]
    },
    {
     "name": "stderr",
     "output_type": "stream",
     "text": [
      "2025-04-12 21:02:54,009 INFO Request ID is 1284c619-6be1-48bc-9305-9bc9958f70b2\n",
      "2025-04-12 21:02:54,117 INFO status has been updated to accepted\n",
      "2025-04-12 21:03:44,762 INFO status has been updated to failed\n"
     ]
    },
    {
     "name": "stdout",
     "output_type": "stream",
     "text": [
      "❌ Failed: HadGEM3-GC31-LL | r3i1p1f1\n",
      "Error downloading data for Aberdeen Offshore Wind Farm: 400 Client Error: Bad Request for url: https://cds.climate.copernicus.eu/api/retrieve/v1/jobs/1284c619-6be1-48bc-9305-9bc9958f70b2/results\n",
      "The job has failed.\n",
      "The job failed with: RoocsRuntimeError\n",
      "Trying CNRM-CM6-1 | r1i1p1f1 for Aberdeen Offshore Wind Farm\n"
     ]
    },
    {
     "name": "stderr",
     "output_type": "stream",
     "text": [
      "2025-04-12 21:03:46,258 INFO Request ID is d61aa913-99de-4f40-a908-ffa24076486b\n",
      "2025-04-12 21:03:46,376 INFO status has been updated to accepted\n",
      "2025-04-12 21:04:19,974 INFO status has been updated to failed\n"
     ]
    },
    {
     "name": "stdout",
     "output_type": "stream",
     "text": [
      "❌ Failed: CNRM-CM6-1 | r1i1p1f1\n",
      "Error downloading data for Aberdeen Offshore Wind Farm: 400 Client Error: Bad Request for url: https://cds.climate.copernicus.eu/api/retrieve/v1/jobs/d61aa913-99de-4f40-a908-ffa24076486b/results\n",
      "The job has failed.\n",
      "The job failed with: RoocsRuntimeError\n",
      "Trying CNRM-CM6-1 | r2i1p1f1 for Aberdeen Offshore Wind Farm\n"
     ]
    },
    {
     "name": "stderr",
     "output_type": "stream",
     "text": [
      "2025-04-12 21:04:21,060 INFO Request ID is 3b435878-bb96-45aa-9d25-a10de3ed7fe3\n",
      "2025-04-12 21:04:21,200 INFO status has been updated to accepted\n",
      "2025-04-12 21:04:34,934 INFO status has been updated to running\n",
      "2025-04-12 21:04:54,342 INFO status has been updated to failed\n"
     ]
    },
    {
     "name": "stdout",
     "output_type": "stream",
     "text": [
      "❌ Failed: CNRM-CM6-1 | r2i1p1f1\n",
      "Error downloading data for Aberdeen Offshore Wind Farm: 400 Client Error: Bad Request for url: https://cds.climate.copernicus.eu/api/retrieve/v1/jobs/3b435878-bb96-45aa-9d25-a10de3ed7fe3/results\n",
      "The job has failed.\n",
      "The job failed with: RoocsRuntimeError\n",
      "Trying CNRM-CM6-1 | r3i1p1f1 for Aberdeen Offshore Wind Farm\n"
     ]
    },
    {
     "name": "stderr",
     "output_type": "stream",
     "text": [
      "2025-04-12 21:04:55,567 INFO Request ID is 9183a09d-02d3-47a7-892f-d83b7a823dc0\n",
      "2025-04-12 21:04:55,772 INFO status has been updated to accepted\n",
      "2025-04-12 21:05:04,582 INFO status has been updated to running\n",
      "2025-04-12 21:05:17,605 INFO status has been updated to failed\n"
     ]
    },
    {
     "name": "stdout",
     "output_type": "stream",
     "text": [
      "❌ Failed: CNRM-CM6-1 | r3i1p1f1\n",
      "Error downloading data for Aberdeen Offshore Wind Farm: 400 Client Error: Bad Request for url: https://cds.climate.copernicus.eu/api/retrieve/v1/jobs/9183a09d-02d3-47a7-892f-d83b7a823dc0/results\n",
      "The job has failed.\n",
      "The job failed with: RoocsRuntimeError\n",
      "Trying EC-Earth3 | r1i1p1f1 for Aberdeen Offshore Wind Farm\n"
     ]
    },
    {
     "name": "stderr",
     "output_type": "stream",
     "text": [
      "2025-04-12 21:05:18,916 INFO Request ID is 09c90822-0724-4844-b0de-3351168b9e26\n",
      "2025-04-12 21:05:19,183 INFO status has been updated to accepted\n",
      "2025-04-12 21:05:33,352 INFO status has been updated to running\n",
      "2025-04-12 21:05:41,537 INFO status has been updated to failed\n"
     ]
    },
    {
     "name": "stdout",
     "output_type": "stream",
     "text": [
      "❌ Failed: EC-Earth3 | r1i1p1f1\n",
      "Error downloading data for Aberdeen Offshore Wind Farm: 400 Client Error: Bad Request for url: https://cds.climate.copernicus.eu/api/retrieve/v1/jobs/09c90822-0724-4844-b0de-3351168b9e26/results\n",
      "The job has failed.\n",
      "The job failed with: RoocsValueError\n",
      "Trying EC-Earth3 | r2i1p1f1 for Aberdeen Offshore Wind Farm\n"
     ]
    },
    {
     "name": "stderr",
     "output_type": "stream",
     "text": [
      "2025-04-12 21:05:42,667 INFO Request ID is 80b99bc2-9073-4f42-979e-788b5a2c4083\n",
      "2025-04-12 21:05:42,974 INFO status has been updated to accepted\n",
      "2025-04-12 21:05:56,927 INFO status has been updated to failed\n"
     ]
    },
    {
     "name": "stdout",
     "output_type": "stream",
     "text": [
      "❌ Failed: EC-Earth3 | r2i1p1f1\n",
      "Error downloading data for Aberdeen Offshore Wind Farm: 400 Client Error: Bad Request for url: https://cds.climate.copernicus.eu/api/retrieve/v1/jobs/80b99bc2-9073-4f42-979e-788b5a2c4083/results\n",
      "The job has failed.\n",
      "The job failed with: RoocsValueError\n",
      "Trying EC-Earth3 | r3i1p1f1 for Aberdeen Offshore Wind Farm\n"
     ]
    },
    {
     "name": "stderr",
     "output_type": "stream",
     "text": [
      "2025-04-12 21:05:58,533 INFO Request ID is 85929497-be8a-4833-95d3-12695de62478\n",
      "2025-04-12 21:05:58,650 INFO status has been updated to accepted\n",
      "2025-04-12 21:06:12,674 INFO status has been updated to running\n",
      "2025-04-12 21:06:20,441 INFO status has been updated to failed\n"
     ]
    },
    {
     "name": "stdout",
     "output_type": "stream",
     "text": [
      "❌ Failed: EC-Earth3 | r3i1p1f1\n",
      "Error downloading data for Aberdeen Offshore Wind Farm: 400 Client Error: Bad Request for url: https://cds.climate.copernicus.eu/api/retrieve/v1/jobs/85929497-be8a-4833-95d3-12695de62478/results\n",
      "The job has failed.\n",
      "The job failed with: RoocsValueError\n",
      "Trying MIROC6 | r1i1p1f1 for Aberdeen Offshore Wind Farm\n"
     ]
    },
    {
     "name": "stderr",
     "output_type": "stream",
     "text": [
      "2025-04-12 21:06:21,482 INFO Request ID is 95400c1e-79c7-46b2-9b35-8fa0b7380a75\n",
      "2025-04-12 21:06:21,683 INFO status has been updated to accepted\n",
      "2025-04-12 21:06:30,625 INFO status has been updated to running\n",
      "2025-04-12 21:06:43,800 INFO status has been updated to failed\n"
     ]
    },
    {
     "name": "stdout",
     "output_type": "stream",
     "text": [
      "❌ Failed: MIROC6 | r1i1p1f1\n",
      "Error downloading data for Aberdeen Offshore Wind Farm: 400 Client Error: Bad Request for url: https://cds.climate.copernicus.eu/api/retrieve/v1/jobs/95400c1e-79c7-46b2-9b35-8fa0b7380a75/results\n",
      "The job has failed.\n",
      "The job failed with: RoocsRuntimeError\n",
      "Trying MIROC6 | r2i1p1f1 for Aberdeen Offshore Wind Farm\n"
     ]
    },
    {
     "name": "stderr",
     "output_type": "stream",
     "text": [
      "2025-04-12 21:06:46,053 INFO Request ID is ed1b1891-ffd4-4ef2-9b3d-6325ed36b025\n",
      "2025-04-12 21:06:46,474 INFO status has been updated to accepted\n",
      "2025-04-12 21:06:55,276 INFO status has been updated to running\n",
      "2025-04-12 21:07:08,452 INFO status has been updated to failed\n"
     ]
    },
    {
     "name": "stdout",
     "output_type": "stream",
     "text": [
      "❌ Failed: MIROC6 | r2i1p1f1\n",
      "Error downloading data for Aberdeen Offshore Wind Farm: 400 Client Error: Bad Request for url: https://cds.climate.copernicus.eu/api/retrieve/v1/jobs/ed1b1891-ffd4-4ef2-9b3d-6325ed36b025/results\n",
      "The job has failed.\n",
      "The job failed with: RoocsRuntimeError\n",
      "Trying MIROC6 | r3i1p1f1 for Aberdeen Offshore Wind Farm\n"
     ]
    },
    {
     "name": "stderr",
     "output_type": "stream",
     "text": [
      "2025-04-12 21:07:09,860 INFO Request ID is 13e1df89-74a8-45b2-84fe-c646ad606e83\n",
      "2025-04-12 21:07:10,120 INFO status has been updated to accepted\n",
      "2025-04-12 21:07:18,927 INFO status has been updated to running\n",
      "2025-04-12 21:08:19,394 INFO status has been updated to failed\n"
     ]
    },
    {
     "name": "stdout",
     "output_type": "stream",
     "text": [
      "❌ Failed: MIROC6 | r3i1p1f1\n",
      "Error downloading data for Aberdeen Offshore Wind Farm: 400 Client Error: Bad Request for url: https://cds.climate.copernicus.eu/api/retrieve/v1/jobs/13e1df89-74a8-45b2-84fe-c646ad606e83/results\n",
      "The job has failed.\n",
      "The job failed with: RoocsRuntimeError\n",
      "Processing Beatrice Offshore Wind Farm at coordinates (344074, 911416)\n",
      "Trying HadGEM3-GC31-LL | r1i1p1f1 for Beatrice Offshore Wind Farm\n"
     ]
    },
    {
     "name": "stderr",
     "output_type": "stream",
     "text": [
      "2025-04-12 21:08:21,385 INFO Request ID is 891876ad-67c6-47d3-bcbb-c015524a1b8c\n",
      "2025-04-12 21:08:21,476 INFO status has been updated to accepted\n",
      "2025-04-12 21:08:43,926 INFO status has been updated to running\n",
      "2025-04-12 21:08:55,794 INFO status has been updated to successful\n"
     ]
    },
    {
     "data": {
      "application/vnd.jupyter.widget-view+json": {
       "model_id": "1b835280362447059b4773dab5755b16",
       "version_major": 2,
       "version_minor": 0
      },
      "text/plain": [
       "97dfe11eace019cca370ea3154e166b5.zip:   0%|          | 0.00/270k [00:00<?, ?B/s]"
      ]
     },
     "metadata": {},
     "output_type": "display_data"
    },
    {
     "name": "stdout",
     "output_type": "stream",
     "text": [
      "✅ Success: HadGEM3-GC31-LL | r1i1p1f1\n",
      "Processing East Anglia Offshore Wind Farm at coordinates (685500, 257000)\n",
      "Trying HadGEM3-GC31-LL | r1i1p1f1 for East Anglia Offshore Wind Farm\n"
     ]
    },
    {
     "name": "stderr",
     "output_type": "stream",
     "text": [
      "2025-04-12 21:08:58,352 INFO Request ID is 95a43bde-7c57-4a66-bd4d-a97c34189844\n",
      "2025-04-12 21:08:58,761 INFO status has been updated to accepted\n",
      "2025-04-12 21:09:49,045 INFO status has been updated to running\n",
      "2025-04-12 21:10:14,785 INFO status has been updated to failed\n"
     ]
    },
    {
     "name": "stdout",
     "output_type": "stream",
     "text": [
      "❌ Failed: HadGEM3-GC31-LL | r1i1p1f1\n",
      "Error downloading data for East Anglia Offshore Wind Farm: 400 Client Error: Bad Request for url: https://cds.climate.copernicus.eu/api/retrieve/v1/jobs/95a43bde-7c57-4a66-bd4d-a97c34189844/results\n",
      "The job has failed.\n",
      "The job failed with: RoocsRuntimeError\n",
      "Trying HadGEM3-GC31-LL | r2i1p1f1 for East Anglia Offshore Wind Farm\n"
     ]
    },
    {
     "name": "stderr",
     "output_type": "stream",
     "text": [
      "2025-04-12 21:10:19,036 INFO Request ID is 0ce8a7a9-8eb9-4180-a130-283ce70c992c\n",
      "2025-04-12 21:10:19,135 INFO status has been updated to accepted\n",
      "2025-04-12 21:10:34,662 INFO status has been updated to running\n",
      "2025-04-12 21:10:54,371 INFO status has been updated to failed\n"
     ]
    },
    {
     "name": "stdout",
     "output_type": "stream",
     "text": [
      "❌ Failed: HadGEM3-GC31-LL | r2i1p1f1\n",
      "Error downloading data for East Anglia Offshore Wind Farm: 400 Client Error: Bad Request for url: https://cds.climate.copernicus.eu/api/retrieve/v1/jobs/0ce8a7a9-8eb9-4180-a130-283ce70c992c/results\n",
      "The job has failed.\n",
      "The job failed with: RoocsRuntimeError\n",
      "Trying HadGEM3-GC31-LL | r3i1p1f1 for East Anglia Offshore Wind Farm\n"
     ]
    },
    {
     "name": "stderr",
     "output_type": "stream",
     "text": [
      "2025-04-12 21:10:56,134 INFO Request ID is b6e7d34c-754b-44fd-b571-8c061216bbe4\n",
      "2025-04-12 21:10:56,270 INFO status has been updated to accepted\n",
      "2025-04-12 21:11:17,910 INFO status has been updated to running\n",
      "2025-04-12 21:11:29,446 INFO status has been updated to failed\n"
     ]
    },
    {
     "name": "stdout",
     "output_type": "stream",
     "text": [
      "❌ Failed: HadGEM3-GC31-LL | r3i1p1f1\n",
      "Error downloading data for East Anglia Offshore Wind Farm: 400 Client Error: Bad Request for url: https://cds.climate.copernicus.eu/api/retrieve/v1/jobs/b6e7d34c-754b-44fd-b571-8c061216bbe4/results\n",
      "The job has failed.\n",
      "The job failed with: RoocsRuntimeError\n",
      "Trying CNRM-CM6-1 | r1i1p1f1 for East Anglia Offshore Wind Farm\n"
     ]
    },
    {
     "name": "stderr",
     "output_type": "stream",
     "text": [
      "2025-04-12 21:11:30,719 INFO Request ID is 2f30687a-b359-4342-a9d2-f4dd05f39f88\n",
      "2025-04-12 21:11:30,851 INFO status has been updated to accepted\n",
      "2025-04-12 21:11:39,634 INFO status has been updated to running\n",
      "2025-04-12 21:12:04,135 INFO status has been updated to failed\n"
     ]
    },
    {
     "name": "stdout",
     "output_type": "stream",
     "text": [
      "❌ Failed: CNRM-CM6-1 | r1i1p1f1\n",
      "Error downloading data for East Anglia Offshore Wind Farm: 400 Client Error: Bad Request for url: https://cds.climate.copernicus.eu/api/retrieve/v1/jobs/2f30687a-b359-4342-a9d2-f4dd05f39f88/results\n",
      "The job has failed.\n",
      "The job failed with: RoocsRuntimeError\n",
      "Trying CNRM-CM6-1 | r2i1p1f1 for East Anglia Offshore Wind Farm\n"
     ]
    },
    {
     "name": "stderr",
     "output_type": "stream",
     "text": [
      "2025-04-12 21:12:04,919 INFO Request ID is 5bd40942-f084-4e08-a8c4-9762be3788bc\n",
      "2025-04-12 21:12:05,018 INFO status has been updated to accepted\n",
      "2025-04-12 21:12:27,289 INFO status has been updated to running\n",
      "2025-04-12 21:12:38,930 INFO status has been updated to failed\n"
     ]
    },
    {
     "name": "stdout",
     "output_type": "stream",
     "text": [
      "❌ Failed: CNRM-CM6-1 | r2i1p1f1\n",
      "Error downloading data for East Anglia Offshore Wind Farm: 400 Client Error: Bad Request for url: https://cds.climate.copernicus.eu/api/retrieve/v1/jobs/5bd40942-f084-4e08-a8c4-9762be3788bc/results\n",
      "The job has failed.\n",
      "The job failed with: RoocsRuntimeError\n",
      "Trying CNRM-CM6-1 | r3i1p1f1 for East Anglia Offshore Wind Farm\n"
     ]
    },
    {
     "name": "stderr",
     "output_type": "stream",
     "text": [
      "2025-04-12 21:12:40,144 INFO Request ID is 1d463779-28d1-4939-9985-8dd8bb9ecb49\n",
      "2025-04-12 21:12:40,255 INFO status has been updated to accepted\n",
      "2025-04-12 21:12:54,388 INFO status has been updated to running\n",
      "2025-04-12 21:13:13,627 INFO status has been updated to failed\n"
     ]
    },
    {
     "name": "stdout",
     "output_type": "stream",
     "text": [
      "❌ Failed: CNRM-CM6-1 | r3i1p1f1\n",
      "Error downloading data for East Anglia Offshore Wind Farm: 400 Client Error: Bad Request for url: https://cds.climate.copernicus.eu/api/retrieve/v1/jobs/1d463779-28d1-4939-9985-8dd8bb9ecb49/results\n",
      "The job has failed.\n",
      "The job failed with: RoocsRuntimeError\n",
      "Trying EC-Earth3 | r1i1p1f1 for East Anglia Offshore Wind Farm\n"
     ]
    },
    {
     "name": "stderr",
     "output_type": "stream",
     "text": [
      "2025-04-12 21:13:15,789 INFO Request ID is 161a7309-f11c-45a1-8bdb-dc95a0d15954\n",
      "2025-04-12 21:13:16,084 INFO status has been updated to accepted\n",
      "2025-04-12 21:13:29,893 INFO status has been updated to running\n",
      "2025-04-12 21:13:37,626 INFO status has been updated to failed\n"
     ]
    },
    {
     "name": "stdout",
     "output_type": "stream",
     "text": [
      "❌ Failed: EC-Earth3 | r1i1p1f1\n",
      "Error downloading data for East Anglia Offshore Wind Farm: 400 Client Error: Bad Request for url: https://cds.climate.copernicus.eu/api/retrieve/v1/jobs/161a7309-f11c-45a1-8bdb-dc95a0d15954/results\n",
      "The job has failed.\n",
      "The job failed with: RoocsValueError\n",
      "Trying EC-Earth3 | r2i1p1f1 for East Anglia Offshore Wind Farm\n"
     ]
    },
    {
     "name": "stderr",
     "output_type": "stream",
     "text": [
      "2025-04-12 21:13:39,543 INFO Request ID is f9e4de69-0cb5-469f-acbe-5037edce228b\n",
      "2025-04-12 21:13:39,697 INFO status has been updated to accepted\n",
      "2025-04-12 21:13:54,086 INFO status has been updated to running\n",
      "2025-04-12 21:14:01,802 INFO status has been updated to failed\n"
     ]
    },
    {
     "name": "stdout",
     "output_type": "stream",
     "text": [
      "❌ Failed: EC-Earth3 | r2i1p1f1\n",
      "Error downloading data for East Anglia Offshore Wind Farm: 400 Client Error: Bad Request for url: https://cds.climate.copernicus.eu/api/retrieve/v1/jobs/f9e4de69-0cb5-469f-acbe-5037edce228b/results\n",
      "The job has failed.\n",
      "The job failed with: RoocsValueError\n",
      "Trying EC-Earth3 | r3i1p1f1 for East Anglia Offshore Wind Farm\n"
     ]
    },
    {
     "name": "stderr",
     "output_type": "stream",
     "text": [
      "2025-04-12 21:14:02,887 INFO Request ID is a76337c1-ff97-4b13-99c1-f40641f17868\n",
      "2025-04-12 21:14:02,994 INFO status has been updated to accepted\n",
      "2025-04-12 21:14:36,468 INFO status has been updated to running\n",
      "2025-04-12 21:14:53,711 INFO status has been updated to failed\n"
     ]
    },
    {
     "name": "stdout",
     "output_type": "stream",
     "text": [
      "❌ Failed: EC-Earth3 | r3i1p1f1\n",
      "Error downloading data for East Anglia Offshore Wind Farm: 400 Client Error: Bad Request for url: https://cds.climate.copernicus.eu/api/retrieve/v1/jobs/a76337c1-ff97-4b13-99c1-f40641f17868/results\n",
      "The job has failed.\n",
      "The job failed with: RoocsValueError\n",
      "Trying MIROC6 | r1i1p1f1 for East Anglia Offshore Wind Farm\n"
     ]
    },
    {
     "name": "stderr",
     "output_type": "stream",
     "text": [
      "2025-04-12 21:14:55,277 INFO Request ID is bb420428-b656-4488-9bcd-29f2fbaade17\n",
      "2025-04-12 21:14:55,443 INFO status has been updated to accepted\n",
      "2025-04-12 21:15:09,752 INFO status has been updated to running\n",
      "2025-04-12 21:15:17,653 INFO status has been updated to failed\n"
     ]
    },
    {
     "name": "stdout",
     "output_type": "stream",
     "text": [
      "❌ Failed: MIROC6 | r1i1p1f1\n",
      "Error downloading data for East Anglia Offshore Wind Farm: 400 Client Error: Bad Request for url: https://cds.climate.copernicus.eu/api/retrieve/v1/jobs/bb420428-b656-4488-9bcd-29f2fbaade17/results\n",
      "The job has failed.\n",
      "The job failed with: RoocsRuntimeError\n",
      "Trying MIROC6 | r2i1p1f1 for East Anglia Offshore Wind Farm\n"
     ]
    },
    {
     "name": "stderr",
     "output_type": "stream",
     "text": [
      "2025-04-12 21:15:18,892 INFO Request ID is f98000c5-4b44-41b9-9f20-28c7dbe55ea1\n",
      "2025-04-12 21:15:19,001 INFO status has been updated to accepted\n",
      "2025-04-12 21:15:33,996 INFO status has been updated to running\n",
      "2025-04-12 21:16:11,636 INFO status has been updated to failed\n"
     ]
    },
    {
     "name": "stdout",
     "output_type": "stream",
     "text": [
      "❌ Failed: MIROC6 | r2i1p1f1\n",
      "Error downloading data for East Anglia Offshore Wind Farm: 400 Client Error: Bad Request for url: https://cds.climate.copernicus.eu/api/retrieve/v1/jobs/f98000c5-4b44-41b9-9f20-28c7dbe55ea1/results\n",
      "The job has failed.\n",
      "The job failed with: RoocsRuntimeError\n",
      "Trying MIROC6 | r3i1p1f1 for East Anglia Offshore Wind Farm\n"
     ]
    },
    {
     "name": "stderr",
     "output_type": "stream",
     "text": [
      "2025-04-12 21:16:14,130 INFO Request ID is a95a3d45-a1a1-4598-bf3b-e7868cf005d4\n",
      "2025-04-12 21:16:14,604 INFO status has been updated to accepted\n",
      "2025-04-12 21:16:48,882 INFO status has been updated to running\n",
      "2025-04-12 21:17:31,986 INFO status has been updated to failed\n"
     ]
    },
    {
     "name": "stdout",
     "output_type": "stream",
     "text": [
      "❌ Failed: MIROC6 | r3i1p1f1\n",
      "Error downloading data for East Anglia Offshore Wind Farm: 400 Client Error: Bad Request for url: https://cds.climate.copernicus.eu/api/retrieve/v1/jobs/a95a3d45-a1a1-4598-bf3b-e7868cf005d4/results\n",
      "The job has failed.\n",
      "The job failed with: RoocsRuntimeError\n",
      "Processing Hornsea Offshore Wind Farm at coordinates (632326, 457349)\n",
      "Trying HadGEM3-GC31-LL | r1i1p1f1 for Hornsea Offshore Wind Farm\n"
     ]
    },
    {
     "name": "stderr",
     "output_type": "stream",
     "text": [
      "2025-04-12 21:17:33,402 INFO Request ID is bc115893-91af-4273-849b-aa2050350f48\n",
      "2025-04-12 21:17:33,568 INFO status has been updated to accepted\n",
      "2025-04-12 21:18:07,166 INFO status has been updated to successful\n"
     ]
    },
    {
     "data": {
      "application/vnd.jupyter.widget-view+json": {
       "model_id": "a831e58777ef4fb78547d99af2988510",
       "version_major": 2,
       "version_minor": 0
      },
      "text/plain": [
       "c04c5a567e1e8778e9a705f26c4ded12.zip:   0%|          | 0.00/270k [00:00<?, ?B/s]"
      ]
     },
     "metadata": {},
     "output_type": "display_data"
    },
    {
     "name": "stdout",
     "output_type": "stream",
     "text": [
      "✅ Success: HadGEM3-GC31-LL | r1i1p1f1\n",
      "Processing Triton Knoll Offshore Wind Farm at coordinates (591183, 372179)\n",
      "Trying HadGEM3-GC31-LL | r1i1p1f1 for Triton Knoll Offshore Wind Farm\n"
     ]
    },
    {
     "name": "stderr",
     "output_type": "stream",
     "text": [
      "2025-04-12 21:18:11,006 INFO Request ID is 904c9785-e423-4265-a2fb-8871f0ddcb91\n",
      "2025-04-12 21:18:11,309 INFO status has been updated to accepted\n",
      "2025-04-12 21:18:25,499 INFO status has been updated to running\n",
      "2025-04-12 21:18:33,242 INFO status has been updated to successful\n"
     ]
    },
    {
     "data": {
      "application/vnd.jupyter.widget-view+json": {
       "model_id": "a0a7f194db3841dda6a0941d3c1f1b93",
       "version_major": 2,
       "version_minor": 0
      },
      "text/plain": [
       "927716d4d9d168c11490aa4de69bd40c.zip:   0%|          | 0.00/270k [00:00<?, ?B/s]"
      ]
     },
     "metadata": {},
     "output_type": "display_data"
    },
    {
     "name": "stdout",
     "output_type": "stream",
     "text": [
      "✅ Success: HadGEM3-GC31-LL | r1i1p1f1\n"
     ]
    }
   ],
   "source": [
    "#UNCOMMENT EITHER OF THE LINES BELOW TO SWITCH BETWWEEN SSP126 AND SSP585 DATA\n",
    "\n",
    "experiment = 'ssp126'\n",
    "#experiment = 'ssp585'\n",
    "\n",
    "# Create a directory to store the data\n",
    "output_dir = r\"C:\\Users\\LGA\\Desktop\\UCL-ESDA coursework\\TERM 2\\BENV0148 - Advanced Machine Learning for Energy Systems\\Coursework\\Data\\gitclone\\BENV0148_Group_3\\Data\\projected_climate_data\\ssp126\"\n",
    "dataset = 'projections-cmip6'\n",
    "\n",
    "base_request1 = {\n",
    "                        'format': 'netcdf',\n",
    "                        'temporal_resolution': 'monthly',\n",
    "                        'experiment': experiment,\n",
    "                        'model': 'HadGEM3-GC31-LL',\n",
    "                        'ensemble_member': 'r1i1p1f1',\n",
    "                         'variable': [\n",
    "                                    'near_surface_air_temperature',\n",
    "                                    'eastward_near_surface_wind',\n",
    "                                    'northward_near_surface_wind',\n",
    "                                    'surface_air_pressure',\n",
    "                                    'specific_humidity'\n",
    "                                    ],\n",
    "                        'year': [str(y) for y in range(2025, 2046)],\n",
    "                        'month': [f'{m:02d}' for m in range(1, 13)],\n",
    "                    }\n",
    "c = cdsapi.Client()\n",
    "\n",
    "\n",
    "# Try a few models and ensemble members\n",
    "models = ['HadGEM3-GC31-LL', 'CNRM-CM6-1', 'EC-Earth3', 'MIROC6']\n",
    "ensemble_members = ['r1i1p1f1', 'r2i1p1f1', 'r3i1p1f1']\n",
    "\n",
    "\n",
    "unique_names = bmu_data_filtered[\"Common Name\"].unique()\n",
    "for farm_name in unique_names:\n",
    "    # Get the first row with this farm name\n",
    "    row = bmu_data_filtered[bmu_data_filtered['Common Name'] == farm_name].iloc[0]\n",
    "    \n",
    "    # Extract coordinates\n",
    "    x_coord = row['X-coordinate']\n",
    "    y_coord = row['Y-coordinate']\n",
    "\n",
    "    #Extract BMU-ID\n",
    "    bmu_id = row['Settlement BMU ID']\n",
    "    \n",
    "    # Skip if coordinates are missing\n",
    "    if pd.isna(x_coord) or pd.isna(y_coord):\n",
    "        print(f\"Skipping {farm_name} due to missing coordinates\")\n",
    "        continue\n",
    "    \n",
    "    print(f\"Processing {farm_name} at coordinates ({x_coord}, {y_coord})\")\n",
    "    \n",
    "    # Create a bounding box at CMIP native resolution\n",
    "    area_box = create_bounding_box(x_coord, y_coord, 1.25) # ERA5 resolution is 1.25 degrees\n",
    "    \n",
    "    # Create a custom request for this farm\n",
    "    farm_request = base_request1.copy()\n",
    "    farm_request[\"area\"] = area_box\n",
    "    \n",
    "    # Set output filename - clean up farm name for file safety\n",
    "    safe_farm_name = ''.join(c if c.isalnum() else '_' for c in farm_name)\n",
    "    target = os.path.join(output_dir, f\"{safe_farm_name}.nc\")\n",
    "\n",
    "    #For the given wind farm, try all models and ensemble members until one works\n",
    "    \n",
    "    success = False # set a flag to track if a compatible model+ensemble combination is found\n",
    "    # Loop through models and ensemble members\n",
    "    for model in models:\n",
    "        for ensemble in ensemble_members:\n",
    "            farm_request[\"model\"] = model\n",
    "            farm_request[\"ensemble_member\"] = ensemble\n",
    "\n",
    "            try:\n",
    "                print(f\"Trying {model} | {ensemble} for {farm_name}\")\n",
    "                c.retrieve(dataset, farm_request).download(target),\n",
    "                print(f\"✅ Success: {model} | {ensemble}\")\n",
    "                success = True\n",
    "            except Exception as e:\n",
    "                print(f\"❌ Failed: {model} | {ensemble}\")\n",
    "                print(f\"Error downloading data for {farm_name}: {str(e)}\")\n",
    "\n",
    "            if success:\n",
    "                break #if successful model+ensemble combination is found, move to next wind farm\n",
    "        if success:  #if successful model+ensemble combination is found, move to next wind farm\n",
    "            break\n"
   ]
  },
  {
   "cell_type": "markdown",
   "id": "16c80c44",
   "metadata": {},
   "source": [
    "#### **socio-economic pathway SSP5-8.5**\n",
    "\n",
    "Often called \"fossil fuel development\" (Business as usual) pathway, this scenario is characterized by little to no climate mitigation efforts, increased use of carbon-intensive fossil fuels driven by rapid econonc growth and energy demand, and continually increasing greenhouse gas (GHG) emissions leading to radiative forcing of 8.5W/m2 by 2100 (hence the name ssp8.5) or 4 degrees or more of warming by 2100, which violates the Paris accord agreements.\n"
   ]
  },
  {
   "cell_type": "markdown",
   "id": "f62afa5b",
   "metadata": {},
   "source": [
    "#### **socio-economic pathway SSP5-8.5**\n",
    "\n",
    "Often called \"fossil fuel development\" (Business as usual) pathway, this scenario is characterized by little to no climate mitigation efforts, increased use of carbon-intensive fossil fuels driven by rapid econonc growth and energy demand, and continually increasing greenhouse gas (GHG) emissions leading to radiative forcing of 8.5W/m2 by 2100 (hence the name ssp8.5) or 4 degrees or more of warming by 2100, which violates the Paris accord agreements.\n"
   ]
  },
  {
   "cell_type": "markdown",
   "id": "c4dc1ffd",
   "metadata": {},
   "source": [
    "#### **socio-economic pathway SSP5-8.5**\n",
    "\n",
    "Often called \"fossil fuel development\" (Business as usual) pathway, this scenario is characterized by little to no climate mitigation efforts, increased use of carbon-intensive fossil fuels driven by rapid econonc growth and energy demand, and continually increasing greenhouse gas (GHG) emissions leading to radiative forcing of 8.5W/m2 by 2100 (hence the name ssp8.5) or 4 degrees or more of warming by 2100, which violates the Paris accord agreements.\n"
   ]
  }
 ],
 "metadata": {
  "kernelspec": {
   "display_name": "Python 3",
   "language": "python",
   "name": "python3"
  },
  "language_info": {
   "codemirror_mode": {
    "name": "ipython",
    "version": 3
   },
   "file_extension": ".py",
   "mimetype": "text/x-python",
   "name": "python",
   "nbconvert_exporter": "python",
   "pygments_lexer": "ipython3",
   "version": "3.10.11"
  }
 },
 "nbformat": 4,
 "nbformat_minor": 5
}
